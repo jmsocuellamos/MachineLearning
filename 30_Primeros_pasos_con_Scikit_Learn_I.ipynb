{
  "nbformat": 4,
  "nbformat_minor": 0,
  "metadata": {
    "colab": {
      "provenance": [],
      "toc_visible": true
    },
    "kernelspec": {
      "name": "python3",
      "display_name": "Python 3"
    },
    "language_info": {
      "name": "python"
    },
    "gpuClass": "standard"
  },
  "cells": [
    {
      "cell_type": "markdown",
      "source": [
        "<small><img src=https://raw.githubusercontent.com/ia4legos/MachineLearning/main/images/IASAC-UMH.png width=\"450\" height=\"200\"></small>\n"
      ],
      "metadata": {
        "id": "2fjBUmuM-74y"
      }
    },
    {
      "cell_type": "markdown",
      "source": [
        "# <font color=\"steelblue\">30.Primeros pasos con Scikit-Learn I</font>\n",
        "\n",
        "**Autoría**: \n",
        "\n",
        "Fernando Borrás (f.borras@umh.es), Federico Botella (federico@umh.es),  Inés Hernández (ines.hernandezp@umh.es), Mª Asunción Martínez Mayoral (asun.mayoral@umh.es), Josep Moltó (j.molto@umh.es), Javier Morales (j.morales@umh.es) \n",
        "\n",
        "Departamento de Estadística, Matemáticas e Informática. \n",
        "\n",
        "Universidad Miguel Hernández de Elche. \n",
        "\n",
        "\n",
        "**Financiación**: El material que aparece a continuación se ha desarrollado dentro del marco del proyecto UNIDIGITAL- IASAC.\n",
        "\n",
        "**Fecha última edición**: 16/11/2022\n",
        "\n",
        "**Licencia**: <small><a rel=\"license\" href=\"http://creativecommons.org/licenses/by-sa/4.0/\"><img alt=\"Creative Commons License\" style=\"border-width:0\" src=\"https://i.creativecommons.org/l/by-sa/4.0/88x31.png\" /></a><br /></small>\n",
        "\n",
        "\n"
      ],
      "metadata": {
        "id": "-7whhErFzY9J"
      }
    },
    {
      "cell_type": "markdown",
      "source": [
        "# <font color=\"steelblue\">Introducción</font>\n",
        "\n",
        "**Descripción:** En este cuaderno introducimos el módulo Scikit-Learn que es el referente en los algoritmos de aprendizaje automático dentro del entorno Python, comentando los elementos base y el preprocesado de tablas de datos, así como la partición de muestras de entrenamiento y test y el preprocesado global con *pipe*.\n",
        "\n",
        "**Nivel de Formación:** A/**B**/C. Material para estudiantes de grado y postrago que desean introducirse en los procesos de Machine Learning o Aprendizaje Automático.\n",
        "\n",
        "**Recomendaciones antes de usarlo:** Conocimientos básicos del lenguaje Python, conceptos básicos de probabilidad y análisis exploratorio de datos.\n"
      ],
      "metadata": {
        "id": "Wt99G2Jk5jX4"
      }
    },
    {
      "cell_type": "markdown",
      "source": [
        "## <font color=\"steelblue\">Objetivos de aprendizaje</font>\n",
        "\n",
        "- Conocer los fundamentos de la librería Scikit-Learn para el preprocesado de bases de datos.\n",
        "- Descubrir el formato de los bancos de datos para su tratamiento con Scikit-Learn.\n",
        "- Identificar los tipos de variables en una base de datos.\n",
        "- Descubrir problemas en los datos que requieren un preprocesado para trabajar con modelos de aprendizaje automático.\n",
        "- Preprocesar la información en una base de datos, en función del tipo de variables.\n",
        "- Tratar los valores faltantes en un banco de datos.\n",
        "- Dividir la muestra en submuestras de entrenamiento y validación.\n",
        "- Preprocesar de modo integrado un banco de datos completo.\n"
      ],
      "metadata": {
        "id": "RFR2rYP4D9NF"
      }
    },
    {
      "cell_type": "markdown",
      "source": [
        "## <font color=\"steelblue\">Contenidos</font>\n",
        "\n",
        "1. Librería Scikit-Learn\n",
        "1. Tablas de datos en Scikit-Learn\n",
        "1. Preprocesado de datos\n",
        "  - Tipos de variables\n",
        "  - Valores perdidos\n",
        "  - Variables categóricas\n",
        "  - Variables numéricas\n",
        "  - División de muestras para entrenamiento y validación\n",
        "  - Preprocesado integral con *Pipeline*\n",
        "1. Referencias y enlaces de interés\n"
      ],
      "metadata": {
        "id": "LHTZkTXIEGFb"
      }
    },
    {
      "cell_type": "markdown",
      "source": [
        "# <font color=\"steelblue\">Preliminares</font>"
      ],
      "metadata": {
        "id": "g6FKH7MqDmpq"
      }
    },
    {
      "cell_type": "markdown",
      "source": [
        "## <font color=\"steelblue\">Librerías </font>\n",
        "\n",
        "Las librerías o módulos que precisamos en este cuaderno son:"
      ],
      "metadata": {
        "id": "244niXoWESD0"
      }
    },
    {
      "cell_type": "code",
      "source": [
        "from io import StringIO \n",
        "import sys\n",
        "import numpy as np      \n",
        "import pandas as pd     \n",
        "import math             \n",
        "\n",
        "%matplotlib inline\n",
        "import matplotlib.pyplot as plt \n",
        "import seaborn as sns "
      ],
      "metadata": {
        "id": "nqeU4325JlJ_"
      },
      "execution_count": null,
      "outputs": []
    },
    {
      "cell_type": "markdown",
      "source": [
        "## <font color=\"steelblue\">Bancos de datos</font>\n",
        "\n",
        "A continuación presentamos los bancos de datos que vamos a utilizar en este cuaderno, y se proporciona el código para cargarlos. Se puede consultar una descripción detallada en el cuaderno de introducción a los bancos de datos de trabajo."
      ],
      "metadata": {
        "id": "Odf637LRG_b1"
      }
    },
    {
      "cell_type": "markdown",
      "source": [
        "**stroke**: Este conjunto de datos se utiliza para predecir si un paciente tiene más o menos probabilidad de sufrir un ictus, en función de su género, edad, enfermedades y estatus de fumador. Cada fila en los datos proporciona información relevante sobre cada paciente. Las variables predictoras son `gender`, `age`, `hypertension`, `heart_disease`, `ever_married`, `work_type`, `Residence_type`, `avg_glucose_level`, `bmi`, `smoking_status`, mientras que la variable respuesta, que en este caso es categórica, es `stroke` con valores `Yes` y `No`."
      ],
      "metadata": {
        "id": "FFDNkZisWRnC"
      }
    },
    {
      "cell_type": "markdown",
      "source": [
        "**mushrooms**: La \"caza de setas\" (también conocida como \"shrooming\" en inglés) está disfrutando de nuevos picos de popularidad. Conocer qué características de las setas implican una muerte segura y en base a qué resultan más apetecibles, son aspectos de interés. Este conjunto de datos muestra las características de una muestra muy extensa de diferentes tipos de setas. En concreto se incluyen descripciones de 23 especies de setas con agallas de la familia *Agaricus* y *Lepiota*, extraídas de *The Audubon Society Field Guide to North American Mushrooms* (1981). Cada especie se identifica mediante la variable respuesta `classes`m con respuestas \"comestible\" y \"venenosa\".\n",
        "\n",
        "Las variables predictoras son `cap-shape`, `cap-surface`, `cap-color`, `bruises`, `gill-attachment`, `gill-spacing`, `gill-size`, `gill-color`, `stalk-shape`, `stalk-root`, `stalk-surface-above-ring`, `stalk-surface-below-ring`, `stalk-color-above-ring`, `stalk-color-below-ring`, `veil-type`, `veil-color`, `ring-number`, `ring-type`, `spore-print-color`, `population`, y `habitat`."
      ],
      "metadata": {
        "id": "WzoUJHYJX1UY"
      }
    },
    {
      "cell_type": "markdown",
      "source": [
        "**alcohol**: Los datos de consumo de alcohol entre adolescentes se obtuvieron en una encuesta realizada a los alumnos de los cursos de matemáticas y lengua portuguesa de enseñanza secundaria. Además de las variables referidas al consumo, se dispone de mucha información social, de género y de estudio, de interés sobre los estudiantes. En este caso no disponemos de variable respuesta.\n",
        "\n",
        "Las variables predictoras consideradas son `school`, `sex`, `age`, `address` , `famsize`, `Pstatus`, `Medu`, `Fedu`, `Mjob`, `Fjob`, `reason`,`guardian`, `traveltime`, `studytime`, `failures`, `schoolsup`, `famsup`, `paid`, `activities`, `nursery`, `higher`,  `internet`, `romantic`, `famrel`, `freetime`, `goout`, `Dalc`, `Walc`, `health`, `absences`, `G1`, `G2`, y `G3`."
      ],
      "metadata": {
        "id": "FVTEVrIqZwQC"
      }
    },
    {
      "cell_type": "markdown",
      "source": [
        "**winequality**: Este banco de datos trata de predecir la calidad (`quality`), medida en la escala discreta de 0 a 10, de las diferentes variantes rojas del vino portugués *Vinho Verde*, en función de diferentes variables fisicoquímicas (predictoras).\n",
        "\n",
        "Las variables fisicoquímicas consideradas son: `fixed acidity`, `volatile acidity`, `citric acid`, `residual sugar`, `chlorides`, `free sulfur dioxide`, `total sulfur dioxide`, `density`, `pH`, `sulphates`, y `alcohol`."
      ],
      "metadata": {
        "id": "XEcGpkRaZ1xa"
      }
    },
    {
      "cell_type": "markdown",
      "source": [
        "El código de lectura de los bancos de datos propuestos es:"
      ],
      "metadata": {
        "id": "euJBQN5UWC3r"
      }
    },
    {
      "cell_type": "code",
      "source": [
        "# CARGA DE LOS BANCOS DE DATOS EN EL CUADERNO\n",
        "# Stroke Prediction Dataset \n",
        "url = 'https://raw.githubusercontent.com/ia4legos/MachineLearning/main/data/stroke_ori.csv'\n",
        "stroke = pd.read_csv(url)\n",
        "# Mushroom classification\n",
        "url = 'https://raw.githubusercontent.com/ia4legos/MachineLearning/main/data/mushrooms.csv'\n",
        "mushrooms = pd.read_csv(url)\n",
        "# Student Alcohol Consumption\n",
        "url = 'https://raw.githubusercontent.com/ia4legos/MachineLearning/main/data/student-mat.csv'\n",
        "alcohol = pd.read_csv(url)\n",
        "# Winequality-red\n",
        "url = 'https://raw.githubusercontent.com/ia4legos/MachineLearning/main/data/winequality-red.csv'\n",
        "winequality = pd.read_csv(url)"
      ],
      "metadata": {
        "id": "cPNghZMuIFcn"
      },
      "execution_count": null,
      "outputs": []
    },
    {
      "cell_type": "code",
      "source": [
        "winequality.tail()"
      ],
      "metadata": {
        "colab": {
          "base_uri": "https://localhost:8080/",
          "height": 282
        },
        "id": "kPEiiaeisGVE",
        "outputId": "ebb651e3-4347-49d3-fbd7-111f902b2e83"
      },
      "execution_count": null,
      "outputs": [
        {
          "output_type": "execute_result",
          "data": {
            "text/plain": [
              "      fixed acidity  volatile acidity  citric acid  residual sugar  chlorides  \\\n",
              "1594            6.2             0.600         0.08             2.0      0.090   \n",
              "1595            5.9             0.550         0.10             2.2      0.062   \n",
              "1596            6.3             0.510         0.13             2.3      0.076   \n",
              "1597            5.9             0.645         0.12             2.0      0.075   \n",
              "1598            6.0             0.310         0.47             3.6      0.067   \n",
              "\n",
              "      free sulfur dioxide  total sulfur dioxide  density    pH  sulphates  \\\n",
              "1594                 32.0                  44.0  0.99490  3.45       0.58   \n",
              "1595                 39.0                  51.0  0.99512  3.52       0.76   \n",
              "1596                 29.0                  40.0  0.99574  3.42       0.75   \n",
              "1597                 32.0                  44.0  0.99547  3.57       0.71   \n",
              "1598                 18.0                  42.0  0.99549  3.39       0.66   \n",
              "\n",
              "      alcohol  quality  \n",
              "1594     10.5        5  \n",
              "1595     11.2        6  \n",
              "1596     11.0        6  \n",
              "1597     10.2        5  \n",
              "1598     11.0        6  "
            ],
            "text/html": [
              "\n",
              "  <div id=\"df-c2438c22-29fc-4771-aef8-e403d696881b\">\n",
              "    <div class=\"colab-df-container\">\n",
              "      <div>\n",
              "<style scoped>\n",
              "    .dataframe tbody tr th:only-of-type {\n",
              "        vertical-align: middle;\n",
              "    }\n",
              "\n",
              "    .dataframe tbody tr th {\n",
              "        vertical-align: top;\n",
              "    }\n",
              "\n",
              "    .dataframe thead th {\n",
              "        text-align: right;\n",
              "    }\n",
              "</style>\n",
              "<table border=\"1\" class=\"dataframe\">\n",
              "  <thead>\n",
              "    <tr style=\"text-align: right;\">\n",
              "      <th></th>\n",
              "      <th>fixed acidity</th>\n",
              "      <th>volatile acidity</th>\n",
              "      <th>citric acid</th>\n",
              "      <th>residual sugar</th>\n",
              "      <th>chlorides</th>\n",
              "      <th>free sulfur dioxide</th>\n",
              "      <th>total sulfur dioxide</th>\n",
              "      <th>density</th>\n",
              "      <th>pH</th>\n",
              "      <th>sulphates</th>\n",
              "      <th>alcohol</th>\n",
              "      <th>quality</th>\n",
              "    </tr>\n",
              "  </thead>\n",
              "  <tbody>\n",
              "    <tr>\n",
              "      <th>1594</th>\n",
              "      <td>6.2</td>\n",
              "      <td>0.600</td>\n",
              "      <td>0.08</td>\n",
              "      <td>2.0</td>\n",
              "      <td>0.090</td>\n",
              "      <td>32.0</td>\n",
              "      <td>44.0</td>\n",
              "      <td>0.99490</td>\n",
              "      <td>3.45</td>\n",
              "      <td>0.58</td>\n",
              "      <td>10.5</td>\n",
              "      <td>5</td>\n",
              "    </tr>\n",
              "    <tr>\n",
              "      <th>1595</th>\n",
              "      <td>5.9</td>\n",
              "      <td>0.550</td>\n",
              "      <td>0.10</td>\n",
              "      <td>2.2</td>\n",
              "      <td>0.062</td>\n",
              "      <td>39.0</td>\n",
              "      <td>51.0</td>\n",
              "      <td>0.99512</td>\n",
              "      <td>3.52</td>\n",
              "      <td>0.76</td>\n",
              "      <td>11.2</td>\n",
              "      <td>6</td>\n",
              "    </tr>\n",
              "    <tr>\n",
              "      <th>1596</th>\n",
              "      <td>6.3</td>\n",
              "      <td>0.510</td>\n",
              "      <td>0.13</td>\n",
              "      <td>2.3</td>\n",
              "      <td>0.076</td>\n",
              "      <td>29.0</td>\n",
              "      <td>40.0</td>\n",
              "      <td>0.99574</td>\n",
              "      <td>3.42</td>\n",
              "      <td>0.75</td>\n",
              "      <td>11.0</td>\n",
              "      <td>6</td>\n",
              "    </tr>\n",
              "    <tr>\n",
              "      <th>1597</th>\n",
              "      <td>5.9</td>\n",
              "      <td>0.645</td>\n",
              "      <td>0.12</td>\n",
              "      <td>2.0</td>\n",
              "      <td>0.075</td>\n",
              "      <td>32.0</td>\n",
              "      <td>44.0</td>\n",
              "      <td>0.99547</td>\n",
              "      <td>3.57</td>\n",
              "      <td>0.71</td>\n",
              "      <td>10.2</td>\n",
              "      <td>5</td>\n",
              "    </tr>\n",
              "    <tr>\n",
              "      <th>1598</th>\n",
              "      <td>6.0</td>\n",
              "      <td>0.310</td>\n",
              "      <td>0.47</td>\n",
              "      <td>3.6</td>\n",
              "      <td>0.067</td>\n",
              "      <td>18.0</td>\n",
              "      <td>42.0</td>\n",
              "      <td>0.99549</td>\n",
              "      <td>3.39</td>\n",
              "      <td>0.66</td>\n",
              "      <td>11.0</td>\n",
              "      <td>6</td>\n",
              "    </tr>\n",
              "  </tbody>\n",
              "</table>\n",
              "</div>\n",
              "      <button class=\"colab-df-convert\" onclick=\"convertToInteractive('df-c2438c22-29fc-4771-aef8-e403d696881b')\"\n",
              "              title=\"Convert this dataframe to an interactive table.\"\n",
              "              style=\"display:none;\">\n",
              "        \n",
              "  <svg xmlns=\"http://www.w3.org/2000/svg\" height=\"24px\"viewBox=\"0 0 24 24\"\n",
              "       width=\"24px\">\n",
              "    <path d=\"M0 0h24v24H0V0z\" fill=\"none\"/>\n",
              "    <path d=\"M18.56 5.44l.94 2.06.94-2.06 2.06-.94-2.06-.94-.94-2.06-.94 2.06-2.06.94zm-11 1L8.5 8.5l.94-2.06 2.06-.94-2.06-.94L8.5 2.5l-.94 2.06-2.06.94zm10 10l.94 2.06.94-2.06 2.06-.94-2.06-.94-.94-2.06-.94 2.06-2.06.94z\"/><path d=\"M17.41 7.96l-1.37-1.37c-.4-.4-.92-.59-1.43-.59-.52 0-1.04.2-1.43.59L10.3 9.45l-7.72 7.72c-.78.78-.78 2.05 0 2.83L4 21.41c.39.39.9.59 1.41.59.51 0 1.02-.2 1.41-.59l7.78-7.78 2.81-2.81c.8-.78.8-2.07 0-2.86zM5.41 20L4 18.59l7.72-7.72 1.47 1.35L5.41 20z\"/>\n",
              "  </svg>\n",
              "      </button>\n",
              "      \n",
              "  <style>\n",
              "    .colab-df-container {\n",
              "      display:flex;\n",
              "      flex-wrap:wrap;\n",
              "      gap: 12px;\n",
              "    }\n",
              "\n",
              "    .colab-df-convert {\n",
              "      background-color: #E8F0FE;\n",
              "      border: none;\n",
              "      border-radius: 50%;\n",
              "      cursor: pointer;\n",
              "      display: none;\n",
              "      fill: #1967D2;\n",
              "      height: 32px;\n",
              "      padding: 0 0 0 0;\n",
              "      width: 32px;\n",
              "    }\n",
              "\n",
              "    .colab-df-convert:hover {\n",
              "      background-color: #E2EBFA;\n",
              "      box-shadow: 0px 1px 2px rgba(60, 64, 67, 0.3), 0px 1px 3px 1px rgba(60, 64, 67, 0.15);\n",
              "      fill: #174EA6;\n",
              "    }\n",
              "\n",
              "    [theme=dark] .colab-df-convert {\n",
              "      background-color: #3B4455;\n",
              "      fill: #D2E3FC;\n",
              "    }\n",
              "\n",
              "    [theme=dark] .colab-df-convert:hover {\n",
              "      background-color: #434B5C;\n",
              "      box-shadow: 0px 1px 3px 1px rgba(0, 0, 0, 0.15);\n",
              "      filter: drop-shadow(0px 1px 2px rgba(0, 0, 0, 0.3));\n",
              "      fill: #FFFFFF;\n",
              "    }\n",
              "  </style>\n",
              "\n",
              "      <script>\n",
              "        const buttonEl =\n",
              "          document.querySelector('#df-c2438c22-29fc-4771-aef8-e403d696881b button.colab-df-convert');\n",
              "        buttonEl.style.display =\n",
              "          google.colab.kernel.accessAllowed ? 'block' : 'none';\n",
              "\n",
              "        async function convertToInteractive(key) {\n",
              "          const element = document.querySelector('#df-c2438c22-29fc-4771-aef8-e403d696881b');\n",
              "          const dataTable =\n",
              "            await google.colab.kernel.invokeFunction('convertToInteractive',\n",
              "                                                     [key], {});\n",
              "          if (!dataTable) return;\n",
              "\n",
              "          const docLinkHtml = 'Like what you see? Visit the ' +\n",
              "            '<a target=\"_blank\" href=https://colab.research.google.com/notebooks/data_table.ipynb>data table notebook</a>'\n",
              "            + ' to learn more about interactive tables.';\n",
              "          element.innerHTML = '';\n",
              "          dataTable['output_type'] = 'display_data';\n",
              "          await google.colab.output.renderOutput(dataTable, element);\n",
              "          const docLink = document.createElement('div');\n",
              "          docLink.innerHTML = docLinkHtml;\n",
              "          element.appendChild(docLink);\n",
              "        }\n",
              "      </script>\n",
              "    </div>\n",
              "  </div>\n",
              "  "
            ]
          },
          "metadata": {},
          "execution_count": 52
        }
      ]
    },
    {
      "cell_type": "code",
      "source": [
        "pd.value_counts(alcohol['traveltime'])"
      ],
      "metadata": {
        "colab": {
          "base_uri": "https://localhost:8080/"
        },
        "id": "cmh-lJUOMOLI",
        "outputId": "242a662d-9fcd-4dc3-f6ea-929f17322e09"
      },
      "execution_count": null,
      "outputs": [
        {
          "output_type": "execute_result",
          "data": {
            "text/plain": [
              "1    257\n",
              "2    107\n",
              "3     23\n",
              "4      8\n",
              "Name: traveltime, dtype: int64"
            ]
          },
          "metadata": {},
          "execution_count": 47
        }
      ]
    },
    {
      "cell_type": "code",
      "source": [
        "alcohol.tail()"
      ],
      "metadata": {
        "colab": {
          "base_uri": "https://localhost:8080/",
          "height": 297
        },
        "id": "racN_qc2do3b",
        "outputId": "36049013-cbbf-40f2-e958-b7d5f23fdd0a"
      },
      "execution_count": null,
      "outputs": [
        {
          "output_type": "execute_result",
          "data": {
            "text/plain": [
              "    school sex  age address famsize Pstatus  Medu  Fedu      Mjob      Fjob  \\\n",
              "390     MS   M   20       U     LE3       A     2     2  services  services   \n",
              "391     MS   M   17       U     LE3       T     3     1  services  services   \n",
              "392     MS   M   21       R     GT3       T     1     1     other     other   \n",
              "393     MS   M   18       R     LE3       T     3     2  services     other   \n",
              "394     MS   M   19       U     LE3       T     1     1     other   at_home   \n",
              "\n",
              "     ... famrel freetime  goout  Dalc  Walc health absences  G1  G2  G3  \n",
              "390  ...      5        5      4     4     5      4       11   9   9   9  \n",
              "391  ...      2        4      5     3     4      2        3  14  16  16  \n",
              "392  ...      5        5      3     3     3      3        3  10   8   7  \n",
              "393  ...      4        4      1     3     4      5        0  11  12  10  \n",
              "394  ...      3        2      3     3     3      5        5   8   9   9  \n",
              "\n",
              "[5 rows x 33 columns]"
            ],
            "text/html": [
              "\n",
              "  <div id=\"df-d01777de-2fdb-40fd-aac7-cf2fa7d709c1\">\n",
              "    <div class=\"colab-df-container\">\n",
              "      <div>\n",
              "<style scoped>\n",
              "    .dataframe tbody tr th:only-of-type {\n",
              "        vertical-align: middle;\n",
              "    }\n",
              "\n",
              "    .dataframe tbody tr th {\n",
              "        vertical-align: top;\n",
              "    }\n",
              "\n",
              "    .dataframe thead th {\n",
              "        text-align: right;\n",
              "    }\n",
              "</style>\n",
              "<table border=\"1\" class=\"dataframe\">\n",
              "  <thead>\n",
              "    <tr style=\"text-align: right;\">\n",
              "      <th></th>\n",
              "      <th>school</th>\n",
              "      <th>sex</th>\n",
              "      <th>age</th>\n",
              "      <th>address</th>\n",
              "      <th>famsize</th>\n",
              "      <th>Pstatus</th>\n",
              "      <th>Medu</th>\n",
              "      <th>Fedu</th>\n",
              "      <th>Mjob</th>\n",
              "      <th>Fjob</th>\n",
              "      <th>...</th>\n",
              "      <th>famrel</th>\n",
              "      <th>freetime</th>\n",
              "      <th>goout</th>\n",
              "      <th>Dalc</th>\n",
              "      <th>Walc</th>\n",
              "      <th>health</th>\n",
              "      <th>absences</th>\n",
              "      <th>G1</th>\n",
              "      <th>G2</th>\n",
              "      <th>G3</th>\n",
              "    </tr>\n",
              "  </thead>\n",
              "  <tbody>\n",
              "    <tr>\n",
              "      <th>390</th>\n",
              "      <td>MS</td>\n",
              "      <td>M</td>\n",
              "      <td>20</td>\n",
              "      <td>U</td>\n",
              "      <td>LE3</td>\n",
              "      <td>A</td>\n",
              "      <td>2</td>\n",
              "      <td>2</td>\n",
              "      <td>services</td>\n",
              "      <td>services</td>\n",
              "      <td>...</td>\n",
              "      <td>5</td>\n",
              "      <td>5</td>\n",
              "      <td>4</td>\n",
              "      <td>4</td>\n",
              "      <td>5</td>\n",
              "      <td>4</td>\n",
              "      <td>11</td>\n",
              "      <td>9</td>\n",
              "      <td>9</td>\n",
              "      <td>9</td>\n",
              "    </tr>\n",
              "    <tr>\n",
              "      <th>391</th>\n",
              "      <td>MS</td>\n",
              "      <td>M</td>\n",
              "      <td>17</td>\n",
              "      <td>U</td>\n",
              "      <td>LE3</td>\n",
              "      <td>T</td>\n",
              "      <td>3</td>\n",
              "      <td>1</td>\n",
              "      <td>services</td>\n",
              "      <td>services</td>\n",
              "      <td>...</td>\n",
              "      <td>2</td>\n",
              "      <td>4</td>\n",
              "      <td>5</td>\n",
              "      <td>3</td>\n",
              "      <td>4</td>\n",
              "      <td>2</td>\n",
              "      <td>3</td>\n",
              "      <td>14</td>\n",
              "      <td>16</td>\n",
              "      <td>16</td>\n",
              "    </tr>\n",
              "    <tr>\n",
              "      <th>392</th>\n",
              "      <td>MS</td>\n",
              "      <td>M</td>\n",
              "      <td>21</td>\n",
              "      <td>R</td>\n",
              "      <td>GT3</td>\n",
              "      <td>T</td>\n",
              "      <td>1</td>\n",
              "      <td>1</td>\n",
              "      <td>other</td>\n",
              "      <td>other</td>\n",
              "      <td>...</td>\n",
              "      <td>5</td>\n",
              "      <td>5</td>\n",
              "      <td>3</td>\n",
              "      <td>3</td>\n",
              "      <td>3</td>\n",
              "      <td>3</td>\n",
              "      <td>3</td>\n",
              "      <td>10</td>\n",
              "      <td>8</td>\n",
              "      <td>7</td>\n",
              "    </tr>\n",
              "    <tr>\n",
              "      <th>393</th>\n",
              "      <td>MS</td>\n",
              "      <td>M</td>\n",
              "      <td>18</td>\n",
              "      <td>R</td>\n",
              "      <td>LE3</td>\n",
              "      <td>T</td>\n",
              "      <td>3</td>\n",
              "      <td>2</td>\n",
              "      <td>services</td>\n",
              "      <td>other</td>\n",
              "      <td>...</td>\n",
              "      <td>4</td>\n",
              "      <td>4</td>\n",
              "      <td>1</td>\n",
              "      <td>3</td>\n",
              "      <td>4</td>\n",
              "      <td>5</td>\n",
              "      <td>0</td>\n",
              "      <td>11</td>\n",
              "      <td>12</td>\n",
              "      <td>10</td>\n",
              "    </tr>\n",
              "    <tr>\n",
              "      <th>394</th>\n",
              "      <td>MS</td>\n",
              "      <td>M</td>\n",
              "      <td>19</td>\n",
              "      <td>U</td>\n",
              "      <td>LE3</td>\n",
              "      <td>T</td>\n",
              "      <td>1</td>\n",
              "      <td>1</td>\n",
              "      <td>other</td>\n",
              "      <td>at_home</td>\n",
              "      <td>...</td>\n",
              "      <td>3</td>\n",
              "      <td>2</td>\n",
              "      <td>3</td>\n",
              "      <td>3</td>\n",
              "      <td>3</td>\n",
              "      <td>5</td>\n",
              "      <td>5</td>\n",
              "      <td>8</td>\n",
              "      <td>9</td>\n",
              "      <td>9</td>\n",
              "    </tr>\n",
              "  </tbody>\n",
              "</table>\n",
              "<p>5 rows × 33 columns</p>\n",
              "</div>\n",
              "      <button class=\"colab-df-convert\" onclick=\"convertToInteractive('df-d01777de-2fdb-40fd-aac7-cf2fa7d709c1')\"\n",
              "              title=\"Convert this dataframe to an interactive table.\"\n",
              "              style=\"display:none;\">\n",
              "        \n",
              "  <svg xmlns=\"http://www.w3.org/2000/svg\" height=\"24px\"viewBox=\"0 0 24 24\"\n",
              "       width=\"24px\">\n",
              "    <path d=\"M0 0h24v24H0V0z\" fill=\"none\"/>\n",
              "    <path d=\"M18.56 5.44l.94 2.06.94-2.06 2.06-.94-2.06-.94-.94-2.06-.94 2.06-2.06.94zm-11 1L8.5 8.5l.94-2.06 2.06-.94-2.06-.94L8.5 2.5l-.94 2.06-2.06.94zm10 10l.94 2.06.94-2.06 2.06-.94-2.06-.94-.94-2.06-.94 2.06-2.06.94z\"/><path d=\"M17.41 7.96l-1.37-1.37c-.4-.4-.92-.59-1.43-.59-.52 0-1.04.2-1.43.59L10.3 9.45l-7.72 7.72c-.78.78-.78 2.05 0 2.83L4 21.41c.39.39.9.59 1.41.59.51 0 1.02-.2 1.41-.59l7.78-7.78 2.81-2.81c.8-.78.8-2.07 0-2.86zM5.41 20L4 18.59l7.72-7.72 1.47 1.35L5.41 20z\"/>\n",
              "  </svg>\n",
              "      </button>\n",
              "      \n",
              "  <style>\n",
              "    .colab-df-container {\n",
              "      display:flex;\n",
              "      flex-wrap:wrap;\n",
              "      gap: 12px;\n",
              "    }\n",
              "\n",
              "    .colab-df-convert {\n",
              "      background-color: #E8F0FE;\n",
              "      border: none;\n",
              "      border-radius: 50%;\n",
              "      cursor: pointer;\n",
              "      display: none;\n",
              "      fill: #1967D2;\n",
              "      height: 32px;\n",
              "      padding: 0 0 0 0;\n",
              "      width: 32px;\n",
              "    }\n",
              "\n",
              "    .colab-df-convert:hover {\n",
              "      background-color: #E2EBFA;\n",
              "      box-shadow: 0px 1px 2px rgba(60, 64, 67, 0.3), 0px 1px 3px 1px rgba(60, 64, 67, 0.15);\n",
              "      fill: #174EA6;\n",
              "    }\n",
              "\n",
              "    [theme=dark] .colab-df-convert {\n",
              "      background-color: #3B4455;\n",
              "      fill: #D2E3FC;\n",
              "    }\n",
              "\n",
              "    [theme=dark] .colab-df-convert:hover {\n",
              "      background-color: #434B5C;\n",
              "      box-shadow: 0px 1px 3px 1px rgba(0, 0, 0, 0.15);\n",
              "      filter: drop-shadow(0px 1px 2px rgba(0, 0, 0, 0.3));\n",
              "      fill: #FFFFFF;\n",
              "    }\n",
              "  </style>\n",
              "\n",
              "      <script>\n",
              "        const buttonEl =\n",
              "          document.querySelector('#df-d01777de-2fdb-40fd-aac7-cf2fa7d709c1 button.colab-df-convert');\n",
              "        buttonEl.style.display =\n",
              "          google.colab.kernel.accessAllowed ? 'block' : 'none';\n",
              "\n",
              "        async function convertToInteractive(key) {\n",
              "          const element = document.querySelector('#df-d01777de-2fdb-40fd-aac7-cf2fa7d709c1');\n",
              "          const dataTable =\n",
              "            await google.colab.kernel.invokeFunction('convertToInteractive',\n",
              "                                                     [key], {});\n",
              "          if (!dataTable) return;\n",
              "\n",
              "          const docLinkHtml = 'Like what you see? Visit the ' +\n",
              "            '<a target=\"_blank\" href=https://colab.research.google.com/notebooks/data_table.ipynb>data table notebook</a>'\n",
              "            + ' to learn more about interactive tables.';\n",
              "          element.innerHTML = '';\n",
              "          dataTable['output_type'] = 'display_data';\n",
              "          await google.colab.output.renderOutput(dataTable, element);\n",
              "          const docLink = document.createElement('div');\n",
              "          docLink.innerHTML = docLinkHtml;\n",
              "          element.appendChild(docLink);\n",
              "        }\n",
              "      </script>\n",
              "    </div>\n",
              "  </div>\n",
              "  "
            ]
          },
          "metadata": {},
          "execution_count": 33
        }
      ]
    },
    {
      "cell_type": "code",
      "source": [
        "alcohol.shape[0]"
      ],
      "metadata": {
        "colab": {
          "base_uri": "https://localhost:8080/"
        },
        "id": "HDbAT0ZuNH6N",
        "outputId": "1a572249-088f-4bd5-d2bd-69e5d969f756"
      },
      "execution_count": null,
      "outputs": [
        {
          "output_type": "execute_result",
          "data": {
            "text/plain": [
              "395"
            ]
          },
          "metadata": {},
          "execution_count": 32
        }
      ]
    },
    {
      "cell_type": "markdown",
      "source": [
        "# <font color=\"steelblue\">Librería Scikit-Learn</font>"
      ],
      "metadata": {
        "id": "3qaG7VS2bO1E"
      }
    },
    {
      "cell_type": "markdown",
      "source": [
        "Hay varias bibliotecas de Python que proporcionan implementaciones sólidas de una variedad de algoritmos de aprendizaje automático. Una de las más conocidas es [Scikit-Learn](http://scikit-learn.org), que proporciona versiones eficientes de una gran cantidad de algoritmos comunes. Se caracteriza por una API limpia, uniforme y optimizada, así como por una documentación en línea muy útil y completa. Un beneficio de esta uniformidad es que, una vez comprendes el uso básico y la sintaxis de Scikit-Learn para un tipo de modelo, utilizar un nuevo modelo o algoritmo es muy sencillo.\n",
        "\n",
        "\n",
        "Comenzamos por ver cómo interpreta Scikit-Learn un conjunto de datos para la implementación de los diferentes algoritmos de aprendizaje automático. "
      ],
      "metadata": {
        "id": "PkUXw26rbdrL"
      }
    },
    {
      "cell_type": "markdown",
      "source": [
        "# <font color=\"steelblue\">Tablas de datos en Scikit-Learn</font>"
      ],
      "metadata": {
        "id": "kBtP3l4tblV_"
      }
    },
    {
      "cell_type": "markdown",
      "source": [
        "El aprendizaje automático crea modelos a partir de datos, que necesariamente han de proporcionarse bien estructurados y preprocesados. Por esa razón, nos detenemos en primer lugar en mostrar cómo organizar los datos para que los módulos de análisis puedan trabajar con ellos eficientemente. En la situación más sencilla la información para analizar o modelizar se debe estructurar como una **tabla de datos**."
      ],
      "metadata": {
        "id": "fsNCCub0cCfX"
      }
    },
    {
      "cell_type": "markdown",
      "source": [
        "Una **tabla de datos** es una cuadrícula bidimensional de la información recogida, en la que las filas (a las que aludiremos como \"muestras\") representan elementos individuales del conjunto de datos y las columnas contienen información relacionada con cada una de las variables observadas. Para ejemplificar lo que es una tabla de datos consideramos el [conjunto de datos de Iris](https://en.wikipedia.org/wiki/Iris_flower_data_set), analizado por Ronald Fisher en 1936, y que es muy habitual como ejemplo en los procedimientos de aprendizaje automático. \n",
        "\n",
        "Este conjunto de datos intenta analizar la taxonomía de tres tipos de flores *Iris* en función de las longitudes y anchuras de los pétalos y sépalos. El conjunto de datos contiene 150 muestras u observaciones. Dado que es un conjunto de datos muy utilizado, ya viene precargado en muchos módulos de Python, en formato de  ``DataFrame`` de `Pandas`, y no es necesario descargarlo para ser utilizado. En este caso hemos optado por cargarlo a partir de la librería [Seaborn](http://seaborn.pydata.org/). A continuación se muestran las primeras muestras del conjunto de datos:"
      ],
      "metadata": {
        "id": "UyJvLVGFfvQ4"
      }
    },
    {
      "cell_type": "code",
      "source": [
        "# Cargamos los datos\n",
        "iris = sns.load_dataset('iris')\n",
        "# Mostramos las primeras muestras\n",
        "iris.head()"
      ],
      "metadata": {
        "id": "AcmvfmnrhqOe",
        "colab": {
          "base_uri": "https://localhost:8080/",
          "height": 204
        },
        "outputId": "15e37e51-93c7-42f5-b8a3-97a755e02586"
      },
      "execution_count": null,
      "outputs": [
        {
          "output_type": "execute_result",
          "data": {
            "text/plain": [
              "   sepal_length  sepal_width  petal_length  petal_width species\n",
              "0           5.1          3.5           1.4          0.2  setosa\n",
              "1           4.9          3.0           1.4          0.2  setosa\n",
              "2           4.7          3.2           1.3          0.2  setosa\n",
              "3           4.6          3.1           1.5          0.2  setosa\n",
              "4           5.0          3.6           1.4          0.2  setosa"
            ],
            "text/html": [
              "\n",
              "  <div id=\"df-bb853064-1f8d-44ab-8a4a-a1235e54094e\">\n",
              "    <div class=\"colab-df-container\">\n",
              "      <div>\n",
              "<style scoped>\n",
              "    .dataframe tbody tr th:only-of-type {\n",
              "        vertical-align: middle;\n",
              "    }\n",
              "\n",
              "    .dataframe tbody tr th {\n",
              "        vertical-align: top;\n",
              "    }\n",
              "\n",
              "    .dataframe thead th {\n",
              "        text-align: right;\n",
              "    }\n",
              "</style>\n",
              "<table border=\"1\" class=\"dataframe\">\n",
              "  <thead>\n",
              "    <tr style=\"text-align: right;\">\n",
              "      <th></th>\n",
              "      <th>sepal_length</th>\n",
              "      <th>sepal_width</th>\n",
              "      <th>petal_length</th>\n",
              "      <th>petal_width</th>\n",
              "      <th>species</th>\n",
              "    </tr>\n",
              "  </thead>\n",
              "  <tbody>\n",
              "    <tr>\n",
              "      <th>0</th>\n",
              "      <td>5.1</td>\n",
              "      <td>3.5</td>\n",
              "      <td>1.4</td>\n",
              "      <td>0.2</td>\n",
              "      <td>setosa</td>\n",
              "    </tr>\n",
              "    <tr>\n",
              "      <th>1</th>\n",
              "      <td>4.9</td>\n",
              "      <td>3.0</td>\n",
              "      <td>1.4</td>\n",
              "      <td>0.2</td>\n",
              "      <td>setosa</td>\n",
              "    </tr>\n",
              "    <tr>\n",
              "      <th>2</th>\n",
              "      <td>4.7</td>\n",
              "      <td>3.2</td>\n",
              "      <td>1.3</td>\n",
              "      <td>0.2</td>\n",
              "      <td>setosa</td>\n",
              "    </tr>\n",
              "    <tr>\n",
              "      <th>3</th>\n",
              "      <td>4.6</td>\n",
              "      <td>3.1</td>\n",
              "      <td>1.5</td>\n",
              "      <td>0.2</td>\n",
              "      <td>setosa</td>\n",
              "    </tr>\n",
              "    <tr>\n",
              "      <th>4</th>\n",
              "      <td>5.0</td>\n",
              "      <td>3.6</td>\n",
              "      <td>1.4</td>\n",
              "      <td>0.2</td>\n",
              "      <td>setosa</td>\n",
              "    </tr>\n",
              "  </tbody>\n",
              "</table>\n",
              "</div>\n",
              "      <button class=\"colab-df-convert\" onclick=\"convertToInteractive('df-bb853064-1f8d-44ab-8a4a-a1235e54094e')\"\n",
              "              title=\"Convert this dataframe to an interactive table.\"\n",
              "              style=\"display:none;\">\n",
              "        \n",
              "  <svg xmlns=\"http://www.w3.org/2000/svg\" height=\"24px\"viewBox=\"0 0 24 24\"\n",
              "       width=\"24px\">\n",
              "    <path d=\"M0 0h24v24H0V0z\" fill=\"none\"/>\n",
              "    <path d=\"M18.56 5.44l.94 2.06.94-2.06 2.06-.94-2.06-.94-.94-2.06-.94 2.06-2.06.94zm-11 1L8.5 8.5l.94-2.06 2.06-.94-2.06-.94L8.5 2.5l-.94 2.06-2.06.94zm10 10l.94 2.06.94-2.06 2.06-.94-2.06-.94-.94-2.06-.94 2.06-2.06.94z\"/><path d=\"M17.41 7.96l-1.37-1.37c-.4-.4-.92-.59-1.43-.59-.52 0-1.04.2-1.43.59L10.3 9.45l-7.72 7.72c-.78.78-.78 2.05 0 2.83L4 21.41c.39.39.9.59 1.41.59.51 0 1.02-.2 1.41-.59l7.78-7.78 2.81-2.81c.8-.78.8-2.07 0-2.86zM5.41 20L4 18.59l7.72-7.72 1.47 1.35L5.41 20z\"/>\n",
              "  </svg>\n",
              "      </button>\n",
              "      \n",
              "  <style>\n",
              "    .colab-df-container {\n",
              "      display:flex;\n",
              "      flex-wrap:wrap;\n",
              "      gap: 12px;\n",
              "    }\n",
              "\n",
              "    .colab-df-convert {\n",
              "      background-color: #E8F0FE;\n",
              "      border: none;\n",
              "      border-radius: 50%;\n",
              "      cursor: pointer;\n",
              "      display: none;\n",
              "      fill: #1967D2;\n",
              "      height: 32px;\n",
              "      padding: 0 0 0 0;\n",
              "      width: 32px;\n",
              "    }\n",
              "\n",
              "    .colab-df-convert:hover {\n",
              "      background-color: #E2EBFA;\n",
              "      box-shadow: 0px 1px 2px rgba(60, 64, 67, 0.3), 0px 1px 3px 1px rgba(60, 64, 67, 0.15);\n",
              "      fill: #174EA6;\n",
              "    }\n",
              "\n",
              "    [theme=dark] .colab-df-convert {\n",
              "      background-color: #3B4455;\n",
              "      fill: #D2E3FC;\n",
              "    }\n",
              "\n",
              "    [theme=dark] .colab-df-convert:hover {\n",
              "      background-color: #434B5C;\n",
              "      box-shadow: 0px 1px 3px 1px rgba(0, 0, 0, 0.15);\n",
              "      filter: drop-shadow(0px 1px 2px rgba(0, 0, 0, 0.3));\n",
              "      fill: #FFFFFF;\n",
              "    }\n",
              "  </style>\n",
              "\n",
              "      <script>\n",
              "        const buttonEl =\n",
              "          document.querySelector('#df-bb853064-1f8d-44ab-8a4a-a1235e54094e button.colab-df-convert');\n",
              "        buttonEl.style.display =\n",
              "          google.colab.kernel.accessAllowed ? 'block' : 'none';\n",
              "\n",
              "        async function convertToInteractive(key) {\n",
              "          const element = document.querySelector('#df-bb853064-1f8d-44ab-8a4a-a1235e54094e');\n",
              "          const dataTable =\n",
              "            await google.colab.kernel.invokeFunction('convertToInteractive',\n",
              "                                                     [key], {});\n",
              "          if (!dataTable) return;\n",
              "\n",
              "          const docLinkHtml = 'Like what you see? Visit the ' +\n",
              "            '<a target=\"_blank\" href=https://colab.research.google.com/notebooks/data_table.ipynb>data table notebook</a>'\n",
              "            + ' to learn more about interactive tables.';\n",
              "          element.innerHTML = '';\n",
              "          dataTable['output_type'] = 'display_data';\n",
              "          await google.colab.output.renderOutput(dataTable, element);\n",
              "          const docLink = document.createElement('div');\n",
              "          docLink.innerHTML = docLinkHtml;\n",
              "          element.appendChild(docLink);\n",
              "        }\n",
              "      </script>\n",
              "    </div>\n",
              "  </div>\n",
              "  "
            ]
          },
          "metadata": {},
          "execution_count": 5
        }
      ]
    },
    {
      "cell_type": "markdown",
      "source": [
        "En la tabla, cada fila de datos representa una flor observada, y el número total de filas es el número de flores en el conjunto de datos. Nos referiremos a las filas de la matriz como 'muestras' y al número de filas como 'n_muestras'. Asimismo, cada columna contiene la información cuantitativa o cualitativa recopilada en las diversas variables observadas, y que describe cada muestra. Nos referiremos a las columnas de la matriz como 'variables' y al número de columnas como 'n_variables'. El número de variables respuesta dentro de la tabla de datos se denota por 'n_respuestas' y por defecto asumiremos que existe una única respuesta, y por lo tanto que dicho valor es 1."
      ],
      "metadata": {
        "id": "ZTzegP8Th1sB"
      }
    },
    {
      "cell_type": "markdown",
      "source": [
        "En función del objetivo principal que se persigue con un conjunto de datos en particular, la tabla de datos se suele dividir a su vez en dos matrices:\n",
        "\n",
        "* **Matriz de predictoras**: por convención se denota por $X$, es una matriz de dimensión 'n_muestras $\\times$ (n_variables-1)', que se almacena habitualmente como una matriz `NumPy` o un `DataFrame` de `Pandas` para facilitar su manipulación. Con todo, algunos de los modelos `Scikit-Learn` también aceptan matrices dispersas del módulo `SciPy`. \n",
        "\n",
        "\n",
        "Si nuestro objetivo es la clasificación de las flores *Iris*, identificando la clase más probable para cada elemento de la muestra, la matriz de predictoras viene dada por:"
      ],
      "metadata": {
        "id": "_x_QQuYwWqed"
      }
    },
    {
      "cell_type": "code",
      "source": [
        "# variables características\n",
        "var_car = ['sepal_length', 'sepal_width', 'petal_length', 'petal_width']\n",
        "# matriz de características\n",
        "X = iris[var_car]\n",
        "X.head()"
      ],
      "metadata": {
        "id": "GWatHSETTix7",
        "colab": {
          "base_uri": "https://localhost:8080/",
          "height": 204
        },
        "outputId": "27dca597-723b-4eb6-de04-0e950e820788"
      },
      "execution_count": null,
      "outputs": [
        {
          "output_type": "execute_result",
          "data": {
            "text/plain": [
              "   sepal_length  sepal_width  petal_length  petal_width\n",
              "0           5.1          3.5           1.4          0.2\n",
              "1           4.9          3.0           1.4          0.2\n",
              "2           4.7          3.2           1.3          0.2\n",
              "3           4.6          3.1           1.5          0.2\n",
              "4           5.0          3.6           1.4          0.2"
            ],
            "text/html": [
              "\n",
              "  <div id=\"df-278e4086-9d1e-4769-aa7d-5dcd684a0918\">\n",
              "    <div class=\"colab-df-container\">\n",
              "      <div>\n",
              "<style scoped>\n",
              "    .dataframe tbody tr th:only-of-type {\n",
              "        vertical-align: middle;\n",
              "    }\n",
              "\n",
              "    .dataframe tbody tr th {\n",
              "        vertical-align: top;\n",
              "    }\n",
              "\n",
              "    .dataframe thead th {\n",
              "        text-align: right;\n",
              "    }\n",
              "</style>\n",
              "<table border=\"1\" class=\"dataframe\">\n",
              "  <thead>\n",
              "    <tr style=\"text-align: right;\">\n",
              "      <th></th>\n",
              "      <th>sepal_length</th>\n",
              "      <th>sepal_width</th>\n",
              "      <th>petal_length</th>\n",
              "      <th>petal_width</th>\n",
              "    </tr>\n",
              "  </thead>\n",
              "  <tbody>\n",
              "    <tr>\n",
              "      <th>0</th>\n",
              "      <td>5.1</td>\n",
              "      <td>3.5</td>\n",
              "      <td>1.4</td>\n",
              "      <td>0.2</td>\n",
              "    </tr>\n",
              "    <tr>\n",
              "      <th>1</th>\n",
              "      <td>4.9</td>\n",
              "      <td>3.0</td>\n",
              "      <td>1.4</td>\n",
              "      <td>0.2</td>\n",
              "    </tr>\n",
              "    <tr>\n",
              "      <th>2</th>\n",
              "      <td>4.7</td>\n",
              "      <td>3.2</td>\n",
              "      <td>1.3</td>\n",
              "      <td>0.2</td>\n",
              "    </tr>\n",
              "    <tr>\n",
              "      <th>3</th>\n",
              "      <td>4.6</td>\n",
              "      <td>3.1</td>\n",
              "      <td>1.5</td>\n",
              "      <td>0.2</td>\n",
              "    </tr>\n",
              "    <tr>\n",
              "      <th>4</th>\n",
              "      <td>5.0</td>\n",
              "      <td>3.6</td>\n",
              "      <td>1.4</td>\n",
              "      <td>0.2</td>\n",
              "    </tr>\n",
              "  </tbody>\n",
              "</table>\n",
              "</div>\n",
              "      <button class=\"colab-df-convert\" onclick=\"convertToInteractive('df-278e4086-9d1e-4769-aa7d-5dcd684a0918')\"\n",
              "              title=\"Convert this dataframe to an interactive table.\"\n",
              "              style=\"display:none;\">\n",
              "        \n",
              "  <svg xmlns=\"http://www.w3.org/2000/svg\" height=\"24px\"viewBox=\"0 0 24 24\"\n",
              "       width=\"24px\">\n",
              "    <path d=\"M0 0h24v24H0V0z\" fill=\"none\"/>\n",
              "    <path d=\"M18.56 5.44l.94 2.06.94-2.06 2.06-.94-2.06-.94-.94-2.06-.94 2.06-2.06.94zm-11 1L8.5 8.5l.94-2.06 2.06-.94-2.06-.94L8.5 2.5l-.94 2.06-2.06.94zm10 10l.94 2.06.94-2.06 2.06-.94-2.06-.94-.94-2.06-.94 2.06-2.06.94z\"/><path d=\"M17.41 7.96l-1.37-1.37c-.4-.4-.92-.59-1.43-.59-.52 0-1.04.2-1.43.59L10.3 9.45l-7.72 7.72c-.78.78-.78 2.05 0 2.83L4 21.41c.39.39.9.59 1.41.59.51 0 1.02-.2 1.41-.59l7.78-7.78 2.81-2.81c.8-.78.8-2.07 0-2.86zM5.41 20L4 18.59l7.72-7.72 1.47 1.35L5.41 20z\"/>\n",
              "  </svg>\n",
              "      </button>\n",
              "      \n",
              "  <style>\n",
              "    .colab-df-container {\n",
              "      display:flex;\n",
              "      flex-wrap:wrap;\n",
              "      gap: 12px;\n",
              "    }\n",
              "\n",
              "    .colab-df-convert {\n",
              "      background-color: #E8F0FE;\n",
              "      border: none;\n",
              "      border-radius: 50%;\n",
              "      cursor: pointer;\n",
              "      display: none;\n",
              "      fill: #1967D2;\n",
              "      height: 32px;\n",
              "      padding: 0 0 0 0;\n",
              "      width: 32px;\n",
              "    }\n",
              "\n",
              "    .colab-df-convert:hover {\n",
              "      background-color: #E2EBFA;\n",
              "      box-shadow: 0px 1px 2px rgba(60, 64, 67, 0.3), 0px 1px 3px 1px rgba(60, 64, 67, 0.15);\n",
              "      fill: #174EA6;\n",
              "    }\n",
              "\n",
              "    [theme=dark] .colab-df-convert {\n",
              "      background-color: #3B4455;\n",
              "      fill: #D2E3FC;\n",
              "    }\n",
              "\n",
              "    [theme=dark] .colab-df-convert:hover {\n",
              "      background-color: #434B5C;\n",
              "      box-shadow: 0px 1px 3px 1px rgba(0, 0, 0, 0.15);\n",
              "      filter: drop-shadow(0px 1px 2px rgba(0, 0, 0, 0.3));\n",
              "      fill: #FFFFFF;\n",
              "    }\n",
              "  </style>\n",
              "\n",
              "      <script>\n",
              "        const buttonEl =\n",
              "          document.querySelector('#df-278e4086-9d1e-4769-aa7d-5dcd684a0918 button.colab-df-convert');\n",
              "        buttonEl.style.display =\n",
              "          google.colab.kernel.accessAllowed ? 'block' : 'none';\n",
              "\n",
              "        async function convertToInteractive(key) {\n",
              "          const element = document.querySelector('#df-278e4086-9d1e-4769-aa7d-5dcd684a0918');\n",
              "          const dataTable =\n",
              "            await google.colab.kernel.invokeFunction('convertToInteractive',\n",
              "                                                     [key], {});\n",
              "          if (!dataTable) return;\n",
              "\n",
              "          const docLinkHtml = 'Like what you see? Visit the ' +\n",
              "            '<a target=\"_blank\" href=https://colab.research.google.com/notebooks/data_table.ipynb>data table notebook</a>'\n",
              "            + ' to learn more about interactive tables.';\n",
              "          element.innerHTML = '';\n",
              "          dataTable['output_type'] = 'display_data';\n",
              "          await google.colab.output.renderOutput(dataTable, element);\n",
              "          const docLink = document.createElement('div');\n",
              "          docLink.innerHTML = docLinkHtml;\n",
              "          element.appendChild(docLink);\n",
              "        }\n",
              "      </script>\n",
              "    </div>\n",
              "  </div>\n",
              "  "
            ]
          },
          "metadata": {},
          "execution_count": 6
        }
      ]
    },
    {
      "cell_type": "code",
      "source": [
        "# dimensiones de la matriz\n",
        "X.shape"
      ],
      "metadata": {
        "id": "CEzlSOQteN8o",
        "colab": {
          "base_uri": "https://localhost:8080/"
        },
        "outputId": "52e7b25c-1df1-44ca-c13b-d69879d8e323"
      },
      "execution_count": null,
      "outputs": [
        {
          "output_type": "execute_result",
          "data": {
            "text/plain": [
              "(150, 4)"
            ]
          },
          "metadata": {},
          "execution_count": 6
        }
      ]
    },
    {
      "cell_type": "markdown",
      "source": [
        "* **Matriz o vector de respuestas**: por convención se suele denotar por $Y$, y es una matriz de dimensión 'n_muestras $\\times 1$', que contiene una etiqueta o valor numérico (identificado como objetivo del modelo) sobre el que queremos aprender a partir de la información contenida en $X$. En la terminología habitual de los modelos de aprendizaje automático, esta matriz se suele denominar *'target'*. Como la matriz de predictoras se puede almacenar como una matriz `NumPy` o un `DataFrame` de `Pandas`, si disponemos de más de un objetivo, la matriz de respuestas será de dimensión 'n_muestras $\\times$ n_respuestas'. \n",
        "\n",
        "Si no disponemos de ninguna respuesta, como en el aprendizaje no-supervisado, sólo hablaremos de una matriz de predictoras, de dimensión 'n_muestras $\\times$ n_variables'. \n",
        "\n",
        "\n",
        "Para los datos de *Iris* la variable objetivo es `species`, que representa la etiqueta asignada a cada una de las muestras registradas:"
      ],
      "metadata": {
        "id": "zx7YAACcTWhb"
      }
    },
    {
      "cell_type": "code",
      "source": [
        "# matriz objetivo\n",
        "Y = iris['species']\n",
        "Y.head()"
      ],
      "metadata": {
        "id": "Emy3YqEhVTdw",
        "colab": {
          "base_uri": "https://localhost:8080/"
        },
        "outputId": "624ac966-f4db-487e-c524-e19e72190e19"
      },
      "execution_count": null,
      "outputs": [
        {
          "output_type": "execute_result",
          "data": {
            "text/plain": [
              "0    setosa\n",
              "1    setosa\n",
              "2    setosa\n",
              "3    setosa\n",
              "4    setosa\n",
              "Name: species, dtype: object"
            ]
          },
          "metadata": {},
          "execution_count": 7
        }
      ]
    },
    {
      "cell_type": "code",
      "source": [
        "# dimensiones de la matriz\n",
        "Y.shape"
      ],
      "metadata": {
        "id": "ks-wyKlEelYz",
        "colab": {
          "base_uri": "https://localhost:8080/"
        },
        "outputId": "b047ddfb-ce30-4483-93a7-a14661afe7f5"
      },
      "execution_count": null,
      "outputs": [
        {
          "output_type": "execute_result",
          "data": {
            "text/plain": [
              "(150,)"
            ]
          },
          "metadata": {},
          "execution_count": 8
        }
      ]
    },
    {
      "cell_type": "markdown",
      "source": [
        "Dado que el objetivo principal en el aprendizaje automático con modelos supervisados es establecer patrones de relación entre las variables predictoras y la variable respuesta, el primer paso a dar consiste en la descripción numérica y/o gráfica de las variables disponibles, especialmente en su relación con la respuesta. Más adelante desarrollaremos este tema con detalle.\n",
        "\n",
        "Veamos gráficamente la información contenida en el banco de datos *Iris*."
      ],
      "metadata": {
        "id": "YohXPTjhAh_4"
      }
    },
    {
      "cell_type": "code",
      "source": [
        "sns.pairplot(iris, hue = 'species', size = 2);"
      ],
      "metadata": {
        "colab": {
          "base_uri": "https://localhost:8080/",
          "height": 638
        },
        "id": "R0B6sFeNBbNq",
        "outputId": "7f0e70ea-1c3a-449b-be7a-1e1aa59e6f85"
      },
      "execution_count": null,
      "outputs": [
        {
          "output_type": "stream",
          "name": "stderr",
          "text": [
            "/usr/local/lib/python3.7/dist-packages/seaborn/axisgrid.py:2076: UserWarning: The `size` parameter has been renamed to `height`; please update your code.\n",
            "  warnings.warn(msg, UserWarning)\n"
          ]
        },
        {
          "output_type": "display_data",
          "data": {
            "text/plain": [
              "<Figure size 660.75x576 with 20 Axes>"
            ],
            "image/png": "[encoded data removed]"
          },
          "metadata": {
            "image/png": {
              "width": 667,
              "height": 567
            },
            "needs_background": "light"
          }
        }
      ]
    },
    {
      "cell_type": "markdown",
      "source": [
        "\n",
        "En el gráfico de asociación apreciamos la relación entre todas las variables disponibles para las tres especies observadas. En la diagonal se muestran las distribuciones univariadas de cada una de las variables en cada especie (representada en colores distintos). Fuera de la diagonal aparecen los gráficos de puntos que hablan sobre la asociación entre las características observadas, también diferenciados por colores para las tres especies.  "
      ],
      "metadata": {
        "id": "Lx_2TkL6CL4p"
      }
    },
    {
      "cell_type": "markdown",
      "source": [
        "# <font color=\"steelblue\">Preprocesado de datos</font>"
      ],
      "metadata": {
        "id": "tVb81WRzFC6l"
      }
    },
    {
      "cell_type": "markdown",
      "source": [
        "El preprocesado de datos engloba todas las tareas relacionadas con el tratamiento de la base de datos en bruto, para convertirla en una base de datos eficiente y fácil de utilizar para su análisis con modelos de aprendizaje automático. \n",
        "\n",
        "Entre estas tareas se integran:\n",
        "\n",
        "* Identificación de los tipos de cada una de las variables de la tabla de datos.\n",
        "* Identificación y tratamiento de valores perdidos.\n",
        "* Tratamiento de variables de categóricas.\n",
        "* Tratamiento de variables numéricas.\n",
        "* División del conjunto de datos en muestras de entrenamiento y validación.\n",
        "* Preprocesado conjunto de un banco de datos (con *pipeline*).\n",
        "\n",
        "Veamos en detalle cómo afrontar cada una de estas tareas."
      ],
      "metadata": {
        "id": "XdMypGWGxLsn"
      }
    },
    {
      "cell_type": "markdown",
      "source": [
        "## <font color=\"steelblue\">Tipos de variables</font>"
      ],
      "metadata": {
        "id": "YydmV9cbEmtR"
      }
    },
    {
      "cell_type": "markdown",
      "source": [
        "Los tipos de variables más comunes en la práctica son: \n",
        "\n",
        "* `category` u `object` para variables categóricas. Si las categorías están ordenadas, podemos añadir el orden en la definición del tipo.\n",
        "* `int` para variables numéricas de tipo entero.\n",
        "* `float` para variables numéricas con decimales.\n",
        "* `string` para variables que contienen cadenas de texto.\n",
        "* `boolean` para variables que contienen condiciones lógicas (verdadero/falso).\n",
        "* `datetime` para variables que contienen información sobre fechas y horas."
      ],
      "metadata": {
        "id": "Jn22dCD2cBne"
      }
    },
    {
      "cell_type": "markdown",
      "source": [
        "Para identificar y modificar el tipo de las variables en una tabla de datos usamos las siguientes funciones de la librería `Pandas`:\n",
        "\n",
        "* `dtypes` sirve para identificar el tipo de variable;\n",
        "* `astype()` modifica el tipo de variable;\n",
        "* `select_dtype()` selecciona todas las variables de un tipo especifíco dentro de la tabla de datos;\n",
        "* `CategoricalDtype()` convierte variables categóricas a ordinales.\n"
      ],
      "metadata": {
        "id": "ZS5j1j-AzoUh"
      }
    },
    {
      "cell_type": "markdown",
      "source": [
        "### Ejemplo 1"
      ],
      "metadata": {
        "id": "G8n2grGOnS1L"
      }
    },
    {
      "cell_type": "markdown",
      "source": [
        "Para mostrar el uso de estas funciones vamos a utilizar el conjunto de datos [`alcohol`](https://www.kaggle.com/datasets/uciml/student-alcohol-consumption) presentado al inicio de este cuaderno. \n",
        "\n",
        "En primer lugar inspeccionamos la tabla de datos a partir de los primeros registros y todas sus variables, e identificamos los tipos de cada una de las variables disponibles."
      ],
      "metadata": {
        "id": "wwGl--oIKUlL"
      }
    },
    {
      "cell_type": "code",
      "source": [
        "# Tabla de datos\n",
        "alcohol.head()"
      ],
      "metadata": {
        "colab": {
          "base_uri": "https://localhost:8080/",
          "height": 297
        },
        "id": "bbn4FEdB9plv",
        "outputId": "3baaa571-c6d7-46f9-fa14-95aa4d5fdbe9"
      },
      "execution_count": null,
      "outputs": [
        {
          "output_type": "execute_result",
          "data": {
            "text/plain": [
              "  school sex  age address famsize Pstatus  Medu  Fedu     Mjob      Fjob  ...  \\\n",
              "0     GP   F   18       U     GT3       A     4     4  at_home   teacher  ...   \n",
              "1     GP   F   17       U     GT3       T     1     1  at_home     other  ...   \n",
              "2     GP   F   15       U     LE3       T     1     1  at_home     other  ...   \n",
              "3     GP   F   15       U     GT3       T     4     2   health  services  ...   \n",
              "4     GP   F   16       U     GT3       T     3     3    other     other  ...   \n",
              "\n",
              "  famrel freetime  goout  Dalc  Walc health absences  G1  G2  G3  \n",
              "0      4        3      4     1     1      3        6   5   6   6  \n",
              "1      5        3      3     1     1      3        4   5   5   6  \n",
              "2      4        3      2     2     3      3       10   7   8  10  \n",
              "3      3        2      2     1     1      5        2  15  14  15  \n",
              "4      4        3      2     1     2      5        4   6  10  10  \n",
              "\n",
              "[5 rows x 33 columns]"
            ],
            "text/html": [
              "\n",
              "  <div id=\"df-dc41d333-308b-4adf-a2b6-3b85bafac6ec\">\n",
              "    <div class=\"colab-df-container\">\n",
              "      <div>\n",
              "<style scoped>\n",
              "    .dataframe tbody tr th:only-of-type {\n",
              "        vertical-align: middle;\n",
              "    }\n",
              "\n",
              "    .dataframe tbody tr th {\n",
              "        vertical-align: top;\n",
              "    }\n",
              "\n",
              "    .dataframe thead th {\n",
              "        text-align: right;\n",
              "    }\n",
              "</style>\n",
              "<table border=\"1\" class=\"dataframe\">\n",
              "  <thead>\n",
              "    <tr style=\"text-align: right;\">\n",
              "      <th></th>\n",
              "      <th>school</th>\n",
              "      <th>sex</th>\n",
              "      <th>age</th>\n",
              "      <th>address</th>\n",
              "      <th>famsize</th>\n",
              "      <th>Pstatus</th>\n",
              "      <th>Medu</th>\n",
              "      <th>Fedu</th>\n",
              "      <th>Mjob</th>\n",
              "      <th>Fjob</th>\n",
              "      <th>...</th>\n",
              "      <th>famrel</th>\n",
              "      <th>freetime</th>\n",
              "      <th>goout</th>\n",
              "      <th>Dalc</th>\n",
              "      <th>Walc</th>\n",
              "      <th>health</th>\n",
              "      <th>absences</th>\n",
              "      <th>G1</th>\n",
              "      <th>G2</th>\n",
              "      <th>G3</th>\n",
              "    </tr>\n",
              "  </thead>\n",
              "  <tbody>\n",
              "    <tr>\n",
              "      <th>0</th>\n",
              "      <td>GP</td>\n",
              "      <td>F</td>\n",
              "      <td>18</td>\n",
              "      <td>U</td>\n",
              "      <td>GT3</td>\n",
              "      <td>A</td>\n",
              "      <td>4</td>\n",
              "      <td>4</td>\n",
              "      <td>at_home</td>\n",
              "      <td>teacher</td>\n",
              "      <td>...</td>\n",
              "      <td>4</td>\n",
              "      <td>3</td>\n",
              "      <td>4</td>\n",
              "      <td>1</td>\n",
              "      <td>1</td>\n",
              "      <td>3</td>\n",
              "      <td>6</td>\n",
              "      <td>5</td>\n",
              "      <td>6</td>\n",
              "      <td>6</td>\n",
              "    </tr>\n",
              "    <tr>\n",
              "      <th>1</th>\n",
              "      <td>GP</td>\n",
              "      <td>F</td>\n",
              "      <td>17</td>\n",
              "      <td>U</td>\n",
              "      <td>GT3</td>\n",
              "      <td>T</td>\n",
              "      <td>1</td>\n",
              "      <td>1</td>\n",
              "      <td>at_home</td>\n",
              "      <td>other</td>\n",
              "      <td>...</td>\n",
              "      <td>5</td>\n",
              "      <td>3</td>\n",
              "      <td>3</td>\n",
              "      <td>1</td>\n",
              "      <td>1</td>\n",
              "      <td>3</td>\n",
              "      <td>4</td>\n",
              "      <td>5</td>\n",
              "      <td>5</td>\n",
              "      <td>6</td>\n",
              "    </tr>\n",
              "    <tr>\n",
              "      <th>2</th>\n",
              "      <td>GP</td>\n",
              "      <td>F</td>\n",
              "      <td>15</td>\n",
              "      <td>U</td>\n",
              "      <td>LE3</td>\n",
              "      <td>T</td>\n",
              "      <td>1</td>\n",
              "      <td>1</td>\n",
              "      <td>at_home</td>\n",
              "      <td>other</td>\n",
              "      <td>...</td>\n",
              "      <td>4</td>\n",
              "      <td>3</td>\n",
              "      <td>2</td>\n",
              "      <td>2</td>\n",
              "      <td>3</td>\n",
              "      <td>3</td>\n",
              "      <td>10</td>\n",
              "      <td>7</td>\n",
              "      <td>8</td>\n",
              "      <td>10</td>\n",
              "    </tr>\n",
              "    <tr>\n",
              "      <th>3</th>\n",
              "      <td>GP</td>\n",
              "      <td>F</td>\n",
              "      <td>15</td>\n",
              "      <td>U</td>\n",
              "      <td>GT3</td>\n",
              "      <td>T</td>\n",
              "      <td>4</td>\n",
              "      <td>2</td>\n",
              "      <td>health</td>\n",
              "      <td>services</td>\n",
              "      <td>...</td>\n",
              "      <td>3</td>\n",
              "      <td>2</td>\n",
              "      <td>2</td>\n",
              "      <td>1</td>\n",
              "      <td>1</td>\n",
              "      <td>5</td>\n",
              "      <td>2</td>\n",
              "      <td>15</td>\n",
              "      <td>14</td>\n",
              "      <td>15</td>\n",
              "    </tr>\n",
              "    <tr>\n",
              "      <th>4</th>\n",
              "      <td>GP</td>\n",
              "      <td>F</td>\n",
              "      <td>16</td>\n",
              "      <td>U</td>\n",
              "      <td>GT3</td>\n",
              "      <td>T</td>\n",
              "      <td>3</td>\n",
              "      <td>3</td>\n",
              "      <td>other</td>\n",
              "      <td>other</td>\n",
              "      <td>...</td>\n",
              "      <td>4</td>\n",
              "      <td>3</td>\n",
              "      <td>2</td>\n",
              "      <td>1</td>\n",
              "      <td>2</td>\n",
              "      <td>5</td>\n",
              "      <td>4</td>\n",
              "      <td>6</td>\n",
              "      <td>10</td>\n",
              "      <td>10</td>\n",
              "    </tr>\n",
              "  </tbody>\n",
              "</table>\n",
              "<p>5 rows × 33 columns</p>\n",
              "</div>\n",
              "      <button class=\"colab-df-convert\" onclick=\"convertToInteractive('df-dc41d333-308b-4adf-a2b6-3b85bafac6ec')\"\n",
              "              title=\"Convert this dataframe to an interactive table.\"\n",
              "              style=\"display:none;\">\n",
              "        \n",
              "  <svg xmlns=\"http://www.w3.org/2000/svg\" height=\"24px\"viewBox=\"0 0 24 24\"\n",
              "       width=\"24px\">\n",
              "    <path d=\"M0 0h24v24H0V0z\" fill=\"none\"/>\n",
              "    <path d=\"M18.56 5.44l.94 2.06.94-2.06 2.06-.94-2.06-.94-.94-2.06-.94 2.06-2.06.94zm-11 1L8.5 8.5l.94-2.06 2.06-.94-2.06-.94L8.5 2.5l-.94 2.06-2.06.94zm10 10l.94 2.06.94-2.06 2.06-.94-2.06-.94-.94-2.06-.94 2.06-2.06.94z\"/><path d=\"M17.41 7.96l-1.37-1.37c-.4-.4-.92-.59-1.43-.59-.52 0-1.04.2-1.43.59L10.3 9.45l-7.72 7.72c-.78.78-.78 2.05 0 2.83L4 21.41c.39.39.9.59 1.41.59.51 0 1.02-.2 1.41-.59l7.78-7.78 2.81-2.81c.8-.78.8-2.07 0-2.86zM5.41 20L4 18.59l7.72-7.72 1.47 1.35L5.41 20z\"/>\n",
              "  </svg>\n",
              "      </button>\n",
              "      \n",
              "  <style>\n",
              "    .colab-df-container {\n",
              "      display:flex;\n",
              "      flex-wrap:wrap;\n",
              "      gap: 12px;\n",
              "    }\n",
              "\n",
              "    .colab-df-convert {\n",
              "      background-color: #E8F0FE;\n",
              "      border: none;\n",
              "      border-radius: 50%;\n",
              "      cursor: pointer;\n",
              "      display: none;\n",
              "      fill: #1967D2;\n",
              "      height: 32px;\n",
              "      padding: 0 0 0 0;\n",
              "      width: 32px;\n",
              "    }\n",
              "\n",
              "    .colab-df-convert:hover {\n",
              "      background-color: #E2EBFA;\n",
              "      box-shadow: 0px 1px 2px rgba(60, 64, 67, 0.3), 0px 1px 3px 1px rgba(60, 64, 67, 0.15);\n",
              "      fill: #174EA6;\n",
              "    }\n",
              "\n",
              "    [theme=dark] .colab-df-convert {\n",
              "      background-color: #3B4455;\n",
              "      fill: #D2E3FC;\n",
              "    }\n",
              "\n",
              "    [theme=dark] .colab-df-convert:hover {\n",
              "      background-color: #434B5C;\n",
              "      box-shadow: 0px 1px 3px 1px rgba(0, 0, 0, 0.15);\n",
              "      filter: drop-shadow(0px 1px 2px rgba(0, 0, 0, 0.3));\n",
              "      fill: #FFFFFF;\n",
              "    }\n",
              "  </style>\n",
              "\n",
              "      <script>\n",
              "        const buttonEl =\n",
              "          document.querySelector('#df-dc41d333-308b-4adf-a2b6-3b85bafac6ec button.colab-df-convert');\n",
              "        buttonEl.style.display =\n",
              "          google.colab.kernel.accessAllowed ? 'block' : 'none';\n",
              "\n",
              "        async function convertToInteractive(key) {\n",
              "          const element = document.querySelector('#df-dc41d333-308b-4adf-a2b6-3b85bafac6ec');\n",
              "          const dataTable =\n",
              "            await google.colab.kernel.invokeFunction('convertToInteractive',\n",
              "                                                     [key], {});\n",
              "          if (!dataTable) return;\n",
              "\n",
              "          const docLinkHtml = 'Like what you see? Visit the ' +\n",
              "            '<a target=\"_blank\" href=https://colab.research.google.com/notebooks/data_table.ipynb>data table notebook</a>'\n",
              "            + ' to learn more about interactive tables.';\n",
              "          element.innerHTML = '';\n",
              "          dataTable['output_type'] = 'display_data';\n",
              "          await google.colab.output.renderOutput(dataTable, element);\n",
              "          const docLink = document.createElement('div');\n",
              "          docLink.innerHTML = docLinkHtml;\n",
              "          element.appendChild(docLink);\n",
              "        }\n",
              "      </script>\n",
              "    </div>\n",
              "  </div>\n",
              "  "
            ]
          },
          "metadata": {},
          "execution_count": 11
        }
      ]
    },
    {
      "cell_type": "code",
      "source": [
        "# Tipos de variables\n",
        "alcohol.dtypes"
      ],
      "metadata": {
        "id": "rQXUC1myKsnq",
        "colab": {
          "base_uri": "https://localhost:8080/"
        },
        "outputId": "eecba257-d253-4a56-f243-cb826ad69000"
      },
      "execution_count": null,
      "outputs": [
        {
          "output_type": "execute_result",
          "data": {
            "text/plain": [
              "school        object\n",
              "sex           object\n",
              "age            int64\n",
              "address       object\n",
              "famsize       object\n",
              "Pstatus       object\n",
              "Medu           int64\n",
              "Fedu           int64\n",
              "Mjob          object\n",
              "Fjob          object\n",
              "reason        object\n",
              "guardian      object\n",
              "traveltime     int64\n",
              "studytime      int64\n",
              "failures       int64\n",
              "schoolsup     object\n",
              "famsup        object\n",
              "paid          object\n",
              "activities    object\n",
              "nursery       object\n",
              "higher        object\n",
              "internet      object\n",
              "romantic      object\n",
              "famrel         int64\n",
              "freetime       int64\n",
              "goout          int64\n",
              "Dalc           int64\n",
              "Walc           int64\n",
              "health         int64\n",
              "absences       int64\n",
              "G1             int64\n",
              "G2             int64\n",
              "G3             int64\n",
              "dtype: object"
            ]
          },
          "metadata": {},
          "execution_count": 11
        }
      ]
    },
    {
      "cell_type": "markdown",
      "source": [
        "La base de datos contiene pues exclusivamente variables de tipo `object`, que se corresponden con las variables categóricas, y de tipo `int64`, que identifican variables numéricas. Para trabajar de foma más eficiente convertimos las variables de tipo `object` al tipo `category`."
      ],
      "metadata": {
        "id": "ivH4z3Ky_FKK"
      }
    },
    {
      "cell_type": "code",
      "source": [
        "# Seleccionamos los nombres de la columnas que corresponden con el tipo object \n",
        "cat_names = alcohol.select_dtypes(include=['object']).columns.values\n",
        "# Convertimos dichas columnas a tipo category\n",
        "alcohol[cat_names] = alcohol[cat_names].astype(\"category\")\n",
        "# Vemos el resultado \n",
        "alcohol.dtypes"
      ],
      "metadata": {
        "colab": {
          "base_uri": "https://localhost:8080/"
        },
        "id": "4nAHJsUtdNUH",
        "outputId": "267fedbb-f7ac-4699-be45-0d30106b3ca8"
      },
      "execution_count": null,
      "outputs": [
        {
          "output_type": "execute_result",
          "data": {
            "text/plain": [
              "school        category\n",
              "sex           category\n",
              "age              int64\n",
              "address       category\n",
              "famsize       category\n",
              "Pstatus       category\n",
              "Medu             int64\n",
              "Fedu             int64\n",
              "Mjob          category\n",
              "Fjob          category\n",
              "reason        category\n",
              "guardian      category\n",
              "traveltime       int64\n",
              "studytime        int64\n",
              "failures         int64\n",
              "schoolsup     category\n",
              "famsup        category\n",
              "paid          category\n",
              "activities    category\n",
              "nursery       category\n",
              "higher        category\n",
              "internet      category\n",
              "romantic      category\n",
              "famrel           int64\n",
              "freetime         int64\n",
              "goout            int64\n",
              "Dalc             int64\n",
              "Walc             int64\n",
              "health           int64\n",
              "absences         int64\n",
              "G1               int64\n",
              "G2               int64\n",
              "G3               int64\n",
              "dtype: object"
            ]
          },
          "metadata": {},
          "execution_count": 12
        }
      ]
    },
    {
      "cell_type": "markdown",
      "source": [
        "Por otro lado tenemos ciertas variables de tipo categórico que contienen información ordinal, pero que al ser codificadas con números se interpretan como `int64`. Dichas variables son: \n",
        "\n",
        "* `Medu` con valores enteros: `0 - none`, `1 - primary education (4th grade)`, `2 – 5th to 9th grade`, `3 – secondary education` or `4 – higher education`.\n",
        "* `Fedu` con valores enteros: `0 - none`, `1 - primary education (4th grade)`, `2 – 5th to 9th grade`, `3 – secondary education` or `4 – higher education`.\n",
        "* `famsize` con valores `LE3` - less or equal to 3 or `GT3` - greater than 3).\n",
        "* `famrel` con valores de `1` a `5`.\n",
        "* `freetime` con valores de `1` a `5`.\n",
        "* `goout` - con valores de `1` a `5`.\n",
        "* `Dalc` - con valores de `1` a `5`.\n",
        "* `Walc` - con valores de `1` a `5`.\n",
        "* `health` - con valores de `1` a `5`.\n",
        "\n",
        "Para convertir estas variables enteras a categóricas usamos la función `astype` a continuación.\n",
        "\n",
        "\n"
      ],
      "metadata": {
        "id": "mnqK_qzTL4dX"
      }
    },
    {
      "cell_type": "code",
      "source": [
        "# Seleccionamos los nombres de la columnas que corresponden con el tipo int64 que queremos convertir a categóricas\n",
        "cat_names = ['Medu', 'Fedu', 'famsize', 'famrel', 'freetime', 'goout', 'Dalc', 'Walc', 'health']\n",
        "# Convertimos dichas variables a categóricas\n",
        "alcohol[cat_names] = alcohol[cat_names].astype(\"category\")\n",
        "# Vemos el resultado \n",
        "alcohol.dtypes"
      ],
      "metadata": {
        "colab": {
          "base_uri": "https://localhost:8080/"
        },
        "id": "pazMhR2qbcVO",
        "outputId": "b32f6be0-0112-4333-d082-26cc01b31a4d"
      },
      "execution_count": null,
      "outputs": [
        {
          "output_type": "execute_result",
          "data": {
            "text/plain": [
              "school        category\n",
              "sex           category\n",
              "age              int64\n",
              "address       category\n",
              "famsize       category\n",
              "Pstatus       category\n",
              "Medu          category\n",
              "Fedu          category\n",
              "Mjob          category\n",
              "Fjob          category\n",
              "reason        category\n",
              "guardian      category\n",
              "traveltime       int64\n",
              "studytime        int64\n",
              "failures         int64\n",
              "schoolsup     category\n",
              "famsup        category\n",
              "paid          category\n",
              "activities    category\n",
              "nursery       category\n",
              "higher        category\n",
              "internet      category\n",
              "romantic      category\n",
              "famrel        category\n",
              "freetime      category\n",
              "goout         category\n",
              "Dalc          category\n",
              "Walc          category\n",
              "health        category\n",
              "absences         int64\n",
              "G1               int64\n",
              "G2               int64\n",
              "G3               int64\n",
              "dtype: object"
            ]
          },
          "metadata": {},
          "execution_count": 13
        }
      ]
    },
    {
      "cell_type": "markdown",
      "source": [
        "Si además queremos añadir la información ordinal, las transformamos a continuación en ordinales con la función de `Pandas` [`CategoricalDtype()`](https://pandas.pydata.org/docs/reference/api/pandas.CategoricalDtype.html?highlight=categoricaldtype#pandas.CategoricalDtype). \n",
        "\n",
        "En los modelos de aprendizaje, en general bastará con reconocer este tipo de variables como categóricas y no suele ser necesario utilizar información ordinal.\n",
        "\n",
        "Veamos cómo se procede para incorporar información ordinal en una de estas variables ya categorizadas."
      ],
      "metadata": {
        "id": "2UFl3p7glFSb"
      }
    },
    {
      "cell_type": "code",
      "source": [
        "# Para convertir la variable Fedu a ordinal, ordenamos primero sus valores\n",
        "cats_to_order = sorted(alcohol.Fedu.unique())\n",
        "print(cats_to_order)\n",
        "# las convertimos en etiquetas ordenadas, bajo un tipo 'category'\n",
        "cats_dtype = pd.api.types.CategoricalDtype(cats_to_order, ordered = True)\n",
        "print(cats_dtype)\n",
        "# y asignamos el tipo de dichas etiquetas a la variable Fedu\n",
        "alcohol.Fedu = alcohol.Fedu.astype(cats_dtype)\n",
        "alcohol.Fedu.dtype"
      ],
      "metadata": {
        "colab": {
          "base_uri": "https://localhost:8080/"
        },
        "id": "s-XTAzfthVNy",
        "outputId": "dd5e9540-2826-4c5f-ccc7-273c29f79a7e"
      },
      "execution_count": null,
      "outputs": [
        {
          "output_type": "stream",
          "name": "stdout",
          "text": [
            "[0, 1, 2, 3, 4]\n",
            "category\n"
          ]
        },
        {
          "output_type": "execute_result",
          "data": {
            "text/plain": [
              "CategoricalDtype(categories=[0, 1, 2, 3, 4], ordered=True)"
            ]
          },
          "metadata": {},
          "execution_count": 14
        }
      ]
    },
    {
      "cell_type": "markdown",
      "source": [
        "### Ejemplo 2"
      ],
      "metadata": {
        "id": "vGzIW5HenMtX"
      }
    },
    {
      "cell_type": "markdown",
      "source": [
        "Abordamos ahora un ejemplo algo más complicado, basado en el banco de datos `stroke`. En primer lugar identificamos los tipos de variables presentes en el banco de datos, y reconocemos como identificador de los registros (filas), la columna `id`."
      ],
      "metadata": {
        "id": "UX865Vvsmls_"
      }
    },
    {
      "cell_type": "code",
      "source": [
        "# Creación del índice\n",
        "stroke.set_index('id')\n",
        "# Tipos de carcaterísticas\n",
        "stroke.dtypes"
      ],
      "metadata": {
        "colab": {
          "base_uri": "https://localhost:8080/"
        },
        "id": "XmaR6Vmamypl",
        "outputId": "f5514e6e-0b0d-4867-ee03-92d45ae70dc9"
      },
      "execution_count": null,
      "outputs": [
        {
          "output_type": "execute_result",
          "data": {
            "text/plain": [
              "id                     int64\n",
              "gender                object\n",
              "age                  float64\n",
              "hypertension          object\n",
              "heart_disease         object\n",
              "ever_married          object\n",
              "work_type             object\n",
              "Residence_type        object\n",
              "avg_glucose_level    float64\n",
              "bmi                  float64\n",
              "smoking_status        object\n",
              "stroke                object\n",
              "dtype: object"
            ]
          },
          "metadata": {},
          "execution_count": 15
        }
      ]
    },
    {
      "cell_type": "markdown",
      "source": [
        "Reconvertimos a los tipos adecuados: las variables de tipo `object` y las `int64` que son 0-1 las transformamos en tipo `category`."
      ],
      "metadata": {
        "id": "SgYnEpERvlno"
      }
    },
    {
      "cell_type": "code",
      "source": [
        "# Seleccionamos los nombres de la columnas que corresponden con el tipo object \n",
        "cat_names = stroke.select_dtypes(include=['object']).columns.values\n",
        "# Convertimos dichas columnas a tipo category\n",
        "stroke[cat_names] = stroke[cat_names].astype(\"category\")\n",
        "# Seleccionamos los nombres de la columnas que corresponden con el tipo int64 que son cualitativas \n",
        "cat_names = stroke.select_dtypes(include=['int64']).columns.values\n",
        "# Convertimos dichas columnas a tipo category\n",
        "stroke[cat_names] = stroke[cat_names].astype(\"category\")\n",
        "# Vemos el resultado \n",
        "stroke.dtypes"
      ],
      "metadata": {
        "colab": {
          "base_uri": "https://localhost:8080/"
        },
        "id": "D0ddHYfywWwT",
        "outputId": "9b547006-29e3-4089-d32a-c6a8be85c340"
      },
      "execution_count": null,
      "outputs": [
        {
          "output_type": "execute_result",
          "data": {
            "text/plain": [
              "id                   category\n",
              "gender               category\n",
              "age                   float64\n",
              "hypertension         category\n",
              "heart_disease        category\n",
              "ever_married         category\n",
              "work_type            category\n",
              "Residence_type       category\n",
              "avg_glucose_level     float64\n",
              "bmi                   float64\n",
              "smoking_status       category\n",
              "stroke               category\n",
              "dtype: object"
            ]
          },
          "metadata": {},
          "execution_count": 14
        }
      ]
    },
    {
      "cell_type": "markdown",
      "source": [
        "## <font color=\"steelblue\">Valores perdidos</font>"
      ],
      "metadata": {
        "id": "v4fGzytlbzxc"
      }
    },
    {
      "cell_type": "markdown",
      "source": [
        "Los conjuntos de datos con valores pérdidos (NaN) son incompatibles con los estimadores Scikit-Learn ya que  estos asumen que todos los valores de una matriz deben expresarse numéricamente. Por ese motivo, una de las principales tareas de preprocesado consiste en el tratamiento de los valores perdidos presentes en una tabla de datos. Las estrategias básicas son:\n",
        "\n",
        "1. Eliminación de las muestras con datos faltantes.\n",
        "2. Imputación de valores (univariada o multivariante).\n",
        "\n",
        "La opción más habitual en el tratamiento de modelos de aprendizaje automático es la imputación de valores perdidos, pero siempre hay que proceder con cautela para tener ciertas garantías de no modificar la tabla de datos para generar conclusiones erróneas. Hemos de tener en cuenta que habitualmente la imputación se realiza sobre la matriz de variables predictoras que son las que utilizamos para entrenar el modelo de aprendizaje automático. Si tenemos un conjunto de muestras con valores perdidos en la variable o variables respuesta, lo habitual es eliminar dichas observaciones de la tabla de datos."
      ],
      "metadata": {
        "id": "MAg5_WT_ltKE"
      }
    },
    {
      "cell_type": "markdown",
      "source": [
        "### Eliminar muestras\n"
      ],
      "metadata": {
        "id": "nGxlJhBtl91Q"
      }
    },
    {
      "cell_type": "markdown",
      "source": [
        "En primer lugar estudiamos cómo eliminar las muestras de una tabla de datos que contienen valores perdidos. Sin embargo, hay que llevar cuidado con la eliminación de muestras ya que podemos perder mucha información valiosa para el análisis, sobre todo cuando el número de valores perdidos es relevante en comparación con el número de muestras totales. \n",
        "\n",
        "\n",
        "Para la identificación de datos faltantes podemos utilizar la función `isnull()` y también la librería `missingno`.\n",
        "```\n",
        "datos.isnull()\n",
        "```\n",
        "\n",
        "Para la eliminación de los datos faltantes hacemos uso de la función [dropna()](https://pandas.pydata.org/docs/reference/api/pandas.DataFrame.dropna.html), de `Pandas`, que nos permite diferentes opciones de filtrado y eliminación de dichos valores. Los parámetros básicos de configuración de la función son:\n",
        "\n",
        "* **`how = {'all','any'}`**:  si es `'all'` solo elimina las filas en las que todas las columnas son NaN y si es `'any'` las elimina si hay algún NaN en ellas.\n",
        "* **`thresh = n`**: elimina las filas que tienen menos de $n$ valores no faltantes.\n",
        "* **`subset=['x']`**: solo elimina las filas con valores NaN\n",
        "en la columna $x$.\n",
        "* **`axis = {0,1}`**: si es 0 o 'index' elimina las filas que contienen valores perdidos, y si es 1 o 'columns', elimina las columnas que contienen los valores perdidos.\n",
        "* **`inplace = {True, False}`**: si es 'True' el método dropna modificará el `DataFrame` directamente. \n"
      ],
      "metadata": {
        "id": "IPri13tVmPXm"
      }
    },
    {
      "cell_type": "markdown",
      "source": [
        "#### Ejemplo 3\n",
        "\n",
        "Partimos de una tabla de datos que definimos, con valores faltantes identificados como 'np.nan'."
      ],
      "metadata": {
        "id": "oW8oeBQzocl1"
      }
    },
    {
      "cell_type": "code",
      "source": [
        "# partimos de una tabla de datos con valores faltantes\n",
        "datos = pd.DataFrame({\n",
        "    'A': [1, 2, 3, 4, 5, 6],\n",
        "    'B': [7, 8, np.nan, 10, np.nan, 12],\n",
        "    'C': [13, 14, np.nan, np.nan, 17, 18],\n",
        "    'D': [19, np.nan, 21, 22, 23, 24],\n",
        "    'E': [25, 26, 27, 28, 29, 30]\n",
        "\n",
        "})\n",
        "datos"
      ],
      "metadata": {
        "colab": {
          "base_uri": "https://localhost:8080/",
          "height": 235
        },
        "id": "McLZUZiWe2yE",
        "outputId": "94ce0793-7df5-4772-ccc1-3fb8b85ca98b"
      },
      "execution_count": null,
      "outputs": [
        {
          "output_type": "execute_result",
          "data": {
            "text/plain": [
              "   A     B     C     D   E\n",
              "0  1   7.0  13.0  19.0  25\n",
              "1  2   8.0  14.0   NaN  26\n",
              "2  3   NaN   NaN  21.0  27\n",
              "3  4  10.0   NaN  22.0  28\n",
              "4  5   NaN  17.0  23.0  29\n",
              "5  6  12.0  18.0  24.0  30"
            ],
            "text/html": [
              "\n",
              "  <div id=\"df-60dd5f15-5f42-4eb3-aab6-d7d4e37049b7\">\n",
              "    <div class=\"colab-df-container\">\n",
              "      <div>\n",
              "<style scoped>\n",
              "    .dataframe tbody tr th:only-of-type {\n",
              "        vertical-align: middle;\n",
              "    }\n",
              "\n",
              "    .dataframe tbody tr th {\n",
              "        vertical-align: top;\n",
              "    }\n",
              "\n",
              "    .dataframe thead th {\n",
              "        text-align: right;\n",
              "    }\n",
              "</style>\n",
              "<table border=\"1\" class=\"dataframe\">\n",
              "  <thead>\n",
              "    <tr style=\"text-align: right;\">\n",
              "      <th></th>\n",
              "      <th>A</th>\n",
              "      <th>B</th>\n",
              "      <th>C</th>\n",
              "      <th>D</th>\n",
              "      <th>E</th>\n",
              "    </tr>\n",
              "  </thead>\n",
              "  <tbody>\n",
              "    <tr>\n",
              "      <th>0</th>\n",
              "      <td>1</td>\n",
              "      <td>7.0</td>\n",
              "      <td>13.0</td>\n",
              "      <td>19.0</td>\n",
              "      <td>25</td>\n",
              "    </tr>\n",
              "    <tr>\n",
              "      <th>1</th>\n",
              "      <td>2</td>\n",
              "      <td>8.0</td>\n",
              "      <td>14.0</td>\n",
              "      <td>NaN</td>\n",
              "      <td>26</td>\n",
              "    </tr>\n",
              "    <tr>\n",
              "      <th>2</th>\n",
              "      <td>3</td>\n",
              "      <td>NaN</td>\n",
              "      <td>NaN</td>\n",
              "      <td>21.0</td>\n",
              "      <td>27</td>\n",
              "    </tr>\n",
              "    <tr>\n",
              "      <th>3</th>\n",
              "      <td>4</td>\n",
              "      <td>10.0</td>\n",
              "      <td>NaN</td>\n",
              "      <td>22.0</td>\n",
              "      <td>28</td>\n",
              "    </tr>\n",
              "    <tr>\n",
              "      <th>4</th>\n",
              "      <td>5</td>\n",
              "      <td>NaN</td>\n",
              "      <td>17.0</td>\n",
              "      <td>23.0</td>\n",
              "      <td>29</td>\n",
              "    </tr>\n",
              "    <tr>\n",
              "      <th>5</th>\n",
              "      <td>6</td>\n",
              "      <td>12.0</td>\n",
              "      <td>18.0</td>\n",
              "      <td>24.0</td>\n",
              "      <td>30</td>\n",
              "    </tr>\n",
              "  </tbody>\n",
              "</table>\n",
              "</div>\n",
              "      <button class=\"colab-df-convert\" onclick=\"convertToInteractive('df-60dd5f15-5f42-4eb3-aab6-d7d4e37049b7')\"\n",
              "              title=\"Convert this dataframe to an interactive table.\"\n",
              "              style=\"display:none;\">\n",
              "        \n",
              "  <svg xmlns=\"http://www.w3.org/2000/svg\" height=\"24px\"viewBox=\"0 0 24 24\"\n",
              "       width=\"24px\">\n",
              "    <path d=\"M0 0h24v24H0V0z\" fill=\"none\"/>\n",
              "    <path d=\"M18.56 5.44l.94 2.06.94-2.06 2.06-.94-2.06-.94-.94-2.06-.94 2.06-2.06.94zm-11 1L8.5 8.5l.94-2.06 2.06-.94-2.06-.94L8.5 2.5l-.94 2.06-2.06.94zm10 10l.94 2.06.94-2.06 2.06-.94-2.06-.94-.94-2.06-.94 2.06-2.06.94z\"/><path d=\"M17.41 7.96l-1.37-1.37c-.4-.4-.92-.59-1.43-.59-.52 0-1.04.2-1.43.59L10.3 9.45l-7.72 7.72c-.78.78-.78 2.05 0 2.83L4 21.41c.39.39.9.59 1.41.59.51 0 1.02-.2 1.41-.59l7.78-7.78 2.81-2.81c.8-.78.8-2.07 0-2.86zM5.41 20L4 18.59l7.72-7.72 1.47 1.35L5.41 20z\"/>\n",
              "  </svg>\n",
              "      </button>\n",
              "      \n",
              "  <style>\n",
              "    .colab-df-container {\n",
              "      display:flex;\n",
              "      flex-wrap:wrap;\n",
              "      gap: 12px;\n",
              "    }\n",
              "\n",
              "    .colab-df-convert {\n",
              "      background-color: #E8F0FE;\n",
              "      border: none;\n",
              "      border-radius: 50%;\n",
              "      cursor: pointer;\n",
              "      display: none;\n",
              "      fill: #1967D2;\n",
              "      height: 32px;\n",
              "      padding: 0 0 0 0;\n",
              "      width: 32px;\n",
              "    }\n",
              "\n",
              "    .colab-df-convert:hover {\n",
              "      background-color: #E2EBFA;\n",
              "      box-shadow: 0px 1px 2px rgba(60, 64, 67, 0.3), 0px 1px 3px 1px rgba(60, 64, 67, 0.15);\n",
              "      fill: #174EA6;\n",
              "    }\n",
              "\n",
              "    [theme=dark] .colab-df-convert {\n",
              "      background-color: #3B4455;\n",
              "      fill: #D2E3FC;\n",
              "    }\n",
              "\n",
              "    [theme=dark] .colab-df-convert:hover {\n",
              "      background-color: #434B5C;\n",
              "      box-shadow: 0px 1px 3px 1px rgba(0, 0, 0, 0.15);\n",
              "      filter: drop-shadow(0px 1px 2px rgba(0, 0, 0, 0.3));\n",
              "      fill: #FFFFFF;\n",
              "    }\n",
              "  </style>\n",
              "\n",
              "      <script>\n",
              "        const buttonEl =\n",
              "          document.querySelector('#df-60dd5f15-5f42-4eb3-aab6-d7d4e37049b7 button.colab-df-convert');\n",
              "        buttonEl.style.display =\n",
              "          google.colab.kernel.accessAllowed ? 'block' : 'none';\n",
              "\n",
              "        async function convertToInteractive(key) {\n",
              "          const element = document.querySelector('#df-60dd5f15-5f42-4eb3-aab6-d7d4e37049b7');\n",
              "          const dataTable =\n",
              "            await google.colab.kernel.invokeFunction('convertToInteractive',\n",
              "                                                     [key], {});\n",
              "          if (!dataTable) return;\n",
              "\n",
              "          const docLinkHtml = 'Like what you see? Visit the ' +\n",
              "            '<a target=\"_blank\" href=https://colab.research.google.com/notebooks/data_table.ipynb>data table notebook</a>'\n",
              "            + ' to learn more about interactive tables.';\n",
              "          element.innerHTML = '';\n",
              "          dataTable['output_type'] = 'display_data';\n",
              "          await google.colab.output.renderOutput(dataTable, element);\n",
              "          const docLink = document.createElement('div');\n",
              "          docLink.innerHTML = docLinkHtml;\n",
              "          element.appendChild(docLink);\n",
              "        }\n",
              "      </script>\n",
              "    </div>\n",
              "  </div>\n",
              "  "
            ]
          },
          "metadata": {},
          "execution_count": 21
        }
      ]
    },
    {
      "cell_type": "markdown",
      "source": [
        "Automatizamos la identificación y conteo de valores faltantes con:\n",
        "\n"
      ],
      "metadata": {
        "id": "CeVYzwKVy-Hy"
      }
    },
    {
      "cell_type": "code",
      "source": [
        "# Valores perdidos por variable\n",
        "datos.isnull().sum()"
      ],
      "metadata": {
        "colab": {
          "base_uri": "https://localhost:8080/"
        },
        "id": "qKCbDnSRySfu",
        "outputId": "83a787f5-18c3-4e02-8bc6-f3fc7f653f8f"
      },
      "execution_count": null,
      "outputs": [
        {
          "output_type": "execute_result",
          "data": {
            "text/plain": [
              "A    0\n",
              "B    2\n",
              "C    1\n",
              "D    1\n",
              "E    0\n",
              "dtype: int64"
            ]
          },
          "metadata": {},
          "execution_count": 18
        }
      ]
    },
    {
      "cell_type": "markdown",
      "source": [
        "También podemos identificar gráficamente al existencia de datos faltantes mediante la librería `missingno`, que rellena una matriz de filas-columnas dejando huecos en las posiciones con valores faltantes del banco de datos."
      ],
      "metadata": {
        "id": "E0BkG7GsCtCA"
      }
    },
    {
      "cell_type": "code",
      "source": [
        "import missingno as msno\n",
        "# Solución\n",
        "fig = msno.matrix(datos,color=(0,0.3,0.5))"
      ],
      "metadata": {
        "id": "qVnZzQi4xkFl",
        "colab": {
          "base_uri": "https://localhost:8080/",
          "height": 608
        },
        "outputId": "c411610e-fa73-4983-fcc2-bd2efcc3bff2"
      },
      "execution_count": null,
      "outputs": [
        {
          "output_type": "display_data",
          "data": {
            "text/plain": [
              "<Figure size 1800x720 with 2 Axes>"
            ],
            "image/png": "[encoded data removed]"
          },
          "metadata": {
            "image/png": {
              "width": 1438,
              "height": 591
            },
            "needs_background": "light"
          }
        }
      ]
    },
    {
      "cell_type": "markdown",
      "source": [
        "Una vez identificados los valores faltantes, los eliminamos, con las diferentes opciones que nos da la función `dropna()`."
      ],
      "metadata": {
        "id": "EsBykMNtC_gq"
      }
    },
    {
      "cell_type": "code",
      "source": [
        "# Eliminamos todas las filas con NaN\n",
        "datos.dropna()"
      ],
      "metadata": {
        "id": "9sm_uPNQzP1X",
        "colab": {
          "base_uri": "https://localhost:8080/",
          "height": 111
        },
        "outputId": "97a352f5-8527-46a5-f19a-2edcaa1d9c35"
      },
      "execution_count": null,
      "outputs": [
        {
          "output_type": "execute_result",
          "data": {
            "text/plain": [
              "   A     B     C     D   E\n",
              "0  1   7.0  13.0  19.0  25\n",
              "5  6  12.0  18.0  24.0  30"
            ],
            "text/html": [
              "\n",
              "  <div id=\"df-8944f361-f668-41c7-88ef-3da8ef5ce8d6\">\n",
              "    <div class=\"colab-df-container\">\n",
              "      <div>\n",
              "<style scoped>\n",
              "    .dataframe tbody tr th:only-of-type {\n",
              "        vertical-align: middle;\n",
              "    }\n",
              "\n",
              "    .dataframe tbody tr th {\n",
              "        vertical-align: top;\n",
              "    }\n",
              "\n",
              "    .dataframe thead th {\n",
              "        text-align: right;\n",
              "    }\n",
              "</style>\n",
              "<table border=\"1\" class=\"dataframe\">\n",
              "  <thead>\n",
              "    <tr style=\"text-align: right;\">\n",
              "      <th></th>\n",
              "      <th>A</th>\n",
              "      <th>B</th>\n",
              "      <th>C</th>\n",
              "      <th>D</th>\n",
              "      <th>E</th>\n",
              "    </tr>\n",
              "  </thead>\n",
              "  <tbody>\n",
              "    <tr>\n",
              "      <th>0</th>\n",
              "      <td>1</td>\n",
              "      <td>7.0</td>\n",
              "      <td>13.0</td>\n",
              "      <td>19.0</td>\n",
              "      <td>25</td>\n",
              "    </tr>\n",
              "    <tr>\n",
              "      <th>5</th>\n",
              "      <td>6</td>\n",
              "      <td>12.0</td>\n",
              "      <td>18.0</td>\n",
              "      <td>24.0</td>\n",
              "      <td>30</td>\n",
              "    </tr>\n",
              "  </tbody>\n",
              "</table>\n",
              "</div>\n",
              "      <button class=\"colab-df-convert\" onclick=\"convertToInteractive('df-8944f361-f668-41c7-88ef-3da8ef5ce8d6')\"\n",
              "              title=\"Convert this dataframe to an interactive table.\"\n",
              "              style=\"display:none;\">\n",
              "        \n",
              "  <svg xmlns=\"http://www.w3.org/2000/svg\" height=\"24px\"viewBox=\"0 0 24 24\"\n",
              "       width=\"24px\">\n",
              "    <path d=\"M0 0h24v24H0V0z\" fill=\"none\"/>\n",
              "    <path d=\"M18.56 5.44l.94 2.06.94-2.06 2.06-.94-2.06-.94-.94-2.06-.94 2.06-2.06.94zm-11 1L8.5 8.5l.94-2.06 2.06-.94-2.06-.94L8.5 2.5l-.94 2.06-2.06.94zm10 10l.94 2.06.94-2.06 2.06-.94-2.06-.94-.94-2.06-.94 2.06-2.06.94z\"/><path d=\"M17.41 7.96l-1.37-1.37c-.4-.4-.92-.59-1.43-.59-.52 0-1.04.2-1.43.59L10.3 9.45l-7.72 7.72c-.78.78-.78 2.05 0 2.83L4 21.41c.39.39.9.59 1.41.59.51 0 1.02-.2 1.41-.59l7.78-7.78 2.81-2.81c.8-.78.8-2.07 0-2.86zM5.41 20L4 18.59l7.72-7.72 1.47 1.35L5.41 20z\"/>\n",
              "  </svg>\n",
              "      </button>\n",
              "      \n",
              "  <style>\n",
              "    .colab-df-container {\n",
              "      display:flex;\n",
              "      flex-wrap:wrap;\n",
              "      gap: 12px;\n",
              "    }\n",
              "\n",
              "    .colab-df-convert {\n",
              "      background-color: #E8F0FE;\n",
              "      border: none;\n",
              "      border-radius: 50%;\n",
              "      cursor: pointer;\n",
              "      display: none;\n",
              "      fill: #1967D2;\n",
              "      height: 32px;\n",
              "      padding: 0 0 0 0;\n",
              "      width: 32px;\n",
              "    }\n",
              "\n",
              "    .colab-df-convert:hover {\n",
              "      background-color: #E2EBFA;\n",
              "      box-shadow: 0px 1px 2px rgba(60, 64, 67, 0.3), 0px 1px 3px 1px rgba(60, 64, 67, 0.15);\n",
              "      fill: #174EA6;\n",
              "    }\n",
              "\n",
              "    [theme=dark] .colab-df-convert {\n",
              "      background-color: #3B4455;\n",
              "      fill: #D2E3FC;\n",
              "    }\n",
              "\n",
              "    [theme=dark] .colab-df-convert:hover {\n",
              "      background-color: #434B5C;\n",
              "      box-shadow: 0px 1px 3px 1px rgba(0, 0, 0, 0.15);\n",
              "      filter: drop-shadow(0px 1px 2px rgba(0, 0, 0, 0.3));\n",
              "      fill: #FFFFFF;\n",
              "    }\n",
              "  </style>\n",
              "\n",
              "      <script>\n",
              "        const buttonEl =\n",
              "          document.querySelector('#df-8944f361-f668-41c7-88ef-3da8ef5ce8d6 button.colab-df-convert');\n",
              "        buttonEl.style.display =\n",
              "          google.colab.kernel.accessAllowed ? 'block' : 'none';\n",
              "\n",
              "        async function convertToInteractive(key) {\n",
              "          const element = document.querySelector('#df-8944f361-f668-41c7-88ef-3da8ef5ce8d6');\n",
              "          const dataTable =\n",
              "            await google.colab.kernel.invokeFunction('convertToInteractive',\n",
              "                                                     [key], {});\n",
              "          if (!dataTable) return;\n",
              "\n",
              "          const docLinkHtml = 'Like what you see? Visit the ' +\n",
              "            '<a target=\"_blank\" href=https://colab.research.google.com/notebooks/data_table.ipynb>data table notebook</a>'\n",
              "            + ' to learn more about interactive tables.';\n",
              "          element.innerHTML = '';\n",
              "          dataTable['output_type'] = 'display_data';\n",
              "          await google.colab.output.renderOutput(dataTable, element);\n",
              "          const docLink = document.createElement('div');\n",
              "          docLink.innerHTML = docLinkHtml;\n",
              "          element.appendChild(docLink);\n",
              "        }\n",
              "      </script>\n",
              "    </div>\n",
              "  </div>\n",
              "  "
            ]
          },
          "metadata": {},
          "execution_count": 21
        }
      ]
    },
    {
      "cell_type": "code",
      "source": [
        "# Eliminamos todas las columnas con Nan\n",
        "datos.dropna(axis=1)  "
      ],
      "metadata": {
        "colab": {
          "base_uri": "https://localhost:8080/",
          "height": 235
        },
        "id": "znToGN2OxQg3",
        "outputId": "1b2db97e-f80c-4b22-aa07-d6be57cd524c"
      },
      "execution_count": null,
      "outputs": [
        {
          "output_type": "execute_result",
          "data": {
            "text/plain": [
              "   A   E\n",
              "0  1  25\n",
              "1  2  26\n",
              "2  3  27\n",
              "3  4  28\n",
              "4  5  29\n",
              "5  6  30"
            ],
            "text/html": [
              "\n",
              "  <div id=\"df-3b4f2a9f-817f-455e-9b25-eea22ad447b6\">\n",
              "    <div class=\"colab-df-container\">\n",
              "      <div>\n",
              "<style scoped>\n",
              "    .dataframe tbody tr th:only-of-type {\n",
              "        vertical-align: middle;\n",
              "    }\n",
              "\n",
              "    .dataframe tbody tr th {\n",
              "        vertical-align: top;\n",
              "    }\n",
              "\n",
              "    .dataframe thead th {\n",
              "        text-align: right;\n",
              "    }\n",
              "</style>\n",
              "<table border=\"1\" class=\"dataframe\">\n",
              "  <thead>\n",
              "    <tr style=\"text-align: right;\">\n",
              "      <th></th>\n",
              "      <th>A</th>\n",
              "      <th>E</th>\n",
              "    </tr>\n",
              "  </thead>\n",
              "  <tbody>\n",
              "    <tr>\n",
              "      <th>0</th>\n",
              "      <td>1</td>\n",
              "      <td>25</td>\n",
              "    </tr>\n",
              "    <tr>\n",
              "      <th>1</th>\n",
              "      <td>2</td>\n",
              "      <td>26</td>\n",
              "    </tr>\n",
              "    <tr>\n",
              "      <th>2</th>\n",
              "      <td>3</td>\n",
              "      <td>27</td>\n",
              "    </tr>\n",
              "    <tr>\n",
              "      <th>3</th>\n",
              "      <td>4</td>\n",
              "      <td>28</td>\n",
              "    </tr>\n",
              "    <tr>\n",
              "      <th>4</th>\n",
              "      <td>5</td>\n",
              "      <td>29</td>\n",
              "    </tr>\n",
              "    <tr>\n",
              "      <th>5</th>\n",
              "      <td>6</td>\n",
              "      <td>30</td>\n",
              "    </tr>\n",
              "  </tbody>\n",
              "</table>\n",
              "</div>\n",
              "      <button class=\"colab-df-convert\" onclick=\"convertToInteractive('df-3b4f2a9f-817f-455e-9b25-eea22ad447b6')\"\n",
              "              title=\"Convert this dataframe to an interactive table.\"\n",
              "              style=\"display:none;\">\n",
              "        \n",
              "  <svg xmlns=\"http://www.w3.org/2000/svg\" height=\"24px\"viewBox=\"0 0 24 24\"\n",
              "       width=\"24px\">\n",
              "    <path d=\"M0 0h24v24H0V0z\" fill=\"none\"/>\n",
              "    <path d=\"M18.56 5.44l.94 2.06.94-2.06 2.06-.94-2.06-.94-.94-2.06-.94 2.06-2.06.94zm-11 1L8.5 8.5l.94-2.06 2.06-.94-2.06-.94L8.5 2.5l-.94 2.06-2.06.94zm10 10l.94 2.06.94-2.06 2.06-.94-2.06-.94-.94-2.06-.94 2.06-2.06.94z\"/><path d=\"M17.41 7.96l-1.37-1.37c-.4-.4-.92-.59-1.43-.59-.52 0-1.04.2-1.43.59L10.3 9.45l-7.72 7.72c-.78.78-.78 2.05 0 2.83L4 21.41c.39.39.9.59 1.41.59.51 0 1.02-.2 1.41-.59l7.78-7.78 2.81-2.81c.8-.78.8-2.07 0-2.86zM5.41 20L4 18.59l7.72-7.72 1.47 1.35L5.41 20z\"/>\n",
              "  </svg>\n",
              "      </button>\n",
              "      \n",
              "  <style>\n",
              "    .colab-df-container {\n",
              "      display:flex;\n",
              "      flex-wrap:wrap;\n",
              "      gap: 12px;\n",
              "    }\n",
              "\n",
              "    .colab-df-convert {\n",
              "      background-color: #E8F0FE;\n",
              "      border: none;\n",
              "      border-radius: 50%;\n",
              "      cursor: pointer;\n",
              "      display: none;\n",
              "      fill: #1967D2;\n",
              "      height: 32px;\n",
              "      padding: 0 0 0 0;\n",
              "      width: 32px;\n",
              "    }\n",
              "\n",
              "    .colab-df-convert:hover {\n",
              "      background-color: #E2EBFA;\n",
              "      box-shadow: 0px 1px 2px rgba(60, 64, 67, 0.3), 0px 1px 3px 1px rgba(60, 64, 67, 0.15);\n",
              "      fill: #174EA6;\n",
              "    }\n",
              "\n",
              "    [theme=dark] .colab-df-convert {\n",
              "      background-color: #3B4455;\n",
              "      fill: #D2E3FC;\n",
              "    }\n",
              "\n",
              "    [theme=dark] .colab-df-convert:hover {\n",
              "      background-color: #434B5C;\n",
              "      box-shadow: 0px 1px 3px 1px rgba(0, 0, 0, 0.15);\n",
              "      filter: drop-shadow(0px 1px 2px rgba(0, 0, 0, 0.3));\n",
              "      fill: #FFFFFF;\n",
              "    }\n",
              "  </style>\n",
              "\n",
              "      <script>\n",
              "        const buttonEl =\n",
              "          document.querySelector('#df-3b4f2a9f-817f-455e-9b25-eea22ad447b6 button.colab-df-convert');\n",
              "        buttonEl.style.display =\n",
              "          google.colab.kernel.accessAllowed ? 'block' : 'none';\n",
              "\n",
              "        async function convertToInteractive(key) {\n",
              "          const element = document.querySelector('#df-3b4f2a9f-817f-455e-9b25-eea22ad447b6');\n",
              "          const dataTable =\n",
              "            await google.colab.kernel.invokeFunction('convertToInteractive',\n",
              "                                                     [key], {});\n",
              "          if (!dataTable) return;\n",
              "\n",
              "          const docLinkHtml = 'Like what you see? Visit the ' +\n",
              "            '<a target=\"_blank\" href=https://colab.research.google.com/notebooks/data_table.ipynb>data table notebook</a>'\n",
              "            + ' to learn more about interactive tables.';\n",
              "          element.innerHTML = '';\n",
              "          dataTable['output_type'] = 'display_data';\n",
              "          await google.colab.output.renderOutput(dataTable, element);\n",
              "          const docLink = document.createElement('div');\n",
              "          docLink.innerHTML = docLinkHtml;\n",
              "          element.appendChild(docLink);\n",
              "        }\n",
              "      </script>\n",
              "    </div>\n",
              "  </div>\n",
              "  "
            ]
          },
          "metadata": {},
          "execution_count": 40
        }
      ]
    },
    {
      "cell_type": "code",
      "source": [
        "# Eliminamos las filas en que todas sus columnas sean NaN\n",
        "datos.dropna(how='all')   \n",
        "# (quedan todas las filas, pues ninguna es enteramente de valores faltantes)"
      ],
      "metadata": {
        "colab": {
          "base_uri": "https://localhost:8080/",
          "height": 236
        },
        "id": "l8K6ADK9xV3P",
        "outputId": "12f00669-8794-42e8-eb80-59a8244dd34c"
      },
      "execution_count": null,
      "outputs": [
        {
          "output_type": "execute_result",
          "data": {
            "text/plain": [
              "   A     B     C     D   E\n",
              "0  1   7.0  13.0  19.0  25\n",
              "1  2   8.0  14.0   NaN  26\n",
              "2  3   NaN  15.0  21.0  27\n",
              "3  4  10.0   NaN  22.0  28\n",
              "4  5   NaN  17.0  23.0  29\n",
              "5  6  12.0  18.0  24.0  30"
            ],
            "text/html": [
              "\n",
              "  <div id=\"df-0ada1d0b-6bd2-4010-8f27-cd008381f1cb\">\n",
              "    <div class=\"colab-df-container\">\n",
              "      <div>\n",
              "<style scoped>\n",
              "    .dataframe tbody tr th:only-of-type {\n",
              "        vertical-align: middle;\n",
              "    }\n",
              "\n",
              "    .dataframe tbody tr th {\n",
              "        vertical-align: top;\n",
              "    }\n",
              "\n",
              "    .dataframe thead th {\n",
              "        text-align: right;\n",
              "    }\n",
              "</style>\n",
              "<table border=\"1\" class=\"dataframe\">\n",
              "  <thead>\n",
              "    <tr style=\"text-align: right;\">\n",
              "      <th></th>\n",
              "      <th>A</th>\n",
              "      <th>B</th>\n",
              "      <th>C</th>\n",
              "      <th>D</th>\n",
              "      <th>E</th>\n",
              "    </tr>\n",
              "  </thead>\n",
              "  <tbody>\n",
              "    <tr>\n",
              "      <th>0</th>\n",
              "      <td>1</td>\n",
              "      <td>7.0</td>\n",
              "      <td>13.0</td>\n",
              "      <td>19.0</td>\n",
              "      <td>25</td>\n",
              "    </tr>\n",
              "    <tr>\n",
              "      <th>1</th>\n",
              "      <td>2</td>\n",
              "      <td>8.0</td>\n",
              "      <td>14.0</td>\n",
              "      <td>NaN</td>\n",
              "      <td>26</td>\n",
              "    </tr>\n",
              "    <tr>\n",
              "      <th>2</th>\n",
              "      <td>3</td>\n",
              "      <td>NaN</td>\n",
              "      <td>15.0</td>\n",
              "      <td>21.0</td>\n",
              "      <td>27</td>\n",
              "    </tr>\n",
              "    <tr>\n",
              "      <th>3</th>\n",
              "      <td>4</td>\n",
              "      <td>10.0</td>\n",
              "      <td>NaN</td>\n",
              "      <td>22.0</td>\n",
              "      <td>28</td>\n",
              "    </tr>\n",
              "    <tr>\n",
              "      <th>4</th>\n",
              "      <td>5</td>\n",
              "      <td>NaN</td>\n",
              "      <td>17.0</td>\n",
              "      <td>23.0</td>\n",
              "      <td>29</td>\n",
              "    </tr>\n",
              "    <tr>\n",
              "      <th>5</th>\n",
              "      <td>6</td>\n",
              "      <td>12.0</td>\n",
              "      <td>18.0</td>\n",
              "      <td>24.0</td>\n",
              "      <td>30</td>\n",
              "    </tr>\n",
              "  </tbody>\n",
              "</table>\n",
              "</div>\n",
              "      <button class=\"colab-df-convert\" onclick=\"convertToInteractive('df-0ada1d0b-6bd2-4010-8f27-cd008381f1cb')\"\n",
              "              title=\"Convert this dataframe to an interactive table.\"\n",
              "              style=\"display:none;\">\n",
              "        \n",
              "  <svg xmlns=\"http://www.w3.org/2000/svg\" height=\"24px\"viewBox=\"0 0 24 24\"\n",
              "       width=\"24px\">\n",
              "    <path d=\"M0 0h24v24H0V0z\" fill=\"none\"/>\n",
              "    <path d=\"M18.56 5.44l.94 2.06.94-2.06 2.06-.94-2.06-.94-.94-2.06-.94 2.06-2.06.94zm-11 1L8.5 8.5l.94-2.06 2.06-.94-2.06-.94L8.5 2.5l-.94 2.06-2.06.94zm10 10l.94 2.06.94-2.06 2.06-.94-2.06-.94-.94-2.06-.94 2.06-2.06.94z\"/><path d=\"M17.41 7.96l-1.37-1.37c-.4-.4-.92-.59-1.43-.59-.52 0-1.04.2-1.43.59L10.3 9.45l-7.72 7.72c-.78.78-.78 2.05 0 2.83L4 21.41c.39.39.9.59 1.41.59.51 0 1.02-.2 1.41-.59l7.78-7.78 2.81-2.81c.8-.78.8-2.07 0-2.86zM5.41 20L4 18.59l7.72-7.72 1.47 1.35L5.41 20z\"/>\n",
              "  </svg>\n",
              "      </button>\n",
              "      \n",
              "  <style>\n",
              "    .colab-df-container {\n",
              "      display:flex;\n",
              "      flex-wrap:wrap;\n",
              "      gap: 12px;\n",
              "    }\n",
              "\n",
              "    .colab-df-convert {\n",
              "      background-color: #E8F0FE;\n",
              "      border: none;\n",
              "      border-radius: 50%;\n",
              "      cursor: pointer;\n",
              "      display: none;\n",
              "      fill: #1967D2;\n",
              "      height: 32px;\n",
              "      padding: 0 0 0 0;\n",
              "      width: 32px;\n",
              "    }\n",
              "\n",
              "    .colab-df-convert:hover {\n",
              "      background-color: #E2EBFA;\n",
              "      box-shadow: 0px 1px 2px rgba(60, 64, 67, 0.3), 0px 1px 3px 1px rgba(60, 64, 67, 0.15);\n",
              "      fill: #174EA6;\n",
              "    }\n",
              "\n",
              "    [theme=dark] .colab-df-convert {\n",
              "      background-color: #3B4455;\n",
              "      fill: #D2E3FC;\n",
              "    }\n",
              "\n",
              "    [theme=dark] .colab-df-convert:hover {\n",
              "      background-color: #434B5C;\n",
              "      box-shadow: 0px 1px 3px 1px rgba(0, 0, 0, 0.15);\n",
              "      filter: drop-shadow(0px 1px 2px rgba(0, 0, 0, 0.3));\n",
              "      fill: #FFFFFF;\n",
              "    }\n",
              "  </style>\n",
              "\n",
              "      <script>\n",
              "        const buttonEl =\n",
              "          document.querySelector('#df-0ada1d0b-6bd2-4010-8f27-cd008381f1cb button.colab-df-convert');\n",
              "        buttonEl.style.display =\n",
              "          google.colab.kernel.accessAllowed ? 'block' : 'none';\n",
              "\n",
              "        async function convertToInteractive(key) {\n",
              "          const element = document.querySelector('#df-0ada1d0b-6bd2-4010-8f27-cd008381f1cb');\n",
              "          const dataTable =\n",
              "            await google.colab.kernel.invokeFunction('convertToInteractive',\n",
              "                                                     [key], {});\n",
              "          if (!dataTable) return;\n",
              "\n",
              "          const docLinkHtml = 'Like what you see? Visit the ' +\n",
              "            '<a target=\"_blank\" href=https://colab.research.google.com/notebooks/data_table.ipynb>data table notebook</a>'\n",
              "            + ' to learn more about interactive tables.';\n",
              "          element.innerHTML = '';\n",
              "          dataTable['output_type'] = 'display_data';\n",
              "          await google.colab.output.renderOutput(dataTable, element);\n",
              "          const docLink = document.createElement('div');\n",
              "          docLink.innerHTML = docLinkHtml;\n",
              "          element.appendChild(docLink);\n",
              "        }\n",
              "      </script>\n",
              "    </div>\n",
              "  </div>\n",
              "  "
            ]
          },
          "metadata": {},
          "execution_count": 19
        }
      ]
    },
    {
      "cell_type": "code",
      "source": [
        "# Eliminamos las filas que tienen menos de 4 valores completos (no faltantes)\n",
        "datos.dropna(thresh=4)   "
      ],
      "metadata": {
        "colab": {
          "base_uri": "https://localhost:8080/",
          "height": 204
        },
        "id": "ji8nUvpYxfVq",
        "outputId": "ca36217a-7d1f-452f-ac57-d93d72f93bab"
      },
      "execution_count": null,
      "outputs": [
        {
          "output_type": "execute_result",
          "data": {
            "text/plain": [
              "   A     B     C     D   E\n",
              "0  1   7.0  13.0  19.0  25\n",
              "1  2   8.0  14.0   NaN  26\n",
              "3  4  10.0   NaN  22.0  28\n",
              "4  5   NaN  17.0  23.0  29\n",
              "5  6  12.0  18.0  24.0  30"
            ],
            "text/html": [
              "\n",
              "  <div id=\"df-de169801-b87a-42ef-899d-a8e576d08200\">\n",
              "    <div class=\"colab-df-container\">\n",
              "      <div>\n",
              "<style scoped>\n",
              "    .dataframe tbody tr th:only-of-type {\n",
              "        vertical-align: middle;\n",
              "    }\n",
              "\n",
              "    .dataframe tbody tr th {\n",
              "        vertical-align: top;\n",
              "    }\n",
              "\n",
              "    .dataframe thead th {\n",
              "        text-align: right;\n",
              "    }\n",
              "</style>\n",
              "<table border=\"1\" class=\"dataframe\">\n",
              "  <thead>\n",
              "    <tr style=\"text-align: right;\">\n",
              "      <th></th>\n",
              "      <th>A</th>\n",
              "      <th>B</th>\n",
              "      <th>C</th>\n",
              "      <th>D</th>\n",
              "      <th>E</th>\n",
              "    </tr>\n",
              "  </thead>\n",
              "  <tbody>\n",
              "    <tr>\n",
              "      <th>0</th>\n",
              "      <td>1</td>\n",
              "      <td>7.0</td>\n",
              "      <td>13.0</td>\n",
              "      <td>19.0</td>\n",
              "      <td>25</td>\n",
              "    </tr>\n",
              "    <tr>\n",
              "      <th>1</th>\n",
              "      <td>2</td>\n",
              "      <td>8.0</td>\n",
              "      <td>14.0</td>\n",
              "      <td>NaN</td>\n",
              "      <td>26</td>\n",
              "    </tr>\n",
              "    <tr>\n",
              "      <th>3</th>\n",
              "      <td>4</td>\n",
              "      <td>10.0</td>\n",
              "      <td>NaN</td>\n",
              "      <td>22.0</td>\n",
              "      <td>28</td>\n",
              "    </tr>\n",
              "    <tr>\n",
              "      <th>4</th>\n",
              "      <td>5</td>\n",
              "      <td>NaN</td>\n",
              "      <td>17.0</td>\n",
              "      <td>23.0</td>\n",
              "      <td>29</td>\n",
              "    </tr>\n",
              "    <tr>\n",
              "      <th>5</th>\n",
              "      <td>6</td>\n",
              "      <td>12.0</td>\n",
              "      <td>18.0</td>\n",
              "      <td>24.0</td>\n",
              "      <td>30</td>\n",
              "    </tr>\n",
              "  </tbody>\n",
              "</table>\n",
              "</div>\n",
              "      <button class=\"colab-df-convert\" onclick=\"convertToInteractive('df-de169801-b87a-42ef-899d-a8e576d08200')\"\n",
              "              title=\"Convert this dataframe to an interactive table.\"\n",
              "              style=\"display:none;\">\n",
              "        \n",
              "  <svg xmlns=\"http://www.w3.org/2000/svg\" height=\"24px\"viewBox=\"0 0 24 24\"\n",
              "       width=\"24px\">\n",
              "    <path d=\"M0 0h24v24H0V0z\" fill=\"none\"/>\n",
              "    <path d=\"M18.56 5.44l.94 2.06.94-2.06 2.06-.94-2.06-.94-.94-2.06-.94 2.06-2.06.94zm-11 1L8.5 8.5l.94-2.06 2.06-.94-2.06-.94L8.5 2.5l-.94 2.06-2.06.94zm10 10l.94 2.06.94-2.06 2.06-.94-2.06-.94-.94-2.06-.94 2.06-2.06.94z\"/><path d=\"M17.41 7.96l-1.37-1.37c-.4-.4-.92-.59-1.43-.59-.52 0-1.04.2-1.43.59L10.3 9.45l-7.72 7.72c-.78.78-.78 2.05 0 2.83L4 21.41c.39.39.9.59 1.41.59.51 0 1.02-.2 1.41-.59l7.78-7.78 2.81-2.81c.8-.78.8-2.07 0-2.86zM5.41 20L4 18.59l7.72-7.72 1.47 1.35L5.41 20z\"/>\n",
              "  </svg>\n",
              "      </button>\n",
              "      \n",
              "  <style>\n",
              "    .colab-df-container {\n",
              "      display:flex;\n",
              "      flex-wrap:wrap;\n",
              "      gap: 12px;\n",
              "    }\n",
              "\n",
              "    .colab-df-convert {\n",
              "      background-color: #E8F0FE;\n",
              "      border: none;\n",
              "      border-radius: 50%;\n",
              "      cursor: pointer;\n",
              "      display: none;\n",
              "      fill: #1967D2;\n",
              "      height: 32px;\n",
              "      padding: 0 0 0 0;\n",
              "      width: 32px;\n",
              "    }\n",
              "\n",
              "    .colab-df-convert:hover {\n",
              "      background-color: #E2EBFA;\n",
              "      box-shadow: 0px 1px 2px rgba(60, 64, 67, 0.3), 0px 1px 3px 1px rgba(60, 64, 67, 0.15);\n",
              "      fill: #174EA6;\n",
              "    }\n",
              "\n",
              "    [theme=dark] .colab-df-convert {\n",
              "      background-color: #3B4455;\n",
              "      fill: #D2E3FC;\n",
              "    }\n",
              "\n",
              "    [theme=dark] .colab-df-convert:hover {\n",
              "      background-color: #434B5C;\n",
              "      box-shadow: 0px 1px 3px 1px rgba(0, 0, 0, 0.15);\n",
              "      filter: drop-shadow(0px 1px 2px rgba(0, 0, 0, 0.3));\n",
              "      fill: #FFFFFF;\n",
              "    }\n",
              "  </style>\n",
              "\n",
              "      <script>\n",
              "        const buttonEl =\n",
              "          document.querySelector('#df-de169801-b87a-42ef-899d-a8e576d08200 button.colab-df-convert');\n",
              "        buttonEl.style.display =\n",
              "          google.colab.kernel.accessAllowed ? 'block' : 'none';\n",
              "\n",
              "        async function convertToInteractive(key) {\n",
              "          const element = document.querySelector('#df-de169801-b87a-42ef-899d-a8e576d08200');\n",
              "          const dataTable =\n",
              "            await google.colab.kernel.invokeFunction('convertToInteractive',\n",
              "                                                     [key], {});\n",
              "          if (!dataTable) return;\n",
              "\n",
              "          const docLinkHtml = 'Like what you see? Visit the ' +\n",
              "            '<a target=\"_blank\" href=https://colab.research.google.com/notebooks/data_table.ipynb>data table notebook</a>'\n",
              "            + ' to learn more about interactive tables.';\n",
              "          element.innerHTML = '';\n",
              "          dataTable['output_type'] = 'display_data';\n",
              "          await google.colab.output.renderOutput(dataTable, element);\n",
              "          const docLink = document.createElement('div');\n",
              "          docLink.innerHTML = docLinkHtml;\n",
              "          element.appendChild(docLink);\n",
              "        }\n",
              "      </script>\n",
              "    </div>\n",
              "  </div>\n",
              "  "
            ]
          },
          "metadata": {},
          "execution_count": 27
        }
      ]
    },
    {
      "cell_type": "code",
      "source": [
        "# Eliminamos las muestras donde la variable 'C' tiene NaN \n",
        "datos.dropna(subset=['C']) "
      ],
      "metadata": {
        "colab": {
          "base_uri": "https://localhost:8080/",
          "height": 204
        },
        "id": "gdHohpikxhHY",
        "outputId": "54d44769-1a2d-430a-c170-41a74258784c"
      },
      "execution_count": null,
      "outputs": [
        {
          "output_type": "execute_result",
          "data": {
            "text/plain": [
              "   A     B     C     D   E\n",
              "0  1   7.0  13.0  19.0  25\n",
              "1  2   8.0  14.0   NaN  26\n",
              "2  3   NaN  15.0  21.0  27\n",
              "4  5   NaN  17.0  23.0  29\n",
              "5  6  12.0  18.0  24.0  30"
            ],
            "text/html": [
              "\n",
              "  <div id=\"df-4a9cde79-e6ee-44cd-93b7-a6434023b826\">\n",
              "    <div class=\"colab-df-container\">\n",
              "      <div>\n",
              "<style scoped>\n",
              "    .dataframe tbody tr th:only-of-type {\n",
              "        vertical-align: middle;\n",
              "    }\n",
              "\n",
              "    .dataframe tbody tr th {\n",
              "        vertical-align: top;\n",
              "    }\n",
              "\n",
              "    .dataframe thead th {\n",
              "        text-align: right;\n",
              "    }\n",
              "</style>\n",
              "<table border=\"1\" class=\"dataframe\">\n",
              "  <thead>\n",
              "    <tr style=\"text-align: right;\">\n",
              "      <th></th>\n",
              "      <th>A</th>\n",
              "      <th>B</th>\n",
              "      <th>C</th>\n",
              "      <th>D</th>\n",
              "      <th>E</th>\n",
              "    </tr>\n",
              "  </thead>\n",
              "  <tbody>\n",
              "    <tr>\n",
              "      <th>0</th>\n",
              "      <td>1</td>\n",
              "      <td>7.0</td>\n",
              "      <td>13.0</td>\n",
              "      <td>19.0</td>\n",
              "      <td>25</td>\n",
              "    </tr>\n",
              "    <tr>\n",
              "      <th>1</th>\n",
              "      <td>2</td>\n",
              "      <td>8.0</td>\n",
              "      <td>14.0</td>\n",
              "      <td>NaN</td>\n",
              "      <td>26</td>\n",
              "    </tr>\n",
              "    <tr>\n",
              "      <th>2</th>\n",
              "      <td>3</td>\n",
              "      <td>NaN</td>\n",
              "      <td>15.0</td>\n",
              "      <td>21.0</td>\n",
              "      <td>27</td>\n",
              "    </tr>\n",
              "    <tr>\n",
              "      <th>4</th>\n",
              "      <td>5</td>\n",
              "      <td>NaN</td>\n",
              "      <td>17.0</td>\n",
              "      <td>23.0</td>\n",
              "      <td>29</td>\n",
              "    </tr>\n",
              "    <tr>\n",
              "      <th>5</th>\n",
              "      <td>6</td>\n",
              "      <td>12.0</td>\n",
              "      <td>18.0</td>\n",
              "      <td>24.0</td>\n",
              "      <td>30</td>\n",
              "    </tr>\n",
              "  </tbody>\n",
              "</table>\n",
              "</div>\n",
              "      <button class=\"colab-df-convert\" onclick=\"convertToInteractive('df-4a9cde79-e6ee-44cd-93b7-a6434023b826')\"\n",
              "              title=\"Convert this dataframe to an interactive table.\"\n",
              "              style=\"display:none;\">\n",
              "        \n",
              "  <svg xmlns=\"http://www.w3.org/2000/svg\" height=\"24px\"viewBox=\"0 0 24 24\"\n",
              "       width=\"24px\">\n",
              "    <path d=\"M0 0h24v24H0V0z\" fill=\"none\"/>\n",
              "    <path d=\"M18.56 5.44l.94 2.06.94-2.06 2.06-.94-2.06-.94-.94-2.06-.94 2.06-2.06.94zm-11 1L8.5 8.5l.94-2.06 2.06-.94-2.06-.94L8.5 2.5l-.94 2.06-2.06.94zm10 10l.94 2.06.94-2.06 2.06-.94-2.06-.94-.94-2.06-.94 2.06-2.06.94z\"/><path d=\"M17.41 7.96l-1.37-1.37c-.4-.4-.92-.59-1.43-.59-.52 0-1.04.2-1.43.59L10.3 9.45l-7.72 7.72c-.78.78-.78 2.05 0 2.83L4 21.41c.39.39.9.59 1.41.59.51 0 1.02-.2 1.41-.59l7.78-7.78 2.81-2.81c.8-.78.8-2.07 0-2.86zM5.41 20L4 18.59l7.72-7.72 1.47 1.35L5.41 20z\"/>\n",
              "  </svg>\n",
              "      </button>\n",
              "      \n",
              "  <style>\n",
              "    .colab-df-container {\n",
              "      display:flex;\n",
              "      flex-wrap:wrap;\n",
              "      gap: 12px;\n",
              "    }\n",
              "\n",
              "    .colab-df-convert {\n",
              "      background-color: #E8F0FE;\n",
              "      border: none;\n",
              "      border-radius: 50%;\n",
              "      cursor: pointer;\n",
              "      display: none;\n",
              "      fill: #1967D2;\n",
              "      height: 32px;\n",
              "      padding: 0 0 0 0;\n",
              "      width: 32px;\n",
              "    }\n",
              "\n",
              "    .colab-df-convert:hover {\n",
              "      background-color: #E2EBFA;\n",
              "      box-shadow: 0px 1px 2px rgba(60, 64, 67, 0.3), 0px 1px 3px 1px rgba(60, 64, 67, 0.15);\n",
              "      fill: #174EA6;\n",
              "    }\n",
              "\n",
              "    [theme=dark] .colab-df-convert {\n",
              "      background-color: #3B4455;\n",
              "      fill: #D2E3FC;\n",
              "    }\n",
              "\n",
              "    [theme=dark] .colab-df-convert:hover {\n",
              "      background-color: #434B5C;\n",
              "      box-shadow: 0px 1px 3px 1px rgba(0, 0, 0, 0.15);\n",
              "      filter: drop-shadow(0px 1px 2px rgba(0, 0, 0, 0.3));\n",
              "      fill: #FFFFFF;\n",
              "    }\n",
              "  </style>\n",
              "\n",
              "      <script>\n",
              "        const buttonEl =\n",
              "          document.querySelector('#df-4a9cde79-e6ee-44cd-93b7-a6434023b826 button.colab-df-convert');\n",
              "        buttonEl.style.display =\n",
              "          google.colab.kernel.accessAllowed ? 'block' : 'none';\n",
              "\n",
              "        async function convertToInteractive(key) {\n",
              "          const element = document.querySelector('#df-4a9cde79-e6ee-44cd-93b7-a6434023b826');\n",
              "          const dataTable =\n",
              "            await google.colab.kernel.invokeFunction('convertToInteractive',\n",
              "                                                     [key], {});\n",
              "          if (!dataTable) return;\n",
              "\n",
              "          const docLinkHtml = 'Like what you see? Visit the ' +\n",
              "            '<a target=\"_blank\" href=https://colab.research.google.com/notebooks/data_table.ipynb>data table notebook</a>'\n",
              "            + ' to learn more about interactive tables.';\n",
              "          element.innerHTML = '';\n",
              "          dataTable['output_type'] = 'display_data';\n",
              "          await google.colab.output.renderOutput(dataTable, element);\n",
              "          const docLink = document.createElement('div');\n",
              "          docLink.innerHTML = docLinkHtml;\n",
              "          element.appendChild(docLink);\n",
              "        }\n",
              "      </script>\n",
              "    </div>\n",
              "  </div>\n",
              "  "
            ]
          },
          "metadata": {},
          "execution_count": 43
        }
      ]
    },
    {
      "cell_type": "code",
      "source": [
        "# Sustituimos la tabla original por una sin muestras (filas) con menos de 4 datos completos\n",
        "datos.dropna(thresh=4,inplace=True)\n",
        "print(datos)"
      ],
      "metadata": {
        "colab": {
          "base_uri": "https://localhost:8080/"
        },
        "id": "ktBdqIA_p8so",
        "outputId": "c743da19-3006-42f3-ff54-2f0c0e482932"
      },
      "execution_count": null,
      "outputs": [
        {
          "output_type": "stream",
          "name": "stdout",
          "text": [
            "   A     B     C     D   E\n",
            "0  1   7.0  13.0  19.0  25\n",
            "1  2   8.0  14.0   NaN  26\n",
            "3  4  10.0   NaN  22.0  28\n",
            "4  5   NaN  17.0  23.0  29\n",
            "5  6  12.0  18.0  24.0  30\n"
          ]
        }
      ]
    },
    {
      "cell_type": "markdown",
      "source": [
        "### Imputar valores"
      ],
      "metadata": {
        "id": "BMfgYbFHmKpa"
      }
    },
    {
      "cell_type": "markdown",
      "source": [
        "La imputación de valores perdidos tiene por objetivo sustituir dichos valores por otros que sean compatibles con la información contenida en la tabla de datos. Las formas habituales de imputación son:  \n",
        "\n",
        "* Univariada, o asociada a una única variable de la tabla de datos, de forma que la imputación se realiza sobre los valores faltantes en una variable, utilizando solo los valores observados para dicha variable. \n",
        "\n",
        "* Multivariante, o asociada a un conjunto de variables, de forma que se utiliza todo el conjunto de variables disponibles para estimar los valores que faltan."
      ],
      "metadata": {
        "id": "YUO4O9yal6s9"
      }
    },
    {
      "cell_type": "markdown",
      "source": [
        "Para proceder con la imputación ytilizamos los módulos [``sklearn.impute``](https://scikit-learn.org/stable/modules/generated/sklearn.impute.SimpleImputer.html) y [``sklearn.experimental``](https://scikit-learn.org/stable/modules/generated/sklearn.experimental.enable_iterative_imputer.html), que incorporan varios métodos de imputación distintos:\n",
        "\n",
        "* [`SimpleImputer`](https://scikit-learn.org/stable/modules/generated/sklearn.impute.SimpleImputer.html?highlight=simple%20imputer#sklearn.impute.SimpleImputer), para imputación univariada.\n",
        "* [`IterativeImputer`](https://scikit-learn.org/stable/modules/generated/sklearn.impute.IterativeImputer.html?highlight=iterativeimputer#sklearn.impute.IterativeImputer), para imputación multivariante.\n",
        "\n",
        "A continuación se muestra el uso de dichas funciones en algunos ejemplos."
      ],
      "metadata": {
        "id": "TiVRb4s4Jzek"
      }
    },
    {
      "cell_type": "markdown",
      "source": [
        "Antes de desglosar los diferentes procedimientos de imputación cargamos los módulos necesarios.\n"
      ],
      "metadata": {
        "id": "8bxkfaQodk0p"
      }
    },
    {
      "cell_type": "code",
      "source": [
        "# Imputación univariada\n",
        "from sklearn.impute import SimpleImputer\n",
        "# Imputación multivariante\n",
        "from sklearn.experimental import enable_iterative_imputer\n",
        "from sklearn.impute import IterativeImputer"
      ],
      "metadata": {
        "id": "5ClL1klNZULd"
      },
      "execution_count": null,
      "outputs": []
    },
    {
      "cell_type": "markdown",
      "source": [
        "#### Univariada"
      ],
      "metadata": {
        "id": "PwH9D_3p08ex"
      }
    },
    {
      "cell_type": "markdown",
      "source": [
        "En este caso los valores perdidos se pueden imputar con un valor constante proporcionado por el usuario o utilizando las estadísticas resumen (media, mediana, valor más frecuente o un valor fijo) de cada variable en la que se encuentran los valores perdidos. Los parámetros básicos de esta función son:\n",
        "\n",
        "* `missing_values` que identifica los valores perdidos.\n",
        "* `strategy` que nos permite indicar el tipo de resumen utilizado para rellenar los valores faltantes ('mean', 'median', 'most frequent' y 'constant'). En el caso de utilizar un valor constante lo deberemos establecer con el parámetro `fill_value`.\n",
        "\n"
      ],
      "metadata": {
        "id": "AZtuYwKj06sN"
      }
    },
    {
      "cell_type": "markdown",
      "source": [
        "##### Ejemplo 4\n",
        "\n",
        "En este primer ejemplo reemplazamos los valores perdidos en cada variable, codificados como 'np.nan', con el valor medio de cada una (cada columna de la tabla)."
      ],
      "metadata": {
        "id": "C88LGLier9US"
      }
    },
    {
      "cell_type": "code",
      "source": [
        "# Cargamos los datos\n",
        "X = [[np.nan, 2, 3], \n",
        "     [4, np.nan, 6], \n",
        "     [10, np.nan, 9],\n",
        "     [6, 8, 7],\n",
        "     [10, 6, 5]]\n",
        "\n",
        "# Imputación univariada\n",
        "from sklearn.impute import SimpleImputer\n",
        "# Configuramos el entorno de imputación con la media\n",
        "imp = SimpleImputer(missing_values=np.nan, strategy='mean')\n",
        "# Imputación y presentación del nuevo conjunto de datos\n",
        "print(imp.fit_transform(X))\n"
      ],
      "metadata": {
        "id": "kbZpPyfV1U2M",
        "colab": {
          "base_uri": "https://localhost:8080/"
        },
        "outputId": "c3d8a9b3-ab90-4cfa-874c-74692b5c26bd"
      },
      "execution_count": null,
      "outputs": [
        {
          "output_type": "stream",
          "name": "stdout",
          "text": [
            "[[ 7.5         2.          3.        ]\n",
            " [ 4.          5.33333333  6.        ]\n",
            " [10.          5.33333333  9.        ]\n",
            " [ 6.          8.          7.        ]\n",
            " [10.          6.          5.        ]]\n"
          ]
        }
      ]
    },
    {
      "cell_type": "markdown",
      "source": [
        "Veamos otra aplicación sobre el banco de datos `stroke`. En primer lugar identificamos las variables que contienen valores faltantes, contando el número de faltantes en cada columna."
      ],
      "metadata": {
        "id": "Jyz7kU2w1_9g"
      }
    },
    {
      "cell_type": "code",
      "source": [
        "stroke.isnull().sum()"
      ],
      "metadata": {
        "colab": {
          "base_uri": "https://localhost:8080/"
        },
        "id": "sUDn-IK0EcvJ",
        "outputId": "50e28a75-e29f-4cd3-a055-413e90424f06"
      },
      "execution_count": null,
      "outputs": [
        {
          "output_type": "execute_result",
          "data": {
            "text/plain": [
              "id                     0\n",
              "gender                 0\n",
              "age                    0\n",
              "hypertension           0\n",
              "heart_disease          0\n",
              "ever_married           0\n",
              "work_type              0\n",
              "Residence_type         0\n",
              "avg_glucose_level      0\n",
              "bmi                  201\n",
              "smoking_status         0\n",
              "stroke                 0\n",
              "dtype: int64"
            ]
          },
          "metadata": {},
          "execution_count": 42
        }
      ]
    },
    {
      "cell_type": "markdown",
      "source": [
        "Realizamos la identificación gráfica:"
      ],
      "metadata": {
        "id": "v_LTcym7Ea0S"
      }
    },
    {
      "cell_type": "code",
      "source": [
        "fig = msno.matrix(stroke,color=(0,0.5,0.5))"
      ],
      "metadata": {
        "colab": {
          "base_uri": "https://localhost:8080/",
          "height": 708
        },
        "id": "eCxBwYogEjBv",
        "outputId": "7621aa86-10fe-4d29-b18f-2da9470d12ca"
      },
      "execution_count": null,
      "outputs": [
        {
          "output_type": "display_data",
          "data": {
            "text/plain": [
              "<Figure size 1800x720 with 2 Axes>"
            ],
            "image/png": "[encoded data removed]"
          },
          "metadata": {
            "image/png": {
              "width": 1485,
              "height": 691
            },
            "needs_background": "light"
          }
        }
      ]
    },
    {
      "cell_type": "markdown",
      "source": [
        "Dado que la única característica con valores ausentes es `bmi` pasamos a completar dichos valores. Dado que se trata de una variable de tipo numérico exploramos la posibilidad de completar dichos valores con la mediana de los datos observados (para esa variable), ya que dicha medida se ve menos alterada por la presencia de observaciones ausentes. Evaluamos la imputación calculando la media para dicha variable antes y después de la imputación."
      ],
      "metadata": {
        "id": "aJLwSYMkGYHL"
      }
    },
    {
      "cell_type": "code",
      "source": [
        "# Obtenemos el valor de la media antes de la imputación\n",
        "stroke[['bmi']].mean()"
      ],
      "metadata": {
        "colab": {
          "base_uri": "https://localhost:8080/"
        },
        "id": "SD1JMzuBHjbK",
        "outputId": "02d80b44-2cc5-47e2-a0a7-5f0e243f35a4"
      },
      "execution_count": null,
      "outputs": [
        {
          "output_type": "execute_result",
          "data": {
            "text/plain": [
              "bmi    28.893237\n",
              "dtype: float64"
            ]
          },
          "metadata": {},
          "execution_count": 43
        }
      ]
    },
    {
      "cell_type": "code",
      "source": [
        "# Configuramos el entorno de imputación con la mediana\n",
        "imp = SimpleImputer(missing_values=np.nan, strategy='median')\n",
        "# Imputación de valore\n",
        "stroke[['bmi']] = imp.fit_transform(stroke[['bmi']])\n",
        "# verificación de que ya no hay valores faltantes\n",
        "stroke.isnull().sum()"
      ],
      "metadata": {
        "colab": {
          "base_uri": "https://localhost:8080/"
        },
        "id": "HK81GNOAE4CW",
        "outputId": "bbd61c2d-c1cf-4103-978f-081679c12487"
      },
      "execution_count": null,
      "outputs": [
        {
          "output_type": "execute_result",
          "data": {
            "text/plain": [
              "id                   0\n",
              "gender               0\n",
              "age                  0\n",
              "hypertension         0\n",
              "heart_disease        0\n",
              "ever_married         0\n",
              "work_type            0\n",
              "Residence_type       0\n",
              "avg_glucose_level    0\n",
              "bmi                  0\n",
              "smoking_status       0\n",
              "stroke               0\n",
              "dtype: int64"
            ]
          },
          "metadata": {},
          "execution_count": 45
        }
      ]
    },
    {
      "cell_type": "code",
      "source": [
        "# Valor de la media tras la imputación\n",
        "stroke[['bmi']].mean()"
      ],
      "metadata": {
        "colab": {
          "base_uri": "https://localhost:8080/"
        },
        "id": "Qnv0VHlsIC9-",
        "outputId": "dfb59925-78c4-4790-f007-6d14e4ebec21"
      },
      "execution_count": null,
      "outputs": [
        {
          "output_type": "execute_result",
          "data": {
            "text/plain": [
              "bmi    28.862035\n",
              "dtype: float64"
            ]
          },
          "metadata": {},
          "execution_count": 46
        }
      ]
    },
    {
      "cell_type": "markdown",
      "source": [
        "Podemos ver como la estimación de la media es muy similar a la que teníamos antes de la imputación, con lo que dicho proceso nos ofrece cierta confiabilidad en que la imputación no ha alterado el comportamiento original de los datos."
      ],
      "metadata": {
        "id": "dGLs0G6vI-NO"
      }
    },
    {
      "cell_type": "markdown",
      "source": [
        "La función `SimpleImputer` también nos permite imputar valores en características de tipo categórico, solo que en este caso deberemos utilizar el parámetro `most_frequent` o `constant`, al no disponer de valores numéricos para la evaluación de la media o mediana. Veamos un pequeño ejemplo:"
      ],
      "metadata": {
        "id": "xR6Vo4TI5p04"
      }
    },
    {
      "cell_type": "code",
      "source": [
        "# Cargamos los datos\n",
        "datos = pd.DataFrame([[\"a\", \"x\"],\n",
        "                    [np.nan, \"y\"],\n",
        "                    [\"a\", np.nan],\n",
        "                    [\"b\", \"y\"],\n",
        "                    [np.nan, np.nan],\n",
        "                    [\"a\", \"z\"]], dtype=\"category\")\n",
        "# Definimos entorno de imputación con el valor más frecuente\n",
        "imp = SimpleImputer(strategy=\"most_frequent\")\n",
        "# Vemos el resultado obtenido\n",
        "print(imp.fit_transform(datos))"
      ],
      "metadata": {
        "id": "l6cKxP7J5ug4",
        "colab": {
          "base_uri": "https://localhost:8080/"
        },
        "outputId": "3a5665cc-83a3-416d-f97d-c1768d80754e"
      },
      "execution_count": null,
      "outputs": [
        {
          "output_type": "stream",
          "name": "stdout",
          "text": [
            "[['a' 'x']\n",
            " ['a' 'y']\n",
            " ['a' 'y']\n",
            " ['b' 'y']\n",
            " ['a' 'y']\n",
            " ['a' 'z']]\n"
          ]
        }
      ]
    },
    {
      "cell_type": "markdown",
      "source": [
        "Observamos que a los datos faltantes les asigna el valor de la clase predominante de la columna, que en este caso es el valor *`a`* en la primera columna y el valor *`y`* en la segunda."
      ],
      "metadata": {
        "id": "qBY4M1_J595z"
      }
    },
    {
      "cell_type": "markdown",
      "source": [
        "#### Multivariante"
      ],
      "metadata": {
        "id": "qbcfgRgq3Z1z"
      }
    },
    {
      "cell_type": "markdown",
      "source": [
        "Un enfoque más sofisticado es usar la función `IterativeImputer`, que modela cada variable con valores faltantes como una función de otras variables y usa esa estimación para la imputación. Lo hace de forma iterativa: en cada paso, una variable se designa como salida $y$ y las otras variables se tratan como entradas $X$. Se ajusta una regresión de $X$ en $y$ y se usa para predecir los valores faltantes de $y$. Esto se hace para cada variable de manera iterativa y luego se repite para varias rondas de imputación tras haber realizado la imputación `max_iter`. Se devuelven los resultados de la ronda de imputación final.\n",
        "\n",
        "En este [enlace](https://scikit-learn.org/stable/modules/generated/sklearn.impute.IterativeImputer.html#sklearn.impute.IterativeImputer) se pueden consultar todos los parámetros para la imputación multivariante. "
      ],
      "metadata": {
        "id": "IWz57T2h3dHR"
      }
    },
    {
      "cell_type": "markdown",
      "source": [
        "##### Ejemplo 5\n",
        "\n",
        "En este ejemplo utilizamos la configuración por defecto. Para valorar el proceso de imputación calculamos las medias de las características con valores ausentes antes y después de la imputación."
      ],
      "metadata": {
        "id": "BhLPp771wyEr"
      }
    },
    {
      "cell_type": "code",
      "source": [
        "# Tabla de datos\n",
        "X = pd.DataFrame([[np.nan, 2, 3], \n",
        "     [4, np.nan, 6], \n",
        "     [10, np.nan, 9],\n",
        "     [6, 8, 7],\n",
        "     [10, 6, 5]])\n",
        "# Medias antes de imputación\n",
        "X.apply(np.mean)"
      ],
      "metadata": {
        "colab": {
          "base_uri": "https://localhost:8080/"
        },
        "id": "9mAAVbm2ipMe",
        "outputId": "3edcdc33-72ce-47f9-963b-91163ea87f5a"
      },
      "execution_count": null,
      "outputs": [
        {
          "output_type": "execute_result",
          "data": {
            "text/plain": [
              "0    7.500000\n",
              "1    5.333333\n",
              "2    6.000000\n",
              "dtype: float64"
            ]
          },
          "metadata": {},
          "execution_count": 35
        }
      ]
    },
    {
      "cell_type": "code",
      "source": [
        "# Configuramos el entorno de imputación con la media\n",
        "imp = IterativeImputer()\n",
        "# Imputación y presentación del nuevo conjunto de datos\n",
        "X = pd.DataFrame(imp.fit_transform(X))\n",
        "X"
      ],
      "metadata": {
        "colab": {
          "base_uri": "https://localhost:8080/",
          "height": 204
        },
        "id": "RQ9jFT3enGlg",
        "outputId": "418a83d9-9990-4e3d-d0d6-335cecf317f1"
      },
      "execution_count": null,
      "outputs": [
        {
          "output_type": "execute_result",
          "data": {
            "text/plain": [
              "           0          1    2\n",
              "0   7.472902   2.000000  3.0\n",
              "1   4.000000   5.774341  6.0\n",
              "2  10.000000  12.451317  9.0\n",
              "3   6.000000   8.000000  7.0\n",
              "4  10.000000   6.000000  5.0"
            ],
            "text/html": [
              "\n",
              "  <div id=\"df-b5c1813d-b795-4aef-a090-018756b88e36\">\n",
              "    <div class=\"colab-df-container\">\n",
              "      <div>\n",
              "<style scoped>\n",
              "    .dataframe tbody tr th:only-of-type {\n",
              "        vertical-align: middle;\n",
              "    }\n",
              "\n",
              "    .dataframe tbody tr th {\n",
              "        vertical-align: top;\n",
              "    }\n",
              "\n",
              "    .dataframe thead th {\n",
              "        text-align: right;\n",
              "    }\n",
              "</style>\n",
              "<table border=\"1\" class=\"dataframe\">\n",
              "  <thead>\n",
              "    <tr style=\"text-align: right;\">\n",
              "      <th></th>\n",
              "      <th>0</th>\n",
              "      <th>1</th>\n",
              "      <th>2</th>\n",
              "    </tr>\n",
              "  </thead>\n",
              "  <tbody>\n",
              "    <tr>\n",
              "      <th>0</th>\n",
              "      <td>7.472902</td>\n",
              "      <td>2.000000</td>\n",
              "      <td>3.0</td>\n",
              "    </tr>\n",
              "    <tr>\n",
              "      <th>1</th>\n",
              "      <td>4.000000</td>\n",
              "      <td>5.774341</td>\n",
              "      <td>6.0</td>\n",
              "    </tr>\n",
              "    <tr>\n",
              "      <th>2</th>\n",
              "      <td>10.000000</td>\n",
              "      <td>12.451317</td>\n",
              "      <td>9.0</td>\n",
              "    </tr>\n",
              "    <tr>\n",
              "      <th>3</th>\n",
              "      <td>6.000000</td>\n",
              "      <td>8.000000</td>\n",
              "      <td>7.0</td>\n",
              "    </tr>\n",
              "    <tr>\n",
              "      <th>4</th>\n",
              "      <td>10.000000</td>\n",
              "      <td>6.000000</td>\n",
              "      <td>5.0</td>\n",
              "    </tr>\n",
              "  </tbody>\n",
              "</table>\n",
              "</div>\n",
              "      <button class=\"colab-df-convert\" onclick=\"convertToInteractive('df-b5c1813d-b795-4aef-a090-018756b88e36')\"\n",
              "              title=\"Convert this dataframe to an interactive table.\"\n",
              "              style=\"display:none;\">\n",
              "        \n",
              "  <svg xmlns=\"http://www.w3.org/2000/svg\" height=\"24px\"viewBox=\"0 0 24 24\"\n",
              "       width=\"24px\">\n",
              "    <path d=\"M0 0h24v24H0V0z\" fill=\"none\"/>\n",
              "    <path d=\"M18.56 5.44l.94 2.06.94-2.06 2.06-.94-2.06-.94-.94-2.06-.94 2.06-2.06.94zm-11 1L8.5 8.5l.94-2.06 2.06-.94-2.06-.94L8.5 2.5l-.94 2.06-2.06.94zm10 10l.94 2.06.94-2.06 2.06-.94-2.06-.94-.94-2.06-.94 2.06-2.06.94z\"/><path d=\"M17.41 7.96l-1.37-1.37c-.4-.4-.92-.59-1.43-.59-.52 0-1.04.2-1.43.59L10.3 9.45l-7.72 7.72c-.78.78-.78 2.05 0 2.83L4 21.41c.39.39.9.59 1.41.59.51 0 1.02-.2 1.41-.59l7.78-7.78 2.81-2.81c.8-.78.8-2.07 0-2.86zM5.41 20L4 18.59l7.72-7.72 1.47 1.35L5.41 20z\"/>\n",
              "  </svg>\n",
              "      </button>\n",
              "      \n",
              "  <style>\n",
              "    .colab-df-container {\n",
              "      display:flex;\n",
              "      flex-wrap:wrap;\n",
              "      gap: 12px;\n",
              "    }\n",
              "\n",
              "    .colab-df-convert {\n",
              "      background-color: #E8F0FE;\n",
              "      border: none;\n",
              "      border-radius: 50%;\n",
              "      cursor: pointer;\n",
              "      display: none;\n",
              "      fill: #1967D2;\n",
              "      height: 32px;\n",
              "      padding: 0 0 0 0;\n",
              "      width: 32px;\n",
              "    }\n",
              "\n",
              "    .colab-df-convert:hover {\n",
              "      background-color: #E2EBFA;\n",
              "      box-shadow: 0px 1px 2px rgba(60, 64, 67, 0.3), 0px 1px 3px 1px rgba(60, 64, 67, 0.15);\n",
              "      fill: #174EA6;\n",
              "    }\n",
              "\n",
              "    [theme=dark] .colab-df-convert {\n",
              "      background-color: #3B4455;\n",
              "      fill: #D2E3FC;\n",
              "    }\n",
              "\n",
              "    [theme=dark] .colab-df-convert:hover {\n",
              "      background-color: #434B5C;\n",
              "      box-shadow: 0px 1px 3px 1px rgba(0, 0, 0, 0.15);\n",
              "      filter: drop-shadow(0px 1px 2px rgba(0, 0, 0, 0.3));\n",
              "      fill: #FFFFFF;\n",
              "    }\n",
              "  </style>\n",
              "\n",
              "      <script>\n",
              "        const buttonEl =\n",
              "          document.querySelector('#df-b5c1813d-b795-4aef-a090-018756b88e36 button.colab-df-convert');\n",
              "        buttonEl.style.display =\n",
              "          google.colab.kernel.accessAllowed ? 'block' : 'none';\n",
              "\n",
              "        async function convertToInteractive(key) {\n",
              "          const element = document.querySelector('#df-b5c1813d-b795-4aef-a090-018756b88e36');\n",
              "          const dataTable =\n",
              "            await google.colab.kernel.invokeFunction('convertToInteractive',\n",
              "                                                     [key], {});\n",
              "          if (!dataTable) return;\n",
              "\n",
              "          const docLinkHtml = 'Like what you see? Visit the ' +\n",
              "            '<a target=\"_blank\" href=https://colab.research.google.com/notebooks/data_table.ipynb>data table notebook</a>'\n",
              "            + ' to learn more about interactive tables.';\n",
              "          element.innerHTML = '';\n",
              "          dataTable['output_type'] = 'display_data';\n",
              "          await google.colab.output.renderOutput(dataTable, element);\n",
              "          const docLink = document.createElement('div');\n",
              "          docLink.innerHTML = docLinkHtml;\n",
              "          element.appendChild(docLink);\n",
              "        }\n",
              "      </script>\n",
              "    </div>\n",
              "  </div>\n",
              "  "
            ]
          },
          "metadata": {},
          "execution_count": 48
        }
      ]
    },
    {
      "cell_type": "markdown",
      "source": [
        "Obtenemos ahora las medias tras la imputación, que apenas han variado para las columnas 0 y 2, aunque sí cambia para la columna 1."
      ],
      "metadata": {
        "id": "tUgIutn-7VdX"
      }
    },
    {
      "cell_type": "code",
      "source": [
        "X.apply(np.mean)"
      ],
      "metadata": {
        "colab": {
          "base_uri": "https://localhost:8080/"
        },
        "id": "vba_-e2IpKL6",
        "outputId": "4d54f909-97b5-421a-a7b1-1db7377fd544"
      },
      "execution_count": null,
      "outputs": [
        {
          "output_type": "execute_result",
          "data": {
            "text/plain": [
              "0    7.494580\n",
              "1    6.845132\n",
              "2    6.000000\n",
              "dtype: float64"
            ]
          },
          "metadata": {},
          "execution_count": 49
        }
      ]
    },
    {
      "cell_type": "markdown",
      "source": [
        "## <font color=\"steelblue\">Variables categóricas</font>"
      ],
      "metadata": {
        "id": "G4FOUVm4cGJQ"
      }
    },
    {
      "cell_type": "markdown",
      "source": [
        "Las tareas habituales en el preprocesado de variables de tipo categórico tienen que ver fundamentalmente con el cambio de nombre, la recodificación y la codificación de categorías con etiquetas numéricas. Trataremos como un caso especial la la codificación en caliente (*hot-encoding*) para la creación de variables predictoras numéricas binarias (con valores 0 o 1) a partir de las clases de una variable categórica. La codificación con etiquetas numéricas es necesaria para los modelos de aprendizaje automático, pues estos requieren siempre de variables predictoras numéricas.\n",
        "\n",
        "Trabajamos con las funciones:\n",
        "* ``rename`` para renombrar\n",
        "* ``replace`` para recodificar\n",
        "\n",
        "\n"
      ],
      "metadata": {
        "id": "rJzoFU-9FNhC"
      }
    },
    {
      "cell_type": "markdown",
      "source": [
        "### Renombrar"
      ],
      "metadata": {
        "id": "OaNx8MP1cNkS"
      }
    },
    {
      "cell_type": "markdown",
      "source": [
        "En muchas ocasiones los nombres originales de las variables no son apropiados (generalmente por contener caracteres no recomendables como \"-\", \"*\", etc.) , o simplemente interesa simplificarlos para su tratamiento en modelos de aprendizaje automático. Se procede entonces a renombrarlas. Esta tarea se puede hacer tanto para variables numéricas como  categóricas, pero en estas últimas resulta más relevante puesto que ese nombre se utilizará como raíz de las nuevas variables que crearemos con la codificación en caliente (*hot-encoding*). \n",
        "\n",
        "Para renombrar las variables utilizamos la función `rename` donde debemos indicar las columnas a modificar (`columns`) y si lo queremos que los cambios se apliquen sobre las mismas variables (`inplace=True`),"
      ],
      "metadata": {
        "id": "q0Azc-WsL_P3"
      }
    },
    {
      "cell_type": "markdown",
      "source": [
        "Utilizamos la tabla de datos `mushrooms` para renombrar algunas variables, donde a la variable original le atribuimos el nuevo nombre a modo de diccionario: a la variable 'class' la renombramos comom 'classes', y en otras con el carácter \"-\", que se puede confundir con la operación resta, como 'car-shape', se sustituye el caracter '-' por '_'."
      ],
      "metadata": {
        "id": "0d4S9kxtgQAF"
      }
    },
    {
      "cell_type": "code",
      "source": [
        "# Renombramos algunas variables indicando el nombre antiguo y el nuevo. \n",
        "mushrooms.rename(columns={'class': 'classes',\n",
        "                          'cap-shape': 'cap_shape',\n",
        "                          'ring-number': 'ring_number', \n",
        "                          'ring-type': 'ring_type', \n",
        "                          'spore-print-color': 'spore_print_color'}, \n",
        "                 inplace=True)"
      ],
      "metadata": {
        "id": "59mOCM0IC5z1"
      },
      "execution_count": null,
      "outputs": []
    },
    {
      "cell_type": "markdown",
      "source": [
        "### Recodificar"
      ],
      "metadata": {
        "id": "IiIUZj5dctXx"
      }
    },
    {
      "cell_type": "markdown",
      "source": [
        "Hablamos de recodificación cuando cambiamos o reagrupamos los niveles de una variable categórica. Por ejemplo, en la base de datos anterior,  las respuestas de muchas de las variables vienen codificadas originariamente con una inicial de la cadena de texto correspondiente. Aunque esta opción es interesante para la introducción de datos (la simplifica), resulta poco útil para facilitar la lectura e interpretación de los resultados de los análisis. \n",
        "\n",
        "Para la recodificación de etiquetas usamos la función `replace`, en la que debemos indicar los valores antiguos y los nuevos para cada una de las variables de interés.\n",
        "Veamos su funcionamiento con un ejemplo. \n"
      ],
      "metadata": {
        "id": "Wf9K60Zg9V7t"
      }
    },
    {
      "cell_type": "code",
      "source": [
        "# Etiquetas originales en la variable 'classes'\n",
        "np.unique(mushrooms['classes'])"
      ],
      "metadata": {
        "colab": {
          "base_uri": "https://localhost:8080/"
        },
        "id": "xvPgNXxTBkHI",
        "outputId": "9ab5f639-d878-4d81-faef-53c8bdec38d5"
      },
      "execution_count": null,
      "outputs": [
        {
          "output_type": "execute_result",
          "data": {
            "text/plain": [
              "array(['edible', 'poisonous'], dtype=object)"
            ]
          },
          "metadata": {},
          "execution_count": 7
        }
      ]
    },
    {
      "cell_type": "code",
      "source": [
        "# Recodificación de etiquetas con sus significados\n",
        "mushrooms.classes.replace({\"e\": \"edible\", \n",
        "                           \"p\": \"poisonous\"}, \n",
        "                          inplace=True)\n",
        "np.unique(mushrooms['classes'])"
      ],
      "metadata": {
        "id": "qEFlZQYQ_5y1"
      },
      "execution_count": null,
      "outputs": []
    },
    {
      "cell_type": "markdown",
      "source": [
        "### Codificar variables ordinales"
      ],
      "metadata": {
        "id": "foT4m1AxH0QT"
      }
    },
    {
      "cell_type": "markdown",
      "source": [
        "En muchas ocasiones las clases o niveles de las variables de tipo categórico llevan implícito un orden, como por ejemplo cuando registramos el nivel de gravedad de una enfermedad. En esas situaciones es recomendable indicar que dicha variable es de tipo ordinal y no nominal. \n",
        "\n",
        "La función que usamos para dicha codificación es `OrdinalEncoder` dentro del módulo `sklearn.preprocessing`. Por defecto, el orden introducido es el alfanumérico, de modo que si nuestras etiquetas originales no están ordenadas alfabéticamente, la codificación obtenida no dará el orden deseado. \n",
        "\n",
        "Si queremos codificar las columnas de un dataframe con órdenes preestablecidos diferentes, procederemos columna a columna, sustituyendo la variable original o añadiendo la nueva variable a la tabla de datos."
      ],
      "metadata": {
        "id": "ThklpVdxILE3"
      }
    },
    {
      "cell_type": "markdown",
      "source": [
        "#### Ejemplo 6"
      ],
      "metadata": {
        "id": "e8M8LcFUarD2"
      }
    },
    {
      "cell_type": "markdown",
      "source": [
        "Veamos un ejemplo simulado donde tenemos una variable categórica con valores posible `Low`, `Medium`, y `High`. En este caso deseamos crear una nueva variable codificada que respete el orden natural de las categorías, 'Low'<'Medium'<'High'."
      ],
      "metadata": {
        "id": "5LK3hspxZ7bZ"
      }
    },
    {
      "cell_type": "code",
      "source": [
        "# Cargamos el módulo y la función correspondiente\n",
        "from sklearn.preprocessing import OrdinalEncoder\n",
        "# Datos\n",
        "X = [['Low'], ['Medium'], ['High'], ['Medium'], ['Low'], ['High']]\n",
        "# Definimos el entorno de codificación\n",
        "enc = OrdinalEncoder()\n",
        "# y lo aplicamos a X\n",
        "Xcode=enc.fit_transform(X)\n",
        "Xcode"
      ],
      "metadata": {
        "colab": {
          "base_uri": "https://localhost:8080/"
        },
        "id": "IXckCu7kSi9v",
        "outputId": "fee9b46b-36dd-42a1-feb4-811fc6af6618"
      },
      "execution_count": null,
      "outputs": [
        {
          "output_type": "execute_result",
          "data": {
            "text/plain": [
              "array([[1.],\n",
              "       [2.],\n",
              "       [0.],\n",
              "       [2.],\n",
              "       [1.],\n",
              "       [0.]])"
            ]
          },
          "metadata": {},
          "execution_count": 9
        }
      ]
    },
    {
      "cell_type": "markdown",
      "source": [
        "Al aplicar la codificación por defecto y usar el orden alfabético, surge la codificación 'Low'=1, 'Medium'=2 y 'High'=0, de modo que no s consigue el orden esperado. Si queremos un orden específico, hemos de forzarlo. Veamos cómo."
      ],
      "metadata": {
        "id": "viswln64cTHb"
      }
    },
    {
      "cell_type": "code",
      "source": [
        "# Definimos el orden\n",
        "cats = [['Low', 'Medium', 'High']]\n",
        "# Establecemos el entono de codificación\n",
        "enc = OrdinalEncoder(categories=cats)\n",
        "# Resultado de la codificación\n",
        "Xcode = enc.fit_transform(X)\n",
        "Xcode"
      ],
      "metadata": {
        "colab": {
          "base_uri": "https://localhost:8080/"
        },
        "id": "STQIXKyjcHHs",
        "outputId": "f6d66ee3-45c3-43e8-b2ac-568f62e9138d"
      },
      "execution_count": null,
      "outputs": [
        {
          "output_type": "execute_result",
          "data": {
            "text/plain": [
              "array([[0.],\n",
              "       [1.],\n",
              "       [2.],\n",
              "       [1.],\n",
              "       [0.],\n",
              "       [2.]])"
            ]
          },
          "metadata": {},
          "execution_count": 10
        }
      ]
    },
    {
      "cell_type": "markdown",
      "source": [
        "### Codificar en caliente (hot-encoding)"
      ],
      "metadata": {
        "id": "Ks8VblWcc1Fi"
      }
    },
    {
      "cell_type": "markdown",
      "source": [
        "Scikit-Learn sólo permite trabajar con características numéricas. Esto implica que cuando trabajamos con variables categóricas hemos de transformarlas en numéricas. Para ello, creamos variables ficticias de ceros y unos (*dummies*), proceso que se conoce en la literatura como  *one-hot encoding* o codificación en caliente. Este proceso consiste en crear tantas nuevas variables como clases distintas tiene la variable de interés, de forma que el valor de la columna correspondiente a cadaa categoría se establecerá en 1 si la muestra se corresponde con esa clase y 0 en otro caso.\n",
        "\n",
        "Para la creación de estas variables podemos utilizar las funciones de `Pandas` o, como veremos aquí, las funciones de preprocesado específicas de la librería `Scikit-Learn`. En concreto utilizamos el módulo [``sklearn.preprocessing``](https://scikit-learn.org/stable/modules/preprocessing.html) que incorpora la función [`OneHotEncoder()`](https://scikit-learn.org/stable/modules/generated/sklearn.preprocessing.OneHotEncoder.html). "
      ],
      "metadata": {
        "id": "8vdIIel-gQkM"
      }
    },
    {
      "cell_type": "markdown",
      "source": [
        "#### Ejemplo 7"
      ],
      "metadata": {
        "id": "MHZgK49lNEC4"
      }
    },
    {
      "cell_type": "markdown",
      "source": [
        "Veamos, a través de ejemplos, cómo proceder para la codificación en caliente. "
      ],
      "metadata": {
        "id": "lzjd5wFUhdKh"
      }
    },
    {
      "cell_type": "code",
      "source": [
        "# Importamos la función OneHotEncoder\n",
        "from sklearn.preprocessing import OneHotEncoder "
      ],
      "metadata": {
        "id": "Yw9heZFrjTdw"
      },
      "execution_count": null,
      "outputs": []
    },
    {
      "cell_type": "code",
      "source": [
        "# Introducimos unos datos de prueba simulados\n",
        "X = np.array(['USA','Australia', 'UK', 'UK','USA','Australia','USA',\n",
        "                  'UK', 'UK','UK','Australia'])\n",
        "X"
      ],
      "metadata": {
        "id": "DSpvbyzlh88V",
        "colab": {
          "base_uri": "https://localhost:8080/"
        },
        "outputId": "206717f9-dc59-4166-8e65-eab43f4cdad2"
      },
      "execution_count": null,
      "outputs": [
        {
          "output_type": "execute_result",
          "data": {
            "text/plain": [
              "array(['USA', 'Australia', 'UK', 'UK', 'USA', 'Australia', 'USA', 'UK',\n",
              "       'UK', 'UK', 'Australia'], dtype='<U9')"
            ]
          },
          "metadata": {},
          "execution_count": 4
        }
      ]
    },
    {
      "cell_type": "markdown",
      "source": [
        "Creamos las nuevas variables *dummy* a partir de las clases registradas. Este proceso se estructura en dos pasos:\n",
        "\n",
        "* Configuramos el codificador de forma que cada columna representa una clase de la variable categórica, ordenada por orden alfanumérico. \n",
        "* Creamos las variables ficticias binarias asociadas."
      ],
      "metadata": {
        "id": "tSlVHbkZ81zd"
      }
    },
    {
      "cell_type": "code",
      "source": [
        "# Modificamos el array para convertirlo en columna\n",
        "X = X.reshape(-1,1)\n",
        "# Configuramos el codificador\n",
        "encoder = OneHotEncoder()\n",
        "encoder_fit = encoder.fit(X)\n",
        "# Codificamos de los datos\n",
        "encoder_fit.transform(X).toarray()"
      ],
      "metadata": {
        "id": "p_52IpJDkJE-",
        "colab": {
          "base_uri": "https://localhost:8080/"
        },
        "outputId": "2a4186cf-46b9-42bf-a183-be559a87991b"
      },
      "execution_count": null,
      "outputs": [
        {
          "output_type": "execute_result",
          "data": {
            "text/plain": [
              "array([[0., 0., 1.],\n",
              "       [1., 0., 0.],\n",
              "       [0., 1., 0.],\n",
              "       [0., 1., 0.],\n",
              "       [0., 0., 1.],\n",
              "       [1., 0., 0.],\n",
              "       [0., 0., 1.],\n",
              "       [0., 1., 0.],\n",
              "       [0., 1., 0.],\n",
              "       [0., 1., 0.],\n",
              "       [1., 0., 0.]])"
            ]
          },
          "metadata": {},
          "execution_count": 24
        }
      ]
    },
    {
      "cell_type": "markdown",
      "source": [
        "En esta nueva matriz de ceros y unos, los unos de la primera columna identifican registros de la clase 'Australia', mientras que en la segunda y la tercera hacen referencia a las clases 'UK' y 'USA' respectivamente. En muchas ocasiones, sobre todo en la construcción de modelos estadísticos, la opción más interesante es eliminar una de las variables, ya que conociendo las otras dos es posible obtener la que falta. Para ello utilizamos el parámetro `drop = 'first'` dentro del configurador. Veamos cómo funciona para el mismo ejemplo."
      ],
      "metadata": {
        "id": "mep8o6uKBwAO"
      }
    },
    {
      "cell_type": "code",
      "source": [
        "# Configurar el codificador\n",
        "encoder = OneHotEncoder(drop='first')\n",
        "# Codificación\n",
        "encoder_fit = encoder.fit_transform(X).toarray()\n",
        "encoder_fit"
      ],
      "metadata": {
        "colab": {
          "base_uri": "https://localhost:8080/"
        },
        "id": "7DGCKnMJCtDP",
        "outputId": "29029081-0c29-4181-f722-ca357c6a5cb6"
      },
      "execution_count": null,
      "outputs": [
        {
          "output_type": "execute_result",
          "data": {
            "text/plain": [
              "array([[0., 1.],\n",
              "       [0., 0.],\n",
              "       [1., 0.],\n",
              "       [1., 0.],\n",
              "       [0., 1.],\n",
              "       [0., 0.],\n",
              "       [0., 1.],\n",
              "       [1., 0.],\n",
              "       [1., 0.],\n",
              "       [1., 0.],\n",
              "       [0., 0.]])"
            ]
          },
          "metadata": {},
          "execution_count": 28
        }
      ]
    },
    {
      "cell_type": "markdown",
      "source": [
        "El resultado son las dos últimas columnas de la matriz anterior. \n",
        "\n",
        "En cuadernos posteriores veremos cómo utilizar esta codificación para el entrenamiento de los modelos de aprendizaje automático. En el apartado de *pipeline* volvemos a aplicar la codificación en caliente sobre la tabla de datos `stroke`."
      ],
      "metadata": {
        "id": "yqMWe6ARFU86"
      }
    },
    {
      "cell_type": "markdown",
      "source": [
        "## <font color=\"steelblue\">Variables numéricas</font>"
      ],
      "metadata": {
        "id": "lxJwDbW-c9DK"
      }
    },
    {
      "cell_type": "markdown",
      "source": [
        "Presentamos a continuación las tareas más habituales en el preprocesado de variables predictoras de tipo numérico, que son: \n",
        "\n",
        "* Estandarización y normalización.\n",
        "* Discretización para la conversión a variables categóricas ordinales.\n",
        "* Transformación de variables."
      ],
      "metadata": {
        "id": "LlHHPjC0Gmxr"
      }
    },
    {
      "cell_type": "markdown",
      "source": [
        "### Estandarizar y normalizar"
      ],
      "metadata": {
        "id": "2pBQWeV3dIxo"
      }
    },
    {
      "cell_type": "markdown",
      "source": [
        "Muchos algoritmos de aprendizaje automático implementados en Scikit-Learn necesitan variables predictoras estandarizadas (o normalizadas) para alcanzar una convergencia más rápida que los datos de partida. Por este motivo en la práctica siempre transformamos los datos para centrarlos en su media (eliminando así el valor medio de cada característica) y escalarlos (dividiendo las características no constantes por su desviación estándar). Este proceso se llama **estandarización**.\n",
        "\n",
        "Por otro lado, el proceso de **normalización** es una técnica de escalado de las variables para que tengan norma 1. Este proceso se utiliza habitualmente en los métodos de clasificación de textos o agrupación."
      ],
      "metadata": {
        "id": "wC9kbFl-xGGG"
      }
    },
    {
      "cell_type": "markdown",
      "source": [
        "\n",
        "El módulo [`sklearn.preprocessing`](https://scikit-learn.org/stable/modules/classes.html#module-sklearn.preprocessing) contiene varias funciones para estos procesos:\n",
        "\n",
        "- la función  [`StandardScaler`](https://scikit-learn.org/stable/modules/generated/sklearn.preprocessing.StandardScaler.html#sklearn.preprocessing.StandardScaler) proporciona una forma rápida y fácil de realizar la estandarización en un conjunto de datos,\n",
        "- la función [`normalize`](https://scikit-learn.org/stable/modules/generated/sklearn.preprocessing.normalize.html#sklearn.preprocessing.normalize) permite diferentes opciones de normalización según la norma utilizada. Dado un vector con componentes $x = (x_1,...,x_n)$ se consideran las normas:\n",
        "\n",
        "  - 'l1' o suma de los valores absolutos: \n",
        "\n",
        "  $$||x||_{1} = \\sum_{i=1}^n |x_i|$$\n",
        "\n",
        "  - 'l2' o raíz cuadrada de la suma de cuadrados:\n",
        "\n",
        "  $$||x||_{2} = \\sqrt{\\sum_{i=1}^n x_i^2}$$\n",
        "\n",
        "  - 'max' o máximo de los valores: \n",
        "\n",
        "  $$||x||_{max} = max(x_i)$$\n",
        "\n",
        "\n",
        "  Para cualquiera de las normas consideradas el vector normalizado se obtiene como:\n",
        "\n",
        "  $$x_{norm} = \\frac{x}{||x||}$$"
      ],
      "metadata": {
        "id": "phGVCqPDxbgD"
      }
    },
    {
      "cell_type": "markdown",
      "source": [
        "#### Ejemplo 8"
      ],
      "metadata": {
        "id": "0Hqv-TxmSziM"
      }
    },
    {
      "cell_type": "markdown",
      "source": [
        "\n",
        "\n",
        "A continuación mostramos sobre un conjunto de datos simulados el funcionamiento de los procesos de estandarización o normalización. En primer lugar cargamos el módulo de preprocesamiento."
      ],
      "metadata": {
        "id": "6CiXyDOp4WXe"
      }
    },
    {
      "cell_type": "code",
      "source": [
        "# Importamos preprocessing\n",
        "from sklearn import preprocessing"
      ],
      "metadata": {
        "id": "efRAvOxaxmfC"
      },
      "execution_count": null,
      "outputs": []
    },
    {
      "cell_type": "code",
      "source": [
        "# Creamos la matriz de datos \n",
        "X = np.array([[ 1., -1.,  2.],\n",
        "              [ 2.,  0.,  0.],\n",
        "              [ 0.,  1., -1.]])\n",
        "X"
      ],
      "metadata": {
        "id": "cS8cOjGi0T5B",
        "colab": {
          "base_uri": "https://localhost:8080/"
        },
        "outputId": "e88aa348-c822-4bd8-912f-d2d2b064d25a"
      },
      "execution_count": null,
      "outputs": [
        {
          "output_type": "execute_result",
          "data": {
            "text/plain": [
              "array([[ 1., -1.,  2.],\n",
              "       [ 2.,  0.,  0.],\n",
              "       [ 0.,  1., -1.]])"
            ]
          },
          "metadata": {},
          "execution_count": 31
        }
      ]
    },
    {
      "cell_type": "code",
      "source": [
        "# Calculamos las medias y desviaciones típicas por columnas que son utilizadas en la estandarización\n",
        "X.mean(axis=0)"
      ],
      "metadata": {
        "colab": {
          "base_uri": "https://localhost:8080/"
        },
        "id": "ZcHTMHN1Pel9",
        "outputId": "aca774a0-6183-4b87-d2e4-b2bb0fa7c83c"
      },
      "execution_count": null,
      "outputs": [
        {
          "output_type": "execute_result",
          "data": {
            "text/plain": [
              "array([1.        , 0.        , 0.33333333])"
            ]
          },
          "metadata": {},
          "execution_count": 33
        }
      ]
    },
    {
      "cell_type": "code",
      "source": [
        "X.std(axis=0)"
      ],
      "metadata": {
        "colab": {
          "base_uri": "https://localhost:8080/"
        },
        "id": "EDZgnuRoTayJ",
        "outputId": "2df13a3c-3472-48f6-9cad-2b853cdbb772"
      },
      "execution_count": null,
      "outputs": [
        {
          "output_type": "execute_result",
          "data": {
            "text/plain": [
              "array([0.81649658, 0.81649658, 1.24721913])"
            ]
          },
          "metadata": {},
          "execution_count": 34
        }
      ]
    },
    {
      "cell_type": "markdown",
      "source": [
        "Configuramos la estandarización y devolvemos el resultado en una nueva matriz escalada."
      ],
      "metadata": {
        "id": "ud0YpKdbPorM"
      }
    },
    {
      "cell_type": "code",
      "source": [
        "# Estandarización\n",
        "X_scaled = preprocessing.StandardScaler().fit_transform(X)\n",
        "X_scaled"
      ],
      "metadata": {
        "id": "8y-AKics0ZuM",
        "colab": {
          "base_uri": "https://localhost:8080/"
        },
        "outputId": "994d7f1d-9d9c-4527-ca66-87286c524d3d"
      },
      "execution_count": null,
      "outputs": [
        {
          "output_type": "execute_result",
          "data": {
            "text/plain": [
              "array([[ 0.        , -1.22474487,  1.33630621],\n",
              "       [ 1.22474487,  0.        , -0.26726124],\n",
              "       [-1.22474487,  1.22474487, -1.06904497]])"
            ]
          },
          "metadata": {},
          "execution_count": 35
        }
      ]
    },
    {
      "cell_type": "markdown",
      "source": [
        "Para verificar la eficacia de la estandarización, obtenemos las medias y desviaciones típicas de las nuevas columnas de la matriz de datos, que han de ser 0 y 1 respectivamente."
      ],
      "metadata": {
        "id": "JWCVXPIFQMsN"
      }
    },
    {
      "cell_type": "code",
      "source": [
        "# calculamos la media y la desviación\n",
        "X_scaled.mean(axis=0)"
      ],
      "metadata": {
        "id": "HpEMzJTc1nTl",
        "colab": {
          "base_uri": "https://localhost:8080/"
        },
        "outputId": "e4518c4d-035b-4c51-d44d-baad0c95b921"
      },
      "execution_count": null,
      "outputs": [
        {
          "output_type": "execute_result",
          "data": {
            "text/plain": [
              "array([0., 0., 0.])"
            ]
          },
          "metadata": {},
          "execution_count": 36
        }
      ]
    },
    {
      "cell_type": "code",
      "source": [
        "X_scaled.std(axis=0)"
      ],
      "metadata": {
        "colab": {
          "base_uri": "https://localhost:8080/"
        },
        "id": "mfn8EINNQUrK",
        "outputId": "e3e0ca2a-90b3-45f1-ad91-1493301bc15c"
      },
      "execution_count": null,
      "outputs": [
        {
          "output_type": "execute_result",
          "data": {
            "text/plain": [
              "array([1., 1., 1.])"
            ]
          },
          "metadata": {},
          "execution_count": 37
        }
      ]
    },
    {
      "cell_type": "markdown",
      "source": [
        "Acudimos ahora a un proceso de normalización. "
      ],
      "metadata": {
        "id": "MsTc7a9k15pm"
      }
    },
    {
      "cell_type": "code",
      "source": [
        "# Norma L1\n",
        "X_normalized = preprocessing.normalize(X, norm='l1')\n",
        "X_normalized"
      ],
      "metadata": {
        "colab": {
          "base_uri": "https://localhost:8080/"
        },
        "id": "3fhP8KNuQmAx",
        "outputId": "464d6db1-a9c9-4026-f3dc-8ab20047c537"
      },
      "execution_count": null,
      "outputs": [
        {
          "output_type": "execute_result",
          "data": {
            "text/plain": [
              "array([[ 0.25, -0.25,  0.5 ],\n",
              "       [ 1.  ,  0.  ,  0.  ],\n",
              "       [ 0.  ,  0.5 , -0.5 ]])"
            ]
          },
          "metadata": {},
          "execution_count": 38
        }
      ]
    },
    {
      "cell_type": "code",
      "source": [
        "# Norma L2\n",
        "X_normalized = preprocessing.normalize(X, norm='l2')\n",
        "X_normalized"
      ],
      "metadata": {
        "colab": {
          "base_uri": "https://localhost:8080/"
        },
        "id": "2OUI0pPiRkM_",
        "outputId": "79687478-1e49-4837-d4f9-9a74a0d8bf58"
      },
      "execution_count": null,
      "outputs": [
        {
          "output_type": "execute_result",
          "data": {
            "text/plain": [
              "array([[ 0.40824829, -0.40824829,  0.81649658],\n",
              "       [ 1.        ,  0.        ,  0.        ],\n",
              "       [ 0.        ,  0.70710678, -0.70710678]])"
            ]
          },
          "metadata": {},
          "execution_count": 39
        }
      ]
    },
    {
      "cell_type": "code",
      "source": [
        "# Norma max\n",
        "X_normalized = preprocessing.normalize(X, norm='max')\n",
        "X_normalized"
      ],
      "metadata": {
        "colab": {
          "base_uri": "https://localhost:8080/"
        },
        "id": "qgb5yBtfRpTr",
        "outputId": "0bacb5a0-5a6c-4b3a-a2bf-02e787f3896b"
      },
      "execution_count": null,
      "outputs": [
        {
          "output_type": "execute_result",
          "data": {
            "text/plain": [
              "array([[ 0.5, -0.5,  1. ],\n",
              "       [ 1. ,  0. ,  0. ],\n",
              "       [ 0. ,  1. , -1. ]])"
            ]
          },
          "metadata": {},
          "execution_count": 40
        }
      ]
    },
    {
      "cell_type": "markdown",
      "source": [
        "### Discretizar"
      ],
      "metadata": {
        "id": "XKP7sHh_dVyg"
      }
    },
    {
      "cell_type": "markdown",
      "source": [
        "En muchas aplicaciones prácticas se registran variables de tipo numérico que más tarde deben ser agrupadas en intervalos debido a los objetivos que se persiguen. Por ejemplo, supongamos que tenemos un sujeto que sufre cierta enfermedad y queremos establecer el nivel de gravedad a partir del valor numérico de un análisis de sangre. Discretizar esa variable numérica y convertirla en una categórica ordinal nos permitirá luego, clasificar a los sujetos más graves y diferenciarlos de los menos graves."
      ],
      "metadata": {
        "id": "3IUHo0AYnLmQ"
      }
    },
    {
      "cell_type": "markdown",
      "source": [
        "Generalmente discretizamos generando una variable dicotómica (grave/no grave en el ejemplo anterior) o una con varias categorías que representan los niveles de gravedad. Cuando este es el caso, podemos: \n",
        "\n",
        "* rijar los valores mínimo y máximo de la variable numérica, así como el número de intervalos que queremos obtener, para conseguir intervalos de igual longitud;\n",
        "* fijar los intervalos, es decir, los puntos de corte que separan las categorías consecutivas.\n",
        "\n",
        "En ambos casos resulta de interés almacenar esa nueva variable en el banco de datos, para poder utilizarla posteriormente en otros análisis."
      ],
      "metadata": {
        "id": "XHKJw9zRnRO0"
      }
    },
    {
      "cell_type": "markdown",
      "source": [
        "Estas tareas se pueden realizar utilizando las funciones la librería `Pandas` `cut(dataframe.variable, bins, include_lowest, right)` e `interval_range(start, end, freq, name, closed)`. Sin embargo, aquí utilizaremos las funciones de Scikit-Learn diseñadas para este proceso: \n",
        "\n",
        "- [`Binarizer`](https://scikit-learn.org/stable/modules/generated/sklearn.preprocessing.Binarizer.html#sklearn.preprocessing.Binarizer), para una discretización binaria o dicotómica de una característica (grave/no grave).\n",
        "\n",
        "- [`KBinsDiscretizer`](https://scikit-learn.org/stable/modules/generated/sklearn.preprocessing.KBinsDiscretizer.html#sklearn.preprocessing.KBinsDiscretizer), para una discretización múltiple en varios intervalos (niveles de gravedad), ayudada de las funciones `pcut` de `Pandas` para establecer los puntos de corte, y la función `FunctionTransformer` de `Scikit-Learn` para obtener la discretización.\n",
        "\n",
        "\n"
      ],
      "metadata": {
        "id": "3_0ZtWMQnvOO"
      }
    },
    {
      "cell_type": "markdown",
      "source": [
        "#### Ejemplo 9\n",
        "\n",
        "Veamos cómo utilizar estas funciones sobre una tabla de datos simulados."
      ],
      "metadata": {
        "id": "xRHHWcthgD7W"
      }
    },
    {
      "cell_type": "code",
      "source": [
        "# importamos la librería random\n",
        "import random\n",
        "# con la que fijamos una semilla para la generación de aleatorios\n",
        "random.seed(4)\n",
        "# Simulamos una matriz de datos de dimensiones 10x5 con valores positivos y negativos\n",
        "# a partir de valores uniformes (0,1), restando 0.5\n",
        "X =  np.random.rand(10,5) - 0.5\n",
        "X"
      ],
      "metadata": {
        "colab": {
          "base_uri": "https://localhost:8080/"
        },
        "id": "0JcUggd0hYkC",
        "outputId": "467cff09-4dba-4910-b07e-2aff8060a710"
      },
      "execution_count": null,
      "outputs": [
        {
          "output_type": "execute_result",
          "data": {
            "text/plain": [
              "array([[ 0.28869005, -0.15055208,  0.35128038,  0.03102844, -0.26751991],\n",
              "       [ 0.28002856,  0.0453676 , -0.16879453,  0.3562572 ,  0.43902529],\n",
              "       [ 0.26869651,  0.48732423, -0.20915532,  0.00264273, -0.14114556],\n",
              "       [-0.04027582,  0.4253867 , -0.1390946 ,  0.20414392,  0.05360905],\n",
              "       [ 0.13974315,  0.0384432 ,  0.24538786,  0.15546702, -0.04425632],\n",
              "       [ 0.43363215, -0.32653013, -0.03787659,  0.32848549, -0.30260259],\n",
              "       [ 0.08945717,  0.26595599, -0.34771581,  0.09286221,  0.11289941],\n",
              "       [ 0.11758286, -0.15117427,  0.28674385,  0.44669037, -0.41146172],\n",
              "       [-0.21366401, -0.30449505, -0.29174665, -0.03594745,  0.48256425],\n",
              "       [ 0.17166348, -0.02459135, -0.03046717,  0.10751078,  0.32159335]])"
            ]
          },
          "metadata": {},
          "execution_count": 43
        }
      ]
    },
    {
      "cell_type": "markdown",
      "source": [
        "Procedemos primero con la discretización binaria, utilizando como valor de corte el 0:"
      ],
      "metadata": {
        "id": "RCmsw7f5jkeq"
      }
    },
    {
      "cell_type": "code",
      "source": [
        "# Importamos preprocessing\n",
        "from sklearn import preprocessing\n",
        "binarizer = preprocessing.Binarizer(threshold=0)\n",
        "binarizer.transform(X)"
      ],
      "metadata": {
        "colab": {
          "base_uri": "https://localhost:8080/"
        },
        "id": "9LrHfS5CjkFu",
        "outputId": "5905b455-898a-45a6-9374-73d07a121bf3"
      },
      "execution_count": null,
      "outputs": [
        {
          "output_type": "execute_result",
          "data": {
            "text/plain": [
              "array([[1., 0., 1., 1., 0.],\n",
              "       [1., 1., 0., 1., 1.],\n",
              "       [1., 1., 0., 1., 0.],\n",
              "       [0., 1., 0., 1., 1.],\n",
              "       [1., 1., 1., 1., 0.],\n",
              "       [1., 0., 0., 1., 0.],\n",
              "       [1., 1., 0., 1., 1.],\n",
              "       [1., 0., 1., 1., 0.],\n",
              "       [0., 0., 0., 0., 1.],\n",
              "       [1., 0., 0., 1., 1.]])"
            ]
          },
          "metadata": {},
          "execution_count": 44
        }
      ]
    },
    {
      "cell_type": "markdown",
      "source": [
        "Para llevar a cabo una discretización múltiple sobre el mismo conjunto de datos debemos considerar el número de intervalos que queremos o los valores de discretización (2 o más) para la creación de la nueva variable codificada. Consideramos dos situaciones:\n",
        "\n",
        "1. Fijamos el número de intervalos a 3 intervalos y es el algoritmo el que establece los cortes para generar intervalos de amplitud idéntica.\n",
        "1. Establecemos los límites de los intervalos:  \n",
        "$$(-\\infty, -0.5), [-0.5, 0), [0, 0.5), [0.5,\\infty),$$ es decir fijamos como valores de discretización -0.5, 0, y 0.5, de forma que valores por debajo de -0.5 se codifican con 0, entre -0.5 y 0 se codifican con 1, entre 0 y 0.5 se codifican con 2, y por encima de 0.5 con un 3.\n",
        "\n",
        "En este segundo caso utilizamos la función `pcut` de `Pandas` para establecer los puntos de corte, y la función `FunctionTransformer` de `Scikit-Learn` para obtener la discretización."
      ],
      "metadata": {
        "id": "m-6Kz0aRknMn"
      }
    },
    {
      "cell_type": "code",
      "source": [
        "# Importamos preprocessing\n",
        "from sklearn import preprocessing\n",
        "# Fijamos el número de intervalos (n_bins =3) y construimos la variable ordinal correspondiente\n",
        "est = preprocessing.KBinsDiscretizer(n_bins=3, encode='ordinal').fit_transform(X)\n",
        "est"
      ],
      "metadata": {
        "colab": {
          "base_uri": "https://localhost:8080/"
        },
        "id": "AKLEkOD6nHXS",
        "outputId": "5d0f38de-419a-44c6-9cae-be1a79aac898"
      },
      "execution_count": null,
      "outputs": [
        {
          "output_type": "execute_result",
          "data": {
            "text/plain": [
              "array([[2., 1., 2., 0., 0.],\n",
              "       [2., 2., 1., 2., 2.],\n",
              "       [2., 2., 0., 0., 1.],\n",
              "       [0., 2., 1., 2., 1.],\n",
              "       [1., 1., 2., 1., 1.],\n",
              "       [2., 0., 1., 2., 0.],\n",
              "       [0., 2., 0., 1., 2.],\n",
              "       [1., 0., 2., 2., 0.],\n",
              "       [0., 0., 0., 0., 2.],\n",
              "       [1., 1., 2., 1., 2.]])"
            ]
          },
          "metadata": {},
          "execution_count": 46
        }
      ]
    },
    {
      "cell_type": "markdown",
      "source": [
        "Dado que hemos creado tres intervalos, todos los datos son codificados con valores 0, 1 y 2.\n",
        "\n",
        "Veamos ahora la discretización con los extremos predefinidos. En este caso se debe discretizar cada columna por separado, ya que no es posible hacerlo directamente de forma conjunta sobre una matriz. "
      ],
      "metadata": {
        "id": "UIJizqlTndiF"
      }
    },
    {
      "cell_type": "code",
      "source": [
        "# simulamos lo que sería una columna en la tabla de datos\n",
        "X = 2*np.random.rand(50) - 0.5\n",
        "X"
      ],
      "metadata": {
        "colab": {
          "base_uri": "https://localhost:8080/"
        },
        "id": "X9CPWrCkvlNh",
        "outputId": "e1691d96-69aa-4556-de4d-c9f70dcaeb15"
      },
      "execution_count": null,
      "outputs": [
        {
          "output_type": "execute_result",
          "data": {
            "text/plain": [
              "array([ 1.05485978,  1.24924737,  1.27450085,  0.87919057,  0.58616202,\n",
              "        0.2993088 , -0.49530802,  1.34880325,  0.75306562,  0.9689084 ,\n",
              "        0.82593145, -0.07838704,  1.05588854,  0.24974553,  0.79537669,\n",
              "       -0.34508541,  0.0026511 ,  1.15664994,  1.38887338, -0.20521008,\n",
              "       -0.30020071,  0.90756552,  0.82244483, -0.47786107,  0.55514593,\n",
              "        0.69175587, -0.26955441,  0.3919671 , -0.28019771,  1.32534505,\n",
              "        0.92131005, -0.26121433,  0.07148044,  0.86538   ,  0.14118945,\n",
              "        0.17704477, -0.2714042 ,  0.17060183,  0.61336789,  0.71391274,\n",
              "       -0.3104365 ,  0.34631028,  0.94576712,  1.41285535, -0.18448113,\n",
              "        0.66764503,  1.19793882,  0.81569572,  1.30524347, -0.28385809])"
            ]
          },
          "metadata": {},
          "execution_count": 49
        }
      ]
    },
    {
      "cell_type": "code",
      "source": [
        "# Establecemos los límites de los intervalos\n",
        "bins = [-np.inf, -0.5, 0, 0.5, np.inf]\n",
        "# Establecemos etiquetas para los intervalos\n",
        "labels = ['(,-0.5)', '[-0.5,0)', '[0, 0.5)', '[0.5,)']\n",
        "# Función de transformación basada en los límites y etiquetas\n",
        "transformer = preprocessing.FunctionTransformer(\n",
        "     pd.cut, kw_args={'bins': bins, 'labels': labels, 'retbins': False})\n",
        "# Discretización\n",
        "Xtr = transformer.fit_transform(X)\n",
        "Xtr"
      ],
      "metadata": {
        "colab": {
          "base_uri": "https://localhost:8080/"
        },
        "id": "R8lCfP8Oojma",
        "outputId": "104569d8-d85d-464b-dfea-59e46bdeab69"
      },
      "execution_count": null,
      "outputs": [
        {
          "output_type": "execute_result",
          "data": {
            "text/plain": [
              "['[0.5,)', '[0.5,)', '[0.5,)', '[0.5,)', '[0.5,)', ..., '[0.5,)', '[0.5,)', '[0.5,)', '[0.5,)', '[-0.5,0)']\n",
              "Length: 50\n",
              "Categories (4, object): ['(,-0.5)' < '[-0.5,0)' < '[0, 0.5)' < '[0.5,)']"
            ]
          },
          "metadata": {},
          "execution_count": 50
        }
      ]
    },
    {
      "cell_type": "markdown",
      "source": [
        "Así las intervalos en que se ha categorizado la variable original, junto con las frecuencias observadas en cada uno de ellos son:"
      ],
      "metadata": {
        "id": "bSqn3iaBOHFQ"
      }
    },
    {
      "cell_type": "code",
      "source": [
        "# Contamos el número de valores en cada intervalo\n",
        "np.unique(Xtr, return_counts = True)"
      ],
      "metadata": {
        "id": "YqBEdwYPOTlg",
        "colab": {
          "base_uri": "https://localhost:8080/"
        },
        "outputId": "d4c31bf6-1ed4-428a-99a0-c61007e4f742"
      },
      "execution_count": null,
      "outputs": [
        {
          "output_type": "execute_result",
          "data": {
            "text/plain": [
              "(array(['[-0.5,0)', '[0, 0.5)', '[0.5,)'], dtype=object), array([10, 13, 27]))"
            ]
          },
          "metadata": {},
          "execution_count": 77
        }
      ]
    },
    {
      "cell_type": "markdown",
      "source": [
        "### Transformar"
      ],
      "metadata": {
        "id": "Jlw235FZdeiI"
      }
    },
    {
      "cell_type": "markdown",
      "source": [
        "En este apartado vemos con detalle cómo definir funciones de transformación sobre las características de nuestra tabla de datos, si bien ya en el punto anterior hemos utilizado esta función para conseguir discretizar una variable con unos valores prestablecidos."
      ],
      "metadata": {
        "id": "xPWSHXnj1IXI"
      }
    },
    {
      "cell_type": "markdown",
      "source": [
        "#### Funciones"
      ],
      "metadata": {
        "id": "kdu2TuGNvC3j"
      }
    },
    {
      "cell_type": "markdown",
      "source": [
        "A veces, resulta necesario realizar una transformación sobre las característica numéricas de nuestra tabla de datos para por ejemplo conseguir linealizar una relación entre dos variables. En Scikit-Learn disponemos de la función [`FunctionTransformer`](https://scikit-learn.org/stable/modules/generated/sklearn.preprocessing.FunctionTransformer.html#sklearn.preprocessing.FunctionTransformer), que nos permite realizar distintos tipos de transformaciones complejas. Se recomienda visitar la ayuda de la función para conocer todas las posibilidades de transformaciones.\n",
        "\n",
        "Para transformaciones sencillas podemos utilizar las funciones en las librerías `Numpy` y `Math`.\n",
        "\n"
      ],
      "metadata": {
        "id": "FepfjEIA3QBQ"
      }
    },
    {
      "cell_type": "code",
      "source": [
        "# Importamos la función \n",
        "from sklearn.preprocessing import FunctionTransformer\n",
        "# creamos el entorno de transformación con la función logaritmo neperiano\n",
        "transformer = FunctionTransformer(np.log1p, validate=True)\n",
        "# definimos una matriz\n",
        "X = np.array([[0, 1], [2, 3]])\n",
        "# sobre la que aplicamos íntegramente la transformación\n",
        "X_transform = transformer.fit_transform(X)\n",
        "X_transform"
      ],
      "metadata": {
        "id": "818Qf5XD36kB",
        "colab": {
          "base_uri": "https://localhost:8080/"
        },
        "outputId": "646fd6f5-066e-4c61-b0eb-64bb440187a8"
      },
      "execution_count": null,
      "outputs": [
        {
          "output_type": "execute_result",
          "data": {
            "text/plain": [
              "array([[0.        , 0.69314718],\n",
              "       [1.09861229, 1.38629436]])"
            ]
          },
          "metadata": {},
          "execution_count": 51
        }
      ]
    },
    {
      "cell_type": "markdown",
      "source": [
        "#### Efectos polinómicos"
      ],
      "metadata": {
        "id": "izQgtXjN3EgC"
      }
    },
    {
      "cell_type": "markdown",
      "source": [
        "A menudo, es útil agregar complejidad a un modelo al considerar el comportamiento no lineal de los datos de entrada, sustituyendo los predictores numéricos originales, por predictores polinómicos. Mostramos dos posibilidades: la primera usa polinomios puros, mientras que la segunda usa *splines*, es decir, polinomios a trozos. Estas transformaciones añaden nuevas características a nuestra tabla de datos, en las que vienen recogidos los efectos polinómicos."
      ],
      "metadata": {
        "id": "SLiPLKiB6YHx"
      }
    },
    {
      "cell_type": "markdown",
      "source": [
        "Comenzamos con la situación más sencilla, en la que queremos añadir efectos polinómicos para las variables originales. Este proceso se puede implementar con Scikit-Learn mediante la función [`PolynomialFeatures()`](https://scikit-learn.org/stable/modules/generated/sklearn.preprocessing.PolynomialFeatures.html#sklearn.preprocessing.PolynomialFeatures). "
      ],
      "metadata": {
        "id": "olrDjfZs6jhe"
      }
    },
    {
      "cell_type": "markdown",
      "source": [
        "##### Ejemplo 10. Polinomios\n",
        "\n",
        "Consideramos, para ejemplificar el uso de esta función, un problema sencillo en el que partimos de dos variables, a las que deseamos añadir las posibles tendencias cuadráticas asociadas a ellas, es decir, tenemos $(X_1, X_2)$ y queremos obtener la matriz $(1, X_1, X_2, X_1^2, X_1X_2, X_2^2)$ que nos permitirá capturar tendencias cuadráticas en el tratamiento de datos.\n"
      ],
      "metadata": {
        "id": "hKIRlHmjhQI6"
      }
    },
    {
      "cell_type": "code",
      "source": [
        "# Importamos la función necesaria\n",
        "from sklearn.preprocessing import PolynomialFeatures\n",
        "\n",
        "# creamos la matriz de datos de dimensiones 10x2, redondeando a 2 decimales\n",
        "X = np.round(np.random.rand(10,2), decimals =2)\n",
        "X"
      ],
      "metadata": {
        "id": "yiHaRWU7_ke9",
        "colab": {
          "base_uri": "https://localhost:8080/"
        },
        "outputId": "16ab815d-e85f-4a3a-bd2f-5f0cde59af5e"
      },
      "execution_count": null,
      "outputs": [
        {
          "output_type": "execute_result",
          "data": {
            "text/plain": [
              "array([[0.4 , 0.49],\n",
              "       [0.31, 0.29],\n",
              "       [0.74, 0.58],\n",
              "       [0.51, 0.6 ],\n",
              "       [0.17, 0.65],\n",
              "       [0.48, 0.36],\n",
              "       [0.08, 0.84],\n",
              "       [0.72, 0.54],\n",
              "       [0.39, 0.95],\n",
              "       [0.86, 0.6 ]])"
            ]
          },
          "metadata": {},
          "execution_count": 54
        }
      ]
    },
    {
      "cell_type": "code",
      "source": [
        "# Creamos el polinomio de grado 2\n",
        "poly = PolynomialFeatures(2)\n",
        "# y aplicamos la transformación pretendida\n",
        "Xpoly = poly.fit_transform(X)\n",
        "Xpoly"
      ],
      "metadata": {
        "colab": {
          "base_uri": "https://localhost:8080/"
        },
        "id": "sRTR9o-9GO9y",
        "outputId": "6503f55f-945e-4178-c438-60b4b7592153"
      },
      "execution_count": null,
      "outputs": [
        {
          "output_type": "execute_result",
          "data": {
            "text/plain": [
              "array([[1.    , 0.4   , 0.49  , 0.16  , 0.196 , 0.2401],\n",
              "       [1.    , 0.31  , 0.29  , 0.0961, 0.0899, 0.0841],\n",
              "       [1.    , 0.74  , 0.58  , 0.5476, 0.4292, 0.3364],\n",
              "       [1.    , 0.51  , 0.6   , 0.2601, 0.306 , 0.36  ],\n",
              "       [1.    , 0.17  , 0.65  , 0.0289, 0.1105, 0.4225],\n",
              "       [1.    , 0.48  , 0.36  , 0.2304, 0.1728, 0.1296],\n",
              "       [1.    , 0.08  , 0.84  , 0.0064, 0.0672, 0.7056],\n",
              "       [1.    , 0.72  , 0.54  , 0.5184, 0.3888, 0.2916],\n",
              "       [1.    , 0.39  , 0.95  , 0.1521, 0.3705, 0.9025],\n",
              "       [1.    , 0.86  , 0.6   , 0.7396, 0.516 , 0.36  ]])"
            ]
          },
          "metadata": {},
          "execution_count": 55
        }
      ]
    },
    {
      "cell_type": "markdown",
      "source": [
        "Cuando no nos interesan los efectos cuadráticos $(X_1^2,X_2^2)$ pero sí las interacciones entre dos predictores, recogidas a través de su producto, $X_1 \\cdot X_2$, también podemos calcular la matriz $(1, X_1, X_2, X_1X_2)$ con esta función, especificando el argumento `interaction_only=True`."
      ],
      "metadata": {
        "id": "Zw1pQHE0HT5R"
      }
    },
    {
      "cell_type": "code",
      "source": [
        "poly = PolynomialFeatures(degree=2, interaction_only=True)\n",
        "poly.fit_transform(X)"
      ],
      "metadata": {
        "colab": {
          "base_uri": "https://localhost:8080/"
        },
        "id": "0Z1wCSDwhXwT",
        "outputId": "af2bf0af-3f9e-472a-8938-ef982dd33100"
      },
      "execution_count": null,
      "outputs": [
        {
          "output_type": "execute_result",
          "data": {
            "text/plain": [
              "array([[1.    , 0.4   , 0.49  , 0.196 ],\n",
              "       [1.    , 0.31  , 0.29  , 0.0899],\n",
              "       [1.    , 0.74  , 0.58  , 0.4292],\n",
              "       [1.    , 0.51  , 0.6   , 0.306 ],\n",
              "       [1.    , 0.17  , 0.65  , 0.1105],\n",
              "       [1.    , 0.48  , 0.36  , 0.1728],\n",
              "       [1.    , 0.08  , 0.84  , 0.0672],\n",
              "       [1.    , 0.72  , 0.54  , 0.3888],\n",
              "       [1.    , 0.39  , 0.95  , 0.3705],\n",
              "       [1.    , 0.86  , 0.6   , 0.516 ]])"
            ]
          },
          "metadata": {},
          "execution_count": 56
        }
      ]
    },
    {
      "cell_type": "markdown",
      "source": [
        "Otra forma de añadir complejidad en los predictores consiste en generar *splines*, a partir de ellos. Los splines son polinomios a trozos parametrizados por un grado polinómico y las posiciones de los nodos que definen los cortes de los trozos. La función `SplineTransformer` implementa una base *B-spline*, que  trata cada variable por separado, es decir, no genera términos de interacción.\n",
        "\n",
        "Algunas de las ventajas de los splines sobre los polinomios son:\n",
        "\n",
        "* Los *B-splines* son muy flexibles y robustos si se mantiene un grado bajo fijo, normalmente 3, y se adapta parsimoniosamente el número de nodos. Los polinomios por lo general un grado más alto para adaptar datos con cierta sinuosidad, lo que nos lleva al siguiente punto.\n",
        "\n",
        "* Los *B-splines* no tienen un comportamiento oscilante en los límites como los polinomios (cuanto más alto sea el grado, peor). Esto se conoce como el fenómeno de *Runge*.\n",
        "\n",
        "\n",
        "A continuación vemos un ejemplo sobre cómo obtener la transformación de splines."
      ],
      "metadata": {
        "id": "P__k57Q1in2g"
      }
    },
    {
      "cell_type": "markdown",
      "source": [
        "##### Ejemplo 11. Splines\n"
      ],
      "metadata": {
        "id": "MTQuoZBkoDEk"
      }
    },
    {
      "cell_type": "code",
      "source": [
        "np.arange(10)"
      ],
      "metadata": {
        "colab": {
          "base_uri": "https://localhost:8080/"
        },
        "id": "jQyXvYWgonoe",
        "outputId": "214cb05c-59a4-449b-f007-d9dc6d95730b"
      },
      "execution_count": null,
      "outputs": [
        {
          "output_type": "execute_result",
          "data": {
            "text/plain": [
              "array([0, 1, 2, 3, 4, 5, 6, 7, 8, 9])"
            ]
          },
          "metadata": {},
          "execution_count": 57
        }
      ]
    },
    {
      "cell_type": "code",
      "source": [
        "# Generamos una columna de datos\n",
        "X = np.arange(10).reshape(10, 1)\n",
        "X"
      ],
      "metadata": {
        "id": "WhGH1ESpjgho",
        "colab": {
          "base_uri": "https://localhost:8080/"
        },
        "outputId": "f0ca623a-0f28-45e6-b4e6-91d8a311aefb"
      },
      "execution_count": null,
      "outputs": [
        {
          "output_type": "execute_result",
          "data": {
            "text/plain": [
              "array([[0],\n",
              "       [1],\n",
              "       [2],\n",
              "       [3],\n",
              "       [4],\n",
              "       [5],\n",
              "       [6],\n",
              "       [7],\n",
              "       [8],\n",
              "       [9]])"
            ]
          },
          "metadata": {},
          "execution_count": 83
        }
      ]
    },
    {
      "cell_type": "code",
      "source": [
        "# Cargamos el módulo\n",
        "from sklearn.preprocessing import SplineTransformer\n",
        "# Preparamos la transformación con una base de grado 2, y con 3 nodos\n",
        "spline = SplineTransformer(degree=2, n_knots=3)\n",
        "# Resultado de la transformación\n",
        "spline.fit_transform(X)"
      ],
      "metadata": {
        "colab": {
          "base_uri": "https://localhost:8080/"
        },
        "id": "4-Gt7ekljmwj",
        "outputId": "092838f8-5e88-4763-9b98-052778423ce7"
      },
      "execution_count": null,
      "outputs": [
        {
          "output_type": "execute_result",
          "data": {
            "text/plain": [
              "array([[1.61078238e-02, 6.47271532e-01, 3.36620644e-01, 0.00000000e+00,\n",
              "        7.75941230e-02, 7.38751148e-01, 1.83654729e-01, 0.00000000e+00],\n",
              "       [8.41551611e-02, 7.41946088e-01, 1.73898751e-01, 0.00000000e+00,\n",
              "        5.00000000e-01, 5.00000000e-01, 0.00000000e+00, 0.00000000e+00],\n",
              "       [0.00000000e+00, 4.73372781e-02, 7.13017751e-01, 2.39644970e-01,\n",
              "        7.34618916e-03, 6.06519743e-01, 3.86134068e-01, 0.00000000e+00],\n",
              "       [0.00000000e+00, 4.02695595e-01, 5.92044707e-01, 5.25969757e-03,\n",
              "        1.83654729e-03, 5.56932966e-01, 4.41230487e-01, 0.00000000e+00],\n",
              "       [2.95857988e-01, 6.77514793e-01, 2.66272189e-02, 0.00000000e+00,\n",
              "        0.00000000e+00, 4.13223140e-01, 5.82644628e-01, 4.13223140e-03],\n",
              "       [0.00000000e+00, 4.74687705e-01, 5.24983563e-01, 3.28731098e-04,\n",
              "        3.10376492e-01, 6.67125803e-01, 2.24977043e-02, 0.00000000e+00],\n",
              "       [5.00000000e-01, 5.00000000e-01, 0.00000000e+00, 0.00000000e+00,\n",
              "        0.00000000e+00, 5.55555556e-02, 7.22222222e-01, 2.22222222e-01],\n",
              "       [0.00000000e+00, 6.44312952e-02, 7.30111769e-01, 2.05456936e-01,\n",
              "        2.93847567e-02, 6.83654729e-01, 2.86960514e-01, 0.00000000e+00],\n",
              "       [2.10387903e-02, 6.63050625e-01, 3.15910585e-01, 0.00000000e+00,\n",
              "        0.00000000e+00, 0.00000000e+00, 5.00000000e-01, 5.00000000e-01],\n",
              "       [0.00000000e+00, 0.00000000e+00, 5.00000000e-01, 5.00000000e-01,\n",
              "        1.83654729e-03, 5.56932966e-01, 4.41230487e-01, 0.00000000e+00]])"
            ]
          },
          "metadata": {},
          "execution_count": 58
        }
      ]
    },
    {
      "cell_type": "markdown",
      "source": [
        "Genera pues una matriz que contiene, para cada fila, los coeficientes de $(X,X^2)$ en cada uno de los 4 trozos generados por los 3 nodos."
      ],
      "metadata": {
        "id": "BGX9KGhBpl1a"
      }
    },
    {
      "cell_type": "markdown",
      "source": [
        "## <font color=\"steelblue\">División de muestras: entrenamiento y validación</font>"
      ],
      "metadata": {
        "id": "1TmW6j5YdoMF"
      }
    },
    {
      "cell_type": "markdown",
      "source": [
        "Un aspecto relevante en todos los modelos de aprendizaje automático es el entrenamiento del modelo con una muestra de datos razonablemente grande y denominada **muestra de entrenamiento**, y su posterior evaluación, con otra muestra que no se ha utilizado en el entrenamiento y que se utiliza para verificar la calidad del modelo obtenido para predecir datos que no han sido utilizados para entrenar el modelo, y que se denomina **muestra test**. Para ello es necesario dividir el conjunto de datos en dos partes o submatrices de muestras. \n",
        "\n",
        "Para obtener la división de muestras de entrenamiento y validación utilizamos la función `train_test_split` del módulo `sklearn.model_selection`. A continuación mostramos su funcionamiento sobre un banco de datos simulados. Tan sólo debemos fijar el porcentaje de muestras o datos a incluir en la muestra test."
      ],
      "metadata": {
        "id": "zLRIrofSDQCy"
      }
    },
    {
      "cell_type": "code",
      "source": [
        "# Importamos el módulo y la función correspondiente\n",
        "from sklearn.model_selection import train_test_split\n",
        "\n",
        "# Generamos la tabla de predictoras (100*20) y el vector de respuesta (100*1)\n",
        "X = np.round(np.random.rand(100,20), decimals =2)\n",
        "y = np.round(np.random.rand(100,1), decimals =2)"
      ],
      "metadata": {
        "id": "uwPhAh35C84w"
      },
      "execution_count": null,
      "outputs": []
    },
    {
      "cell_type": "markdown",
      "source": [
        "La matriz de datos contiene 100 muestras y 20 variables mientras que el vector de respuesta tiene 100 muestras.  Fijamos un 25% de datos para la muestra de validación, el valor de la semilla para la selección (aleatoria de datos) en ambos conjuntos, y obtenemos las correspondientes submuestras o subconjuntos de datos, con las proporciones asignadas: 75% para entrenar y 25% para validar."
      ],
      "metadata": {
        "id": "QuTKtg5epHg7"
      }
    },
    {
      "cell_type": "code",
      "source": [
        "# División de muestras\n",
        "X_train, X_test, y_train, y_test = train_test_split(X, y, test_size=0.25, random_state=42)\n",
        "# Monitorizamos las dimensiones de cada subconjunto\n",
        "print(X_train.shape); print(y_train.shape)\n",
        "print(X_test.shape); print(y_test.shape)"
      ],
      "metadata": {
        "colab": {
          "base_uri": "https://localhost:8080/"
        },
        "id": "naaQuGIuqGCv",
        "outputId": "f57d29c0-f187-40de-a0fe-76948c8659b3"
      },
      "execution_count": null,
      "outputs": [
        {
          "output_type": "stream",
          "name": "stdout",
          "text": [
            "(75, 20)\n",
            "(75, 1)\n",
            "(25, 20)\n",
            "(25, 1)\n"
          ]
        }
      ]
    },
    {
      "cell_type": "markdown",
      "source": [
        "## <font color=\"steelblue\">Preprocesado integral con Pipeline</font>"
      ],
      "metadata": {
        "id": "2J2LBeYxdyne"
      }
    },
    {
      "cell_type": "markdown",
      "source": [
        "El *pipeline* puede utilizarse para encadenar varios procesos de tratamiento de los datos o incluso diferentes modelos de aprendizaje con un código único y simplificado. Esto es útil porque a menudo hay una secuencia fija de pasos en el procesamiento de los datos, por ejemplo, la selección de características, la normalización y la clasificación. En este caso, los *pipeline* nos permiten estructurar de forma más limpia las tareas de preprocesado en una tabla de datos específica.\n",
        "\n"
      ],
      "metadata": {
        "id": "J1uZrPfVrtYN"
      }
    },
    {
      "cell_type": "markdown",
      "source": [
        "### Ejemplo 12\n"
      ],
      "metadata": {
        "id": "DAul5ovatUcm"
      }
    },
    {
      "cell_type": "markdown",
      "source": [
        "A continuación vemos cómo utilizar `pipeline` para el preprocesado de la tabla de datos `stroke`. En concreto organizamos todas las tareas correspondientes a la identificación de tipos, tratamiento de variables predictoras numéricas (imputación y estandarización), y tratamiento de variables predictoras categóricas (imputación y codificación). \n",
        "\n",
        "\n",
        "El primer paso es cargar la base de datos e identificar los tipos de todas las variables. Las de tipo 'object' e 'int64' son convertidas a categóricas."
      ],
      "metadata": {
        "id": "-DDrBz8TtPRi"
      }
    },
    {
      "cell_type": "code",
      "source": [
        "# Lectura de datos originales y transformación de tipos\n",
        "url = 'https://raw.githubusercontent.com/ia4legos/MachineLearning/main/data/stroke_ori.csv'\n",
        "stroke = pd.read_csv(url)\n",
        "\n",
        "# Establecimiento de tipos\n",
        "# Seleccionamos los nombres de la columnas de tipo 'object' \n",
        "cat_names = stroke.select_dtypes(include=['object']).columns.values\n",
        "# Convertimos dichas columnas a tipo category\n",
        "stroke[cat_names] = stroke[cat_names].astype(\"category\")\n",
        "# Seleccionamos los nombres de la columnas que corresponden con el tipo int64 que son cualitativas \n",
        "cat_names = stroke.select_dtypes(include=['int64']).columns.values\n",
        "# Convertimos dichas columnas a tipo category\n",
        "stroke[cat_names] = stroke[cat_names].astype(\"category\")\n"
      ],
      "metadata": {
        "id": "ByeWDubx7htK",
        "colab": {
          "base_uri": "https://localhost:8080/",
          "height": 235
        },
        "outputId": "2345d07f-e7fa-47c7-ba05-c88dc25d68b7"
      },
      "execution_count": 1,
      "outputs": [
        {
          "output_type": "error",
          "ename": "NameError",
          "evalue": "ignored",
          "traceback": [
            "\u001b[0;31m---------------------------------------------------------------------------\u001b[0m",
            "\u001b[0;31mNameError\u001b[0m                                 Traceback (most recent call last)",
            "\u001b[0;32m<ipython-input-1-a7b45249d85b>\u001b[0m in \u001b[0;36m<module>\u001b[0;34m\u001b[0m\n\u001b[1;32m      1\u001b[0m \u001b[0;31m# Lectura de datos originales y transformación de tipos\u001b[0m\u001b[0;34m\u001b[0m\u001b[0;34m\u001b[0m\u001b[0;34m\u001b[0m\u001b[0m\n\u001b[1;32m      2\u001b[0m \u001b[0murl\u001b[0m \u001b[0;34m=\u001b[0m \u001b[0;34m'https://raw.githubusercontent.com/ia4legos/MachineLearning/main/data/stroke_ori.csv'\u001b[0m\u001b[0;34m\u001b[0m\u001b[0;34m\u001b[0m\u001b[0m\n\u001b[0;32m----> 3\u001b[0;31m \u001b[0mstroke\u001b[0m \u001b[0;34m=\u001b[0m \u001b[0mpd\u001b[0m\u001b[0;34m.\u001b[0m\u001b[0mread_csv\u001b[0m\u001b[0;34m(\u001b[0m\u001b[0murl\u001b[0m\u001b[0;34m)\u001b[0m\u001b[0;34m\u001b[0m\u001b[0;34m\u001b[0m\u001b[0m\n\u001b[0m\u001b[1;32m      4\u001b[0m \u001b[0;34m\u001b[0m\u001b[0m\n\u001b[1;32m      5\u001b[0m \u001b[0;31m# Establecimiento de tipos\u001b[0m\u001b[0;34m\u001b[0m\u001b[0;34m\u001b[0m\u001b[0;34m\u001b[0m\u001b[0m\n",
            "\u001b[0;31mNameError\u001b[0m: name 'pd' is not defined"
          ]
        }
      ]
    },
    {
      "cell_type": "markdown",
      "source": [
        "Cargamos los módulos necesarios e identificamos las variables predictoras que serán sometidas al preprocesado. Si por ejemplo tenemos una variable de índice o si la variable objetivo está incluida en el banco de datos, debemos quitar dichas variables del preprocesado para que tratemos sólo las variables que sean necesarias para la construccicón del modelo de aprendizaje. Para el banco de datos `stroke` debemos quitar las variables `id` y `stroke`."
      ],
      "metadata": {
        "id": "lCFYYgeo8Xaa"
      }
    },
    {
      "cell_type": "code",
      "source": [
        "# Reconocemos la variable 'id' como índice identificador en la tabla de datos\n",
        "stroke.set_index(\"id\")\n",
        "# Seleccionamos variables numéricas para estandarización \n",
        "num_var = stroke.select_dtypes(include=['float64']).columns.values\n",
        "# Seleccionamos categóricas para codificación, excluyendo id y stroke\n",
        "cat_var = stroke.select_dtypes(include=['category']).columns.values[1:8]\n",
        "print(num_var)\n",
        "print(cat_var)\n",
        "# Separamos los datos según variables numéricas y categóricas\n",
        "stroke_num_var = stroke[num_var]\n",
        "stroke_cat_var = stroke[cat_var]"
      ],
      "metadata": {
        "id": "YM5tWdYF8dIn"
      },
      "execution_count": null,
      "outputs": []
    },
    {
      "cell_type": "markdown",
      "source": [
        "Establecemos ahora el pipeline para variables numéricas. En este caso procedemos primero con la imputación y a continuación con la estandarización. Utilizamos la mediana como estrategia de imputación."
      ],
      "metadata": {
        "id": "ou8R7XsJCx4E"
      }
    },
    {
      "cell_type": "code",
      "source": [
        "# Cargamos todos los módulos y funciones\n",
        "from sklearn.pipeline import Pipeline\n",
        "from sklearn.compose import ColumnTransformer\n",
        "from sklearn.impute import SimpleImputer\n",
        "from sklearn.preprocessing import OneHotEncoder\n",
        "from sklearn.preprocessing import StandardScaler \n",
        "\n",
        "# Inicializamos el Pipeline\n",
        "num_var_pipe = Pipeline([\n",
        "                  ('imputer', SimpleImputer(strategy='median')), \n",
        "                  ('scaler', StandardScaler())         \n",
        "            ])\n",
        "# Lo aplicamos a las variables numéricas\n",
        "num_var_preprocessed = num_var_pipe.fit_transform(stroke_num_var)\n",
        "# Resultado del preprocesado\n",
        "num_var_preprocessed"
      ],
      "metadata": {
        "id": "YUiwA25wC4eV"
      },
      "execution_count": null,
      "outputs": []
    },
    {
      "cell_type": "markdown",
      "source": [
        "Procedemos ahora con las variables categóricas que, como no teníamos valores pérdidos, la única tarea de preprocesado a realizar es la codificación."
      ],
      "metadata": {
        "id": "jbU177_CyP32"
      }
    },
    {
      "cell_type": "code",
      "source": [
        "# Pipeline\n",
        "cat_var_pipe = Pipeline([\n",
        "     ('encoder', OneHotEncoder())                      \n",
        "])\n",
        "# Resultado del preprocesado\n",
        "cat_var_preprocessed = cat_var_pipe.fit_transform(stroke_cat_var)\n",
        "cat_var_preprocessed"
      ],
      "metadata": {
        "id": "TKWa2poEzAVn"
      },
      "execution_count": null,
      "outputs": []
    },
    {
      "cell_type": "markdown",
      "source": [
        "También podemos utilizar los *pipeline* anteriores, diferenciando para cada tipo de variable, con el objetivo de establecer un pipeline conjunto y único para toda la tabla de datos. En este caso debemos pasar como listas las matrices de variables de cada tipo."
      ],
      "metadata": {
        "id": "UzuPwlhY08BQ"
      }
    },
    {
      "cell_type": "code",
      "source": [
        "# Lista de variables por tipo\n",
        "num_list = list(stroke_num_var)\n",
        "cat_list = list(stroke_cat_var)\n",
        "# Pipeline conjunto a partir de los pipeline individuales\n",
        "final_pipe = ColumnTransformer([\n",
        "   ('num', num_var_pipe, num_list),    \n",
        "   ('cat', cat_var_pipe, cat_list)                        \n",
        "])\n",
        "# Obtenemos el array de datos preprocesados\n",
        "data_preprocessed = final_pipe.fit_transform(stroke)\n",
        "data_preprocessed"
      ],
      "metadata": {
        "id": "It_kdRhj07b_"
      },
      "execution_count": null,
      "outputs": []
    },
    {
      "cell_type": "markdown",
      "source": [
        "El problema con el preprocesado en las variables categóricas es que por defecto no aparecen los nombres de las nuevas variables. Resulta necesario extraerlos e integrarlos todos en un dataframe para la correcta implementación de los modelos de aprendizaje automático. Estos nombres de las variables se pueden extraer de los pipeline establecidos. A continuación se muestra el código necesario."
      ],
      "metadata": {
        "id": "3PS94ktv9-yd"
      }
    },
    {
      "cell_type": "code",
      "source": [
        "# Pasos del pipeline\n",
        "clf = Pipeline(steps=[('preprocessor', final_pipe)])\n",
        "# Extraemos los nombres utilizando como raíz el nombre de la variable original y como sufijo la etiqueta correspondiente\n",
        "names_cat = clf.named_steps['preprocessor'].transformers_[1][1].named_steps['encoder'].get_feature_names_out(cat_list)\n",
        "names_cat"
      ],
      "metadata": {
        "id": "vxgcWyeu7Rz8"
      },
      "execution_count": null,
      "outputs": []
    },
    {
      "cell_type": "markdown",
      "source": [
        "Construimos a continuación el dataframe con todas las variables, uniendo las variables numéricas y categóricas preprocesadas."
      ],
      "metadata": {
        "id": "p20lYjv2RDvP"
      }
    },
    {
      "cell_type": "code",
      "source": [
        "# Nombres de las variables\n",
        "names = np.concatenate((num_var, names_cat), axis = None)\n",
        "# Dataframe completo de datos con variables predictoras\n",
        "stroke_prepro = pd.DataFrame(data_preprocessed, columns = names)\n",
        "# se añade la variable respuesta u objetivo\n",
        "stroke_prepro['stroke'] = stroke['stroke']\n",
        "# se monitorizan los primeros elementos\n",
        "stroke_prepro.head()"
      ],
      "metadata": {
        "id": "r1p5XUAq1OBU"
      },
      "execution_count": null,
      "outputs": []
    },
    {
      "cell_type": "code",
      "source": [
        "# Añadimos tambien la variable 0-1 asociada a la variable objetivo\n",
        "stroke_prepro['stroke_code'] = stroke_prepro['stroke'].copy()\n",
        "stroke_prepro.stroke_code.replace({\"Yes\": 1,  \"No\": 0}, inplace=True)\n",
        "# resultado del proceso\n",
        "stroke_prepro.head()"
      ],
      "metadata": {
        "id": "p5deFesj2qcs"
      },
      "execution_count": null,
      "outputs": []
    },
    {
      "cell_type": "markdown",
      "source": [
        "Guardamos el fichero preprocesado en un fichero .csv, preparado para desarrollar análisis posteriores."
      ],
      "metadata": {
        "id": "MqKuNsWutuWk"
      }
    },
    {
      "cell_type": "code",
      "source": [
        "stroke_prepro.to_csv(\"stroke_clean.csv\", index = False)"
      ],
      "metadata": {
        "id": "lpXLMsPVtnLf"
      },
      "execution_count": null,
      "outputs": []
    },
    {
      "cell_type": "markdown",
      "source": [
        "Antes de finalizar este apartado es interesante recordar que podemos añadir más funciones de preprocesado dentro de cada pipeline como puede ser: imputaciones en variables categóricas, tendencias polinómicas en variables numéricas, etc... que iremos estudiando en cuadernos posteriores."
      ],
      "metadata": {
        "id": "7w7kKhgSm_O-"
      }
    },
    {
      "cell_type": "markdown",
      "source": [
        "# <font color=\"steelblue\">Referencias y enlaces de interés</font>"
      ],
      "metadata": {
        "id": "u6SCdV2q9zaE"
      }
    },
    {
      "cell_type": "markdown",
      "source": [
        "Los recursos utilizados para elaborar este módulo de aprendizaje han sido:\n",
        "\n",
        "* https://scikit-learn.org/stable/tutorial/basic/tutorial.html\n",
        "   \n",
        "* https://anderfernandez.com/blog/tutorial-sklearn-machine-learning-python/\n",
        "\n",
        "* Aurélien Géron (2019). Hands-On Machine Learning with Scikit-Learn, Keras, and Tensorflow: Concepts, Tools, and Techniques to Build Intelligent Systems. O’Reilly Media.\n",
        "\n",
        "* Peters Morgan (2018). Data Analysis From Scratch With Python: Beginner Guide using Python, Pandas, NumPy, Scikit-Learn, IPython, TensorFlow and Matplotlib. AI Sciences LLC.\n",
        "\n",
        "* Sebastian Raschka, Vahid Mirjalili (2017). Python Machine Learning: Machine Learning and Deep Learning with Python, scikit-learn, and TensorFlow. Packt Publishing.\n",
        "\n",
        "* Julian Avila (2017). Scikit-Learn Cookbook: Over 80 Recipes for Machine Learning in Python With Scikit-Learn. Packt Publishing\n",
        "\n",
        "\n",
        "\n",
        "\n",
        "\n"
      ],
      "metadata": {
        "id": "YjaXLYPjoriz"
      }
    }
  ]
}